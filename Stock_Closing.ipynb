{
 "cells": [
  {
   "cell_type": "code",
   "execution_count": 1,
   "metadata": {},
   "outputs": [],
   "source": [
    "import pandas as pd\n",
    "from pathlib import Path\n",
    "import glob\n",
    "from sklearn.model_selection import train_test_split\n",
    "from sklearn.linear_model import LinearRegression\n",
    "from sklearn import metrics\n",
    "import numpy as np\n",
    "from math import sqrt\n",
    "import matplotlib.pyplot as plt\n",
    "%matplotlib inline\n",
    "import seaborn as sns\n",
    "import pickle\n",
    "import pandas_profiling"
   ]
  },
  {
   "cell_type": "code",
   "execution_count": 2,
   "metadata": {},
   "outputs": [
    {
     "data": {
      "text/plain": [
       "PosixPath('/Users/germanportes/Documents/general_assembly/projects/final_project')"
      ]
     },
     "execution_count": 2,
     "metadata": {},
     "output_type": "execute_result"
    }
   ],
   "source": [
    "home = Path.cwd()\n",
    "home"
   ]
  },
  {
   "cell_type": "code",
   "execution_count": 3,
   "metadata": {},
   "outputs": [
    {
     "data": {
      "text/html": [
       "<div>\n",
       "<style scoped>\n",
       "    .dataframe tbody tr th:only-of-type {\n",
       "        vertical-align: middle;\n",
       "    }\n",
       "\n",
       "    .dataframe tbody tr th {\n",
       "        vertical-align: top;\n",
       "    }\n",
       "\n",
       "    .dataframe thead th {\n",
       "        text-align: right;\n",
       "    }\n",
       "</style>\n",
       "<table border=\"1\" class=\"dataframe\">\n",
       "  <thead>\n",
       "    <tr style=\"text-align: right;\">\n",
       "      <th></th>\n",
       "      <th>Date</th>\n",
       "      <th>High</th>\n",
       "      <th>Low</th>\n",
       "      <th>Open</th>\n",
       "      <th>Close</th>\n",
       "      <th>Volume</th>\n",
       "      <th>Adj Close</th>\n",
       "      <th>HL_pct_diff</th>\n",
       "      <th>daily_pct_chng</th>\n",
       "      <th>ticker</th>\n",
       "    </tr>\n",
       "  </thead>\n",
       "  <tbody>\n",
       "    <tr>\n",
       "      <td>467913</td>\n",
       "      <td>2017-05-04</td>\n",
       "      <td>51.082863</td>\n",
       "      <td>50.254238</td>\n",
       "      <td>50.508476</td>\n",
       "      <td>50.866291</td>\n",
       "      <td>3022900.0</td>\n",
       "      <td>47.516891</td>\n",
       "      <td>0.016489</td>\n",
       "      <td>0.007084</td>\n",
       "      <td>VFC</td>\n",
       "    </tr>\n",
       "    <tr>\n",
       "      <td>104305</td>\n",
       "      <td>2016-08-29</td>\n",
       "      <td>22.709999</td>\n",
       "      <td>22.360001</td>\n",
       "      <td>22.360001</td>\n",
       "      <td>22.670000</td>\n",
       "      <td>2742100.0</td>\n",
       "      <td>20.108564</td>\n",
       "      <td>0.015653</td>\n",
       "      <td>0.013864</td>\n",
       "      <td>CNP</td>\n",
       "    </tr>\n",
       "    <tr>\n",
       "      <td>472659</td>\n",
       "      <td>2016-03-04</td>\n",
       "      <td>77.230003</td>\n",
       "      <td>75.510002</td>\n",
       "      <td>76.400002</td>\n",
       "      <td>76.699997</td>\n",
       "      <td>913500.0</td>\n",
       "      <td>76.296791</td>\n",
       "      <td>0.022778</td>\n",
       "      <td>0.003927</td>\n",
       "      <td>VRSK</td>\n",
       "    </tr>\n",
       "    <tr>\n",
       "      <td>108884</td>\n",
       "      <td>2018-10-30</td>\n",
       "      <td>45.669998</td>\n",
       "      <td>44.189999</td>\n",
       "      <td>44.369999</td>\n",
       "      <td>45.570000</td>\n",
       "      <td>11310800.0</td>\n",
       "      <td>44.899918</td>\n",
       "      <td>0.033492</td>\n",
       "      <td>0.027045</td>\n",
       "      <td>SCHW</td>\n",
       "    </tr>\n",
       "    <tr>\n",
       "      <td>395397</td>\n",
       "      <td>2016-11-18</td>\n",
       "      <td>86.040001</td>\n",
       "      <td>85.239998</td>\n",
       "      <td>85.680000</td>\n",
       "      <td>85.540001</td>\n",
       "      <td>2544000.0</td>\n",
       "      <td>80.096771</td>\n",
       "      <td>0.009385</td>\n",
       "      <td>-0.001634</td>\n",
       "      <td>DGX</td>\n",
       "    </tr>\n",
       "    <tr>\n",
       "      <td>281837</td>\n",
       "      <td>2016-06-22</td>\n",
       "      <td>18.920000</td>\n",
       "      <td>18.420000</td>\n",
       "      <td>18.799999</td>\n",
       "      <td>18.510000</td>\n",
       "      <td>13901500.0</td>\n",
       "      <td>16.497961</td>\n",
       "      <td>0.027144</td>\n",
       "      <td>-0.015425</td>\n",
       "      <td>KMI</td>\n",
       "    </tr>\n",
       "    <tr>\n",
       "      <td>183891</td>\n",
       "      <td>2019-07-31</td>\n",
       "      <td>188.740005</td>\n",
       "      <td>182.100006</td>\n",
       "      <td>188.520004</td>\n",
       "      <td>184.190002</td>\n",
       "      <td>1925700.0</td>\n",
       "      <td>183.798981</td>\n",
       "      <td>0.036463</td>\n",
       "      <td>-0.022968</td>\n",
       "      <td>EL</td>\n",
       "    </tr>\n",
       "    <tr>\n",
       "      <td>393754</td>\n",
       "      <td>2018-04-06</td>\n",
       "      <td>34.509998</td>\n",
       "      <td>33.119999</td>\n",
       "      <td>34.270000</td>\n",
       "      <td>33.720001</td>\n",
       "      <td>1290400.0</td>\n",
       "      <td>33.569302</td>\n",
       "      <td>0.041969</td>\n",
       "      <td>-0.016049</td>\n",
       "      <td>PWR</td>\n",
       "    </tr>\n",
       "    <tr>\n",
       "      <td>292411</td>\n",
       "      <td>2019-07-23</td>\n",
       "      <td>40.250000</td>\n",
       "      <td>39.299999</td>\n",
       "      <td>39.759998</td>\n",
       "      <td>40.180000</td>\n",
       "      <td>1243700.0</td>\n",
       "      <td>39.797699</td>\n",
       "      <td>0.024173</td>\n",
       "      <td>0.010563</td>\n",
       "      <td>LEG</td>\n",
       "    </tr>\n",
       "    <tr>\n",
       "      <td>344848</td>\n",
       "      <td>2015-11-06</td>\n",
       "      <td>15.600000</td>\n",
       "      <td>14.800000</td>\n",
       "      <td>15.420000</td>\n",
       "      <td>15.140000</td>\n",
       "      <td>1701700.0</td>\n",
       "      <td>14.271683</td>\n",
       "      <td>0.054054</td>\n",
       "      <td>-0.018158</td>\n",
       "      <td>NWS</td>\n",
       "    </tr>\n",
       "  </tbody>\n",
       "</table>\n",
       "</div>"
      ],
      "text/plain": [
       "              Date        High         Low        Open       Close  \\\n",
       "467913  2017-05-04   51.082863   50.254238   50.508476   50.866291   \n",
       "104305  2016-08-29   22.709999   22.360001   22.360001   22.670000   \n",
       "472659  2016-03-04   77.230003   75.510002   76.400002   76.699997   \n",
       "108884  2018-10-30   45.669998   44.189999   44.369999   45.570000   \n",
       "395397  2016-11-18   86.040001   85.239998   85.680000   85.540001   \n",
       "281837  2016-06-22   18.920000   18.420000   18.799999   18.510000   \n",
       "183891  2019-07-31  188.740005  182.100006  188.520004  184.190002   \n",
       "393754  2018-04-06   34.509998   33.119999   34.270000   33.720001   \n",
       "292411  2019-07-23   40.250000   39.299999   39.759998   40.180000   \n",
       "344848  2015-11-06   15.600000   14.800000   15.420000   15.140000   \n",
       "\n",
       "            Volume   Adj Close  HL_pct_diff  daily_pct_chng ticker  \n",
       "467913   3022900.0   47.516891     0.016489        0.007084    VFC  \n",
       "104305   2742100.0   20.108564     0.015653        0.013864    CNP  \n",
       "472659    913500.0   76.296791     0.022778        0.003927   VRSK  \n",
       "108884  11310800.0   44.899918     0.033492        0.027045   SCHW  \n",
       "395397   2544000.0   80.096771     0.009385       -0.001634    DGX  \n",
       "281837  13901500.0   16.497961     0.027144       -0.015425    KMI  \n",
       "183891   1925700.0  183.798981     0.036463       -0.022968     EL  \n",
       "393754   1290400.0   33.569302     0.041969       -0.016049    PWR  \n",
       "292411   1243700.0   39.797699     0.024173        0.010563    LEG  \n",
       "344848   1701700.0   14.271683     0.054054       -0.018158    NWS  "
      ]
     },
     "execution_count": 3,
     "metadata": {},
     "output_type": "execute_result"
    }
   ],
   "source": [
    "stocks = pd.read_csv(\"../final_project/sp500_1.csv\")\n",
    "#stocks = pd.read_csv(\"../final_project/sp500_1.csv\").profile_report()\n",
    "stocks.sample(10)"
   ]
  },
  {
   "cell_type": "code",
   "execution_count": 4,
   "metadata": {},
   "outputs": [],
   "source": [
    "# simple rolling average\n",
    "stocks['SMA_5'] = stocks.iloc[:,1].rolling(window=5).mean()"
   ]
  },
  {
   "cell_type": "code",
   "execution_count": 5,
   "metadata": {},
   "outputs": [
    {
     "data": {
      "text/html": [
       "<div>\n",
       "<style scoped>\n",
       "    .dataframe tbody tr th:only-of-type {\n",
       "        vertical-align: middle;\n",
       "    }\n",
       "\n",
       "    .dataframe tbody tr th {\n",
       "        vertical-align: top;\n",
       "    }\n",
       "\n",
       "    .dataframe thead th {\n",
       "        text-align: right;\n",
       "    }\n",
       "</style>\n",
       "<table border=\"1\" class=\"dataframe\">\n",
       "  <thead>\n",
       "    <tr style=\"text-align: right;\">\n",
       "      <th></th>\n",
       "      <th>Date</th>\n",
       "      <th>High</th>\n",
       "      <th>Low</th>\n",
       "      <th>Open</th>\n",
       "      <th>Close</th>\n",
       "      <th>Volume</th>\n",
       "      <th>Adj Close</th>\n",
       "      <th>HL_pct_diff</th>\n",
       "      <th>daily_pct_chng</th>\n",
       "      <th>ticker</th>\n",
       "      <th>SMA_5</th>\n",
       "    </tr>\n",
       "  </thead>\n",
       "  <tbody>\n",
       "    <tr>\n",
       "      <td>42514</td>\n",
       "      <td>2019-06-19</td>\n",
       "      <td>183.119995</td>\n",
       "      <td>180.639999</td>\n",
       "      <td>181.479996</td>\n",
       "      <td>182.770004</td>\n",
       "      <td>2396500.0</td>\n",
       "      <td>181.484268</td>\n",
       "      <td>0.013729</td>\n",
       "      <td>0.007108</td>\n",
       "      <td>AMGN</td>\n",
       "      <td>179.967999</td>\n",
       "    </tr>\n",
       "    <tr>\n",
       "      <td>366460</td>\n",
       "      <td>2017-08-14</td>\n",
       "      <td>109.889999</td>\n",
       "      <td>108.080002</td>\n",
       "      <td>108.370003</td>\n",
       "      <td>109.129997</td>\n",
       "      <td>737700.0</td>\n",
       "      <td>102.620415</td>\n",
       "      <td>0.016747</td>\n",
       "      <td>0.007013</td>\n",
       "      <td>PKG</td>\n",
       "      <td>109.670000</td>\n",
       "    </tr>\n",
       "    <tr>\n",
       "      <td>298909</td>\n",
       "      <td>2017-05-03</td>\n",
       "      <td>269.950012</td>\n",
       "      <td>268.200012</td>\n",
       "      <td>268.750000</td>\n",
       "      <td>269.600006</td>\n",
       "      <td>636500.0</td>\n",
       "      <td>253.045288</td>\n",
       "      <td>0.006525</td>\n",
       "      <td>0.003163</td>\n",
       "      <td>LMT</td>\n",
       "      <td>270.847998</td>\n",
       "    </tr>\n",
       "    <tr>\n",
       "      <td>185003</td>\n",
       "      <td>2015-12-24</td>\n",
       "      <td>51.919998</td>\n",
       "      <td>51.459999</td>\n",
       "      <td>51.610001</td>\n",
       "      <td>51.740002</td>\n",
       "      <td>672600.0</td>\n",
       "      <td>45.972004</td>\n",
       "      <td>0.008939</td>\n",
       "      <td>0.002519</td>\n",
       "      <td>ES</td>\n",
       "      <td>51.368000</td>\n",
       "    </tr>\n",
       "    <tr>\n",
       "      <td>267920</td>\n",
       "      <td>2017-03-31</td>\n",
       "      <td>94.019997</td>\n",
       "      <td>93.070000</td>\n",
       "      <td>93.860001</td>\n",
       "      <td>93.099998</td>\n",
       "      <td>351600.0</td>\n",
       "      <td>90.476357</td>\n",
       "      <td>0.010207</td>\n",
       "      <td>-0.008097</td>\n",
       "      <td>JKHY</td>\n",
       "      <td>94.097998</td>\n",
       "    </tr>\n",
       "  </tbody>\n",
       "</table>\n",
       "</div>"
      ],
      "text/plain": [
       "              Date        High         Low        Open       Close     Volume  \\\n",
       "42514   2019-06-19  183.119995  180.639999  181.479996  182.770004  2396500.0   \n",
       "366460  2017-08-14  109.889999  108.080002  108.370003  109.129997   737700.0   \n",
       "298909  2017-05-03  269.950012  268.200012  268.750000  269.600006   636500.0   \n",
       "185003  2015-12-24   51.919998   51.459999   51.610001   51.740002   672600.0   \n",
       "267920  2017-03-31   94.019997   93.070000   93.860001   93.099998   351600.0   \n",
       "\n",
       "         Adj Close  HL_pct_diff  daily_pct_chng ticker       SMA_5  \n",
       "42514   181.484268     0.013729        0.007108   AMGN  179.967999  \n",
       "366460  102.620415     0.016747        0.007013    PKG  109.670000  \n",
       "298909  253.045288     0.006525        0.003163    LMT  270.847998  \n",
       "185003   45.972004     0.008939        0.002519     ES   51.368000  \n",
       "267920   90.476357     0.010207       -0.008097   JKHY   94.097998  "
      ]
     },
     "execution_count": 5,
     "metadata": {},
     "output_type": "execute_result"
    }
   ],
   "source": [
    "stocks.sample(5)"
   ]
  },
  {
   "cell_type": "code",
   "execution_count": 6,
   "metadata": {},
   "outputs": [
    {
     "data": {
      "text/plain": [
       "Date              0\n",
       "High              0\n",
       "Low               0\n",
       "Open              0\n",
       "Close             0\n",
       "Volume            0\n",
       "Adj Close         0\n",
       "HL_pct_diff       0\n",
       "daily_pct_chng    0\n",
       "ticker            0\n",
       "SMA_5             4\n",
       "dtype: int64"
      ]
     },
     "execution_count": 6,
     "metadata": {},
     "output_type": "execute_result"
    }
   ],
   "source": [
    "# any missing data\n",
    "stocks.isnull().sum()"
   ]
  },
  {
   "cell_type": "code",
   "execution_count": 7,
   "metadata": {},
   "outputs": [
    {
     "data": {
      "text/plain": [
       "(505207, 11)"
      ]
     },
     "execution_count": 7,
     "metadata": {},
     "output_type": "execute_result"
    }
   ],
   "source": [
    "#size\n",
    "stocks.shape"
   ]
  },
  {
   "cell_type": "code",
   "execution_count": 8,
   "metadata": {},
   "outputs": [
    {
     "data": {
      "text/plain": [
       "count    505207.000000\n",
       "mean        106.499921\n",
       "std         171.910724\n",
       "min           1.740000\n",
       "25%          44.410000\n",
       "50%          72.330002\n",
       "75%         116.739998\n",
       "max        3766.270020\n",
       "Name: Close, dtype: float64"
      ]
     },
     "execution_count": 8,
     "metadata": {},
     "output_type": "execute_result"
    }
   ],
   "source": [
    "# Establish our target variables: \"runs\"\n",
    "stocks['Close'].describe()"
   ]
  },
  {
   "cell_type": "code",
   "execution_count": null,
   "metadata": {},
   "outputs": [],
   "source": []
  },
  {
   "cell_type": "code",
   "execution_count": 9,
   "metadata": {},
   "outputs": [
    {
     "data": {
      "text/plain": [
       "505"
      ]
     },
     "execution_count": 9,
     "metadata": {},
     "output_type": "execute_result"
    }
   ],
   "source": [
    "# How many unique companies are there?\n",
    "stocks['ticker'].nunique()"
   ]
  },
  {
   "cell_type": "code",
   "execution_count": 10,
   "metadata": {},
   "outputs": [
    {
     "data": {
      "text/html": [
       "<div>\n",
       "<style scoped>\n",
       "    .dataframe tbody tr th:only-of-type {\n",
       "        vertical-align: middle;\n",
       "    }\n",
       "\n",
       "    .dataframe tbody tr th {\n",
       "        vertical-align: top;\n",
       "    }\n",
       "\n",
       "    .dataframe thead th {\n",
       "        text-align: right;\n",
       "    }\n",
       "</style>\n",
       "<table border=\"1\" class=\"dataframe\">\n",
       "  <thead>\n",
       "    <tr style=\"text-align: right;\">\n",
       "      <th></th>\n",
       "      <th>Date</th>\n",
       "      <th>High</th>\n",
       "      <th>Low</th>\n",
       "      <th>Open</th>\n",
       "      <th>Close</th>\n",
       "      <th>Volume</th>\n",
       "      <th>Adj Close</th>\n",
       "      <th>HL_pct_diff</th>\n",
       "      <th>daily_pct_chng</th>\n",
       "      <th>ticker</th>\n",
       "      <th>SMA_5</th>\n",
       "    </tr>\n",
       "  </thead>\n",
       "  <tbody>\n",
       "    <tr>\n",
       "      <td>315332</td>\n",
       "      <td>2018-08-14</td>\n",
       "      <td>61.830002</td>\n",
       "      <td>60.720001</td>\n",
       "      <td>61.700001</td>\n",
       "      <td>60.730000</td>\n",
       "      <td>2041300.0</td>\n",
       "      <td>58.228992</td>\n",
       "      <td>0.018281</td>\n",
       "      <td>-0.015721</td>\n",
       "      <td>MXIM</td>\n",
       "      <td>62.774001</td>\n",
       "    </tr>\n",
       "    <tr>\n",
       "      <td>46564</td>\n",
       "      <td>2019-07-16</td>\n",
       "      <td>307.760010</td>\n",
       "      <td>303.089996</td>\n",
       "      <td>307.510010</td>\n",
       "      <td>305.410004</td>\n",
       "      <td>994400.0</td>\n",
       "      <td>304.430267</td>\n",
       "      <td>0.015408</td>\n",
       "      <td>-0.006829</td>\n",
       "      <td>ANTM</td>\n",
       "      <td>304.829999</td>\n",
       "    </tr>\n",
       "    <tr>\n",
       "      <td>134733</td>\n",
       "      <td>2017-05-30</td>\n",
       "      <td>181.289993</td>\n",
       "      <td>179.490005</td>\n",
       "      <td>180.029999</td>\n",
       "      <td>180.509995</td>\n",
       "      <td>1416500.0</td>\n",
       "      <td>175.219757</td>\n",
       "      <td>0.010028</td>\n",
       "      <td>0.002666</td>\n",
       "      <td>STZ</td>\n",
       "      <td>182.313998</td>\n",
       "    </tr>\n",
       "    <tr>\n",
       "      <td>191713</td>\n",
       "      <td>2018-08-13</td>\n",
       "      <td>79.750000</td>\n",
       "      <td>78.430000</td>\n",
       "      <td>79.449997</td>\n",
       "      <td>78.559998</td>\n",
       "      <td>10308500.0</td>\n",
       "      <td>75.112045</td>\n",
       "      <td>0.016830</td>\n",
       "      <td>-0.011202</td>\n",
       "      <td>XOM</td>\n",
       "      <td>80.600000</td>\n",
       "    </tr>\n",
       "    <tr>\n",
       "      <td>218065</td>\n",
       "      <td>2018-10-22</td>\n",
       "      <td>44.900002</td>\n",
       "      <td>43.860001</td>\n",
       "      <td>44.529999</td>\n",
       "      <td>44.150002</td>\n",
       "      <td>3436500.0</td>\n",
       "      <td>42.427784</td>\n",
       "      <td>0.023712</td>\n",
       "      <td>-0.008534</td>\n",
       "      <td>GIS</td>\n",
       "      <td>44.596000</td>\n",
       "    </tr>\n",
       "    <tr>\n",
       "      <td>301114</td>\n",
       "      <td>2018-02-01</td>\n",
       "      <td>105.080002</td>\n",
       "      <td>103.250000</td>\n",
       "      <td>103.839996</td>\n",
       "      <td>103.860001</td>\n",
       "      <td>4922900.0</td>\n",
       "      <td>100.870720</td>\n",
       "      <td>0.017724</td>\n",
       "      <td>0.000193</td>\n",
       "      <td>LOW</td>\n",
       "      <td>106.639999</td>\n",
       "    </tr>\n",
       "    <tr>\n",
       "      <td>82225</td>\n",
       "      <td>2017-01-17</td>\n",
       "      <td>23.959999</td>\n",
       "      <td>23.629999</td>\n",
       "      <td>23.660000</td>\n",
       "      <td>23.900000</td>\n",
       "      <td>8601600.0</td>\n",
       "      <td>23.900000</td>\n",
       "      <td>0.013965</td>\n",
       "      <td>0.010144</td>\n",
       "      <td>BSX</td>\n",
       "      <td>23.768000</td>\n",
       "    </tr>\n",
       "    <tr>\n",
       "      <td>102039</td>\n",
       "      <td>2019-09-04</td>\n",
       "      <td>114.379997</td>\n",
       "      <td>112.879997</td>\n",
       "      <td>113.330002</td>\n",
       "      <td>113.820000</td>\n",
       "      <td>829300.0</td>\n",
       "      <td>113.820000</td>\n",
       "      <td>0.013288</td>\n",
       "      <td>0.004324</td>\n",
       "      <td>CE</td>\n",
       "      <td>112.634000</td>\n",
       "    </tr>\n",
       "    <tr>\n",
       "      <td>419426</td>\n",
       "      <td>2016-06-20</td>\n",
       "      <td>66.620003</td>\n",
       "      <td>64.739998</td>\n",
       "      <td>64.949997</td>\n",
       "      <td>65.949997</td>\n",
       "      <td>3590100.0</td>\n",
       "      <td>62.638302</td>\n",
       "      <td>0.029039</td>\n",
       "      <td>0.015396</td>\n",
       "      <td>SWKS</td>\n",
       "      <td>65.400002</td>\n",
       "    </tr>\n",
       "    <tr>\n",
       "      <td>182781</td>\n",
       "      <td>2019-03-06</td>\n",
       "      <td>282.739990</td>\n",
       "      <td>281.100006</td>\n",
       "      <td>282.070007</td>\n",
       "      <td>281.369995</td>\n",
       "      <td>292900.0</td>\n",
       "      <td>275.958221</td>\n",
       "      <td>0.005834</td>\n",
       "      <td>-0.002482</td>\n",
       "      <td>ESS</td>\n",
       "      <td>282.525995</td>\n",
       "    </tr>\n",
       "    <tr>\n",
       "      <td>452703</td>\n",
       "      <td>2016-11-04</td>\n",
       "      <td>64.050003</td>\n",
       "      <td>62.310001</td>\n",
       "      <td>62.310001</td>\n",
       "      <td>63.639999</td>\n",
       "      <td>1357800.0</td>\n",
       "      <td>63.639999</td>\n",
       "      <td>0.027925</td>\n",
       "      <td>0.021345</td>\n",
       "      <td>TRIP</td>\n",
       "      <td>64.054001</td>\n",
       "    </tr>\n",
       "    <tr>\n",
       "      <td>297963</td>\n",
       "      <td>2017-08-01</td>\n",
       "      <td>34.750000</td>\n",
       "      <td>34.169998</td>\n",
       "      <td>34.740002</td>\n",
       "      <td>34.259998</td>\n",
       "      <td>1463600.0</td>\n",
       "      <td>34.259998</td>\n",
       "      <td>0.016974</td>\n",
       "      <td>-0.013817</td>\n",
       "      <td>LKQ</td>\n",
       "      <td>34.186000</td>\n",
       "    </tr>\n",
       "    <tr>\n",
       "      <td>217885</td>\n",
       "      <td>2018-02-05</td>\n",
       "      <td>56.340000</td>\n",
       "      <td>54.009998</td>\n",
       "      <td>55.830002</td>\n",
       "      <td>54.009998</td>\n",
       "      <td>4534600.0</td>\n",
       "      <td>50.224651</td>\n",
       "      <td>0.043140</td>\n",
       "      <td>-0.032599</td>\n",
       "      <td>GIS</td>\n",
       "      <td>58.366000</td>\n",
       "    </tr>\n",
       "    <tr>\n",
       "      <td>125984</td>\n",
       "      <td>2018-09-10</td>\n",
       "      <td>46.310001</td>\n",
       "      <td>45.799999</td>\n",
       "      <td>45.910000</td>\n",
       "      <td>46.060001</td>\n",
       "      <td>8568900.0</td>\n",
       "      <td>44.249573</td>\n",
       "      <td>0.011135</td>\n",
       "      <td>0.003267</td>\n",
       "      <td>KO</td>\n",
       "      <td>45.690000</td>\n",
       "    </tr>\n",
       "    <tr>\n",
       "      <td>225562</td>\n",
       "      <td>2016-07-22</td>\n",
       "      <td>43.910000</td>\n",
       "      <td>42.820000</td>\n",
       "      <td>43.830002</td>\n",
       "      <td>43.830002</td>\n",
       "      <td>8900200.0</td>\n",
       "      <td>40.821110</td>\n",
       "      <td>0.025455</td>\n",
       "      <td>0.000000</td>\n",
       "      <td>HAL</td>\n",
       "      <td>44.944000</td>\n",
       "    </tr>\n",
       "    <tr>\n",
       "      <td>217492</td>\n",
       "      <td>2016-07-14</td>\n",
       "      <td>72.320000</td>\n",
       "      <td>71.680000</td>\n",
       "      <td>71.690002</td>\n",
       "      <td>72.089996</td>\n",
       "      <td>2689500.0</td>\n",
       "      <td>63.750660</td>\n",
       "      <td>0.008929</td>\n",
       "      <td>0.005579</td>\n",
       "      <td>GIS</td>\n",
       "      <td>72.176001</td>\n",
       "    </tr>\n",
       "    <tr>\n",
       "      <td>172028</td>\n",
       "      <td>2016-06-30</td>\n",
       "      <td>118.980003</td>\n",
       "      <td>116.570000</td>\n",
       "      <td>116.839996</td>\n",
       "      <td>118.599998</td>\n",
       "      <td>1706200.0</td>\n",
       "      <td>114.378990</td>\n",
       "      <td>0.020674</td>\n",
       "      <td>0.015063</td>\n",
       "      <td>ECL</td>\n",
       "      <td>117.090002</td>\n",
       "    </tr>\n",
       "    <tr>\n",
       "      <td>320242</td>\n",
       "      <td>2018-03-20</td>\n",
       "      <td>47.450001</td>\n",
       "      <td>47.119999</td>\n",
       "      <td>47.119999</td>\n",
       "      <td>47.200001</td>\n",
       "      <td>5745800.0</td>\n",
       "      <td>44.625637</td>\n",
       "      <td>0.007003</td>\n",
       "      <td>0.001698</td>\n",
       "      <td>MET</td>\n",
       "      <td>47.470000</td>\n",
       "    </tr>\n",
       "    <tr>\n",
       "      <td>212215</td>\n",
       "      <td>2019-08-07</td>\n",
       "      <td>10.150000</td>\n",
       "      <td>9.890000</td>\n",
       "      <td>9.970000</td>\n",
       "      <td>10.080000</td>\n",
       "      <td>21874400.0</td>\n",
       "      <td>10.080000</td>\n",
       "      <td>0.026289</td>\n",
       "      <td>0.011033</td>\n",
       "      <td>FCX</td>\n",
       "      <td>10.452000</td>\n",
       "    </tr>\n",
       "    <tr>\n",
       "      <td>76881</td>\n",
       "      <td>2015-10-30</td>\n",
       "      <td>37.500000</td>\n",
       "      <td>37.070000</td>\n",
       "      <td>37.230000</td>\n",
       "      <td>37.259998</td>\n",
       "      <td>1853800.0</td>\n",
       "      <td>32.205555</td>\n",
       "      <td>0.011600</td>\n",
       "      <td>0.000806</td>\n",
       "      <td>HRB</td>\n",
       "      <td>37.228000</td>\n",
       "    </tr>\n",
       "  </tbody>\n",
       "</table>\n",
       "</div>"
      ],
      "text/plain": [
       "              Date        High         Low        Open       Close  \\\n",
       "315332  2018-08-14   61.830002   60.720001   61.700001   60.730000   \n",
       "46564   2019-07-16  307.760010  303.089996  307.510010  305.410004   \n",
       "134733  2017-05-30  181.289993  179.490005  180.029999  180.509995   \n",
       "191713  2018-08-13   79.750000   78.430000   79.449997   78.559998   \n",
       "218065  2018-10-22   44.900002   43.860001   44.529999   44.150002   \n",
       "301114  2018-02-01  105.080002  103.250000  103.839996  103.860001   \n",
       "82225   2017-01-17   23.959999   23.629999   23.660000   23.900000   \n",
       "102039  2019-09-04  114.379997  112.879997  113.330002  113.820000   \n",
       "419426  2016-06-20   66.620003   64.739998   64.949997   65.949997   \n",
       "182781  2019-03-06  282.739990  281.100006  282.070007  281.369995   \n",
       "452703  2016-11-04   64.050003   62.310001   62.310001   63.639999   \n",
       "297963  2017-08-01   34.750000   34.169998   34.740002   34.259998   \n",
       "217885  2018-02-05   56.340000   54.009998   55.830002   54.009998   \n",
       "125984  2018-09-10   46.310001   45.799999   45.910000   46.060001   \n",
       "225562  2016-07-22   43.910000   42.820000   43.830002   43.830002   \n",
       "217492  2016-07-14   72.320000   71.680000   71.690002   72.089996   \n",
       "172028  2016-06-30  118.980003  116.570000  116.839996  118.599998   \n",
       "320242  2018-03-20   47.450001   47.119999   47.119999   47.200001   \n",
       "212215  2019-08-07   10.150000    9.890000    9.970000   10.080000   \n",
       "76881   2015-10-30   37.500000   37.070000   37.230000   37.259998   \n",
       "\n",
       "            Volume   Adj Close  HL_pct_diff  daily_pct_chng ticker       SMA_5  \n",
       "315332   2041300.0   58.228992     0.018281       -0.015721   MXIM   62.774001  \n",
       "46564     994400.0  304.430267     0.015408       -0.006829   ANTM  304.829999  \n",
       "134733   1416500.0  175.219757     0.010028        0.002666    STZ  182.313998  \n",
       "191713  10308500.0   75.112045     0.016830       -0.011202    XOM   80.600000  \n",
       "218065   3436500.0   42.427784     0.023712       -0.008534    GIS   44.596000  \n",
       "301114   4922900.0  100.870720     0.017724        0.000193    LOW  106.639999  \n",
       "82225    8601600.0   23.900000     0.013965        0.010144    BSX   23.768000  \n",
       "102039    829300.0  113.820000     0.013288        0.004324     CE  112.634000  \n",
       "419426   3590100.0   62.638302     0.029039        0.015396   SWKS   65.400002  \n",
       "182781    292900.0  275.958221     0.005834       -0.002482    ESS  282.525995  \n",
       "452703   1357800.0   63.639999     0.027925        0.021345   TRIP   64.054001  \n",
       "297963   1463600.0   34.259998     0.016974       -0.013817    LKQ   34.186000  \n",
       "217885   4534600.0   50.224651     0.043140       -0.032599    GIS   58.366000  \n",
       "125984   8568900.0   44.249573     0.011135        0.003267     KO   45.690000  \n",
       "225562   8900200.0   40.821110     0.025455        0.000000    HAL   44.944000  \n",
       "217492   2689500.0   63.750660     0.008929        0.005579    GIS   72.176001  \n",
       "172028   1706200.0  114.378990     0.020674        0.015063    ECL  117.090002  \n",
       "320242   5745800.0   44.625637     0.007003        0.001698    MET   47.470000  \n",
       "212215  21874400.0   10.080000     0.026289        0.011033    FCX   10.452000  \n",
       "76881    1853800.0   32.205555     0.011600        0.000806    HRB   37.228000  "
      ]
     },
     "execution_count": 10,
     "metadata": {},
     "output_type": "execute_result"
    }
   ],
   "source": [
    "# Which stocks have the highest volume or traded daily?\n",
    "stocks.sort_values(by = 'Volume', ascending=True).sample(20)"
   ]
  },
  {
   "cell_type": "code",
   "execution_count": 11,
   "metadata": {},
   "outputs": [
    {
     "data": {
      "text/plain": [
       "ticker\n",
       "BAC     7.998436e+10\n",
       "GE      6.550756e+10\n",
       "AMD     5.947630e+10\n",
       "F       3.855452e+10\n",
       "AAPL    3.329668e+10\n",
       "Name: Volume, dtype: float64"
      ]
     },
     "execution_count": 11,
     "metadata": {},
     "output_type": "execute_result"
    }
   ],
   "source": [
    "stocks_volume=stocks.groupby('ticker')['Volume'].sum().sort_values(ascending=False)\n",
    "stocks_volume.head()"
   ]
  },
  {
   "cell_type": "code",
   "execution_count": 159,
   "metadata": {},
   "outputs": [
    {
     "data": {
      "text/html": [
       "<div>\n",
       "<style scoped>\n",
       "    .dataframe tbody tr th:only-of-type {\n",
       "        vertical-align: middle;\n",
       "    }\n",
       "\n",
       "    .dataframe tbody tr th {\n",
       "        vertical-align: top;\n",
       "    }\n",
       "\n",
       "    .dataframe thead th {\n",
       "        text-align: right;\n",
       "    }\n",
       "</style>\n",
       "<table border=\"1\" class=\"dataframe\">\n",
       "  <thead>\n",
       "    <tr style=\"text-align: right;\">\n",
       "      <th></th>\n",
       "      <th>Date</th>\n",
       "      <th>High</th>\n",
       "      <th>Low</th>\n",
       "      <th>Open</th>\n",
       "      <th>Close</th>\n",
       "      <th>Volume</th>\n",
       "      <th>Adj Close</th>\n",
       "      <th>HL_pct_diff</th>\n",
       "      <th>daily_pct_chng</th>\n",
       "      <th>ticker</th>\n",
       "      <th>SMA_5</th>\n",
       "    </tr>\n",
       "  </thead>\n",
       "  <tbody>\n",
       "    <tr>\n",
       "      <td>50977</td>\n",
       "      <td>2017-01-17</td>\n",
       "      <td>120.239998</td>\n",
       "      <td>118.220001</td>\n",
       "      <td>118.339996</td>\n",
       "      <td>120.000000</td>\n",
       "      <td>34439800.0</td>\n",
       "      <td>114.975792</td>\n",
       "      <td>0.017087</td>\n",
       "      <td>0.014027</td>\n",
       "      <td>AAPL</td>\n",
       "      <td>119.694000</td>\n",
       "    </tr>\n",
       "    <tr>\n",
       "      <td>51157</td>\n",
       "      <td>2017-10-03</td>\n",
       "      <td>155.089996</td>\n",
       "      <td>153.910004</td>\n",
       "      <td>154.009995</td>\n",
       "      <td>154.479996</td>\n",
       "      <td>16230300.0</td>\n",
       "      <td>149.853638</td>\n",
       "      <td>0.007667</td>\n",
       "      <td>0.003052</td>\n",
       "      <td>AAPL</td>\n",
       "      <td>154.534000</td>\n",
       "    </tr>\n",
       "    <tr>\n",
       "      <td>51552</td>\n",
       "      <td>2019-05-01</td>\n",
       "      <td>215.309998</td>\n",
       "      <td>209.229996</td>\n",
       "      <td>209.880005</td>\n",
       "      <td>210.520004</td>\n",
       "      <td>64827300.0</td>\n",
       "      <td>208.918625</td>\n",
       "      <td>0.029059</td>\n",
       "      <td>0.003049</td>\n",
       "      <td>AAPL</td>\n",
       "      <td>207.487997</td>\n",
       "    </tr>\n",
       "    <tr>\n",
       "      <td>51438</td>\n",
       "      <td>2018-11-13</td>\n",
       "      <td>197.179993</td>\n",
       "      <td>191.449997</td>\n",
       "      <td>191.630005</td>\n",
       "      <td>192.229996</td>\n",
       "      <td>46882900.0</td>\n",
       "      <td>189.953079</td>\n",
       "      <td>0.029929</td>\n",
       "      <td>0.003131</td>\n",
       "      <td>AAPL</td>\n",
       "      <td>204.643997</td>\n",
       "    </tr>\n",
       "    <tr>\n",
       "      <td>51132</td>\n",
       "      <td>2017-08-28</td>\n",
       "      <td>162.000000</td>\n",
       "      <td>159.929993</td>\n",
       "      <td>160.139999</td>\n",
       "      <td>161.470001</td>\n",
       "      <td>25966000.0</td>\n",
       "      <td>156.634308</td>\n",
       "      <td>0.012943</td>\n",
       "      <td>0.008305</td>\n",
       "      <td>AAPL</td>\n",
       "      <td>160.754001</td>\n",
       "    </tr>\n",
       "  </tbody>\n",
       "</table>\n",
       "</div>"
      ],
      "text/plain": [
       "             Date        High         Low        Open       Close      Volume  \\\n",
       "50977  2017-01-17  120.239998  118.220001  118.339996  120.000000  34439800.0   \n",
       "51157  2017-10-03  155.089996  153.910004  154.009995  154.479996  16230300.0   \n",
       "51552  2019-05-01  215.309998  209.229996  209.880005  210.520004  64827300.0   \n",
       "51438  2018-11-13  197.179993  191.449997  191.630005  192.229996  46882900.0   \n",
       "51132  2017-08-28  162.000000  159.929993  160.139999  161.470001  25966000.0   \n",
       "\n",
       "        Adj Close  HL_pct_diff  daily_pct_chng ticker       SMA_5  \n",
       "50977  114.975792     0.017087        0.014027   AAPL  119.694000  \n",
       "51157  149.853638     0.007667        0.003052   AAPL  154.534000  \n",
       "51552  208.918625     0.029059        0.003049   AAPL  207.487997  \n",
       "51438  189.953079     0.029929        0.003131   AAPL  204.643997  \n",
       "51132  156.634308     0.012943        0.008305   AAPL  160.754001  "
      ]
     },
     "execution_count": 159,
     "metadata": {},
     "output_type": "execute_result"
    }
   ],
   "source": [
    "apple = stocks.loc[stocks['ticker'].isin(['AAPL'])]\n",
    "apple.sample(5)"
   ]
  },
  {
   "cell_type": "code",
   "execution_count": 160,
   "metadata": {},
   "outputs": [
    {
     "data": {
      "text/plain": [
       "Date              0\n",
       "High              0\n",
       "Low               0\n",
       "Open              0\n",
       "Close             0\n",
       "Volume            0\n",
       "Adj Close         0\n",
       "HL_pct_diff       0\n",
       "daily_pct_chng    0\n",
       "ticker            0\n",
       "SMA_5             0\n",
       "dtype: int64"
      ]
     },
     "execution_count": 160,
     "metadata": {},
     "output_type": "execute_result"
    }
   ],
   "source": [
    "# any missing data\n",
    "apple.isnull().sum()"
   ]
  },
  {
   "cell_type": "code",
   "execution_count": 161,
   "metadata": {},
   "outputs": [
    {
     "data": {
      "text/plain": [
       "(1008, 11)"
      ]
     },
     "execution_count": 161,
     "metadata": {},
     "output_type": "execute_result"
    }
   ],
   "source": [
    "# size\n",
    "apple.shape"
   ]
  },
  {
   "cell_type": "code",
   "execution_count": 162,
   "metadata": {},
   "outputs": [
    {
     "data": {
      "text/html": [
       "<div>\n",
       "<style scoped>\n",
       "    .dataframe tbody tr th:only-of-type {\n",
       "        vertical-align: middle;\n",
       "    }\n",
       "\n",
       "    .dataframe tbody tr th {\n",
       "        vertical-align: top;\n",
       "    }\n",
       "\n",
       "    .dataframe thead th {\n",
       "        text-align: right;\n",
       "    }\n",
       "</style>\n",
       "<table border=\"1\" class=\"dataframe\">\n",
       "  <thead>\n",
       "    <tr style=\"text-align: right;\">\n",
       "      <th></th>\n",
       "      <th>Date</th>\n",
       "      <th>High</th>\n",
       "      <th>Low</th>\n",
       "      <th>Open</th>\n",
       "      <th>Close</th>\n",
       "      <th>Volume</th>\n",
       "      <th>Adj Close</th>\n",
       "      <th>HL_pct_diff</th>\n",
       "      <th>daily_pct_chng</th>\n",
       "      <th>ticker</th>\n",
       "      <th>SMA_5</th>\n",
       "    </tr>\n",
       "  </thead>\n",
       "  <tbody>\n",
       "    <tr>\n",
       "      <td>50652</td>\n",
       "      <td>2015-10-01</td>\n",
       "      <td>109.620003</td>\n",
       "      <td>107.309998</td>\n",
       "      <td>109.070000</td>\n",
       "      <td>109.580002</td>\n",
       "      <td>63929100.0</td>\n",
       "      <td>102.269157</td>\n",
       "      <td>0.021526</td>\n",
       "      <td>0.004676</td>\n",
       "      <td>AAPL</td>\n",
       "      <td>63.708000</td>\n",
       "    </tr>\n",
       "    <tr>\n",
       "      <td>50653</td>\n",
       "      <td>2015-10-02</td>\n",
       "      <td>111.010002</td>\n",
       "      <td>107.550003</td>\n",
       "      <td>108.010002</td>\n",
       "      <td>110.379997</td>\n",
       "      <td>58019800.0</td>\n",
       "      <td>103.015785</td>\n",
       "      <td>0.032171</td>\n",
       "      <td>0.021942</td>\n",
       "      <td>AAPL</td>\n",
       "      <td>75.456001</td>\n",
       "    </tr>\n",
       "    <tr>\n",
       "      <td>50654</td>\n",
       "      <td>2015-10-05</td>\n",
       "      <td>111.370003</td>\n",
       "      <td>109.070000</td>\n",
       "      <td>109.879997</td>\n",
       "      <td>110.779999</td>\n",
       "      <td>52064700.0</td>\n",
       "      <td>103.389107</td>\n",
       "      <td>0.021087</td>\n",
       "      <td>0.008191</td>\n",
       "      <td>AAPL</td>\n",
       "      <td>87.276001</td>\n",
       "    </tr>\n",
       "    <tr>\n",
       "      <td>50655</td>\n",
       "      <td>2015-10-06</td>\n",
       "      <td>111.739998</td>\n",
       "      <td>109.769997</td>\n",
       "      <td>110.629997</td>\n",
       "      <td>111.309998</td>\n",
       "      <td>48196800.0</td>\n",
       "      <td>103.883736</td>\n",
       "      <td>0.017947</td>\n",
       "      <td>0.006147</td>\n",
       "      <td>AAPL</td>\n",
       "      <td>99.154001</td>\n",
       "    </tr>\n",
       "    <tr>\n",
       "      <td>50656</td>\n",
       "      <td>2015-10-07</td>\n",
       "      <td>111.769997</td>\n",
       "      <td>109.410004</td>\n",
       "      <td>111.739998</td>\n",
       "      <td>110.779999</td>\n",
       "      <td>46765600.0</td>\n",
       "      <td>103.389107</td>\n",
       "      <td>0.021570</td>\n",
       "      <td>-0.008591</td>\n",
       "      <td>AAPL</td>\n",
       "      <td>111.102000</td>\n",
       "    </tr>\n",
       "  </tbody>\n",
       "</table>\n",
       "</div>"
      ],
      "text/plain": [
       "             Date        High         Low        Open       Close      Volume  \\\n",
       "50652  2015-10-01  109.620003  107.309998  109.070000  109.580002  63929100.0   \n",
       "50653  2015-10-02  111.010002  107.550003  108.010002  110.379997  58019800.0   \n",
       "50654  2015-10-05  111.370003  109.070000  109.879997  110.779999  52064700.0   \n",
       "50655  2015-10-06  111.739998  109.769997  110.629997  111.309998  48196800.0   \n",
       "50656  2015-10-07  111.769997  109.410004  111.739998  110.779999  46765600.0   \n",
       "\n",
       "        Adj Close  HL_pct_diff  daily_pct_chng ticker       SMA_5  \n",
       "50652  102.269157     0.021526        0.004676   AAPL   63.708000  \n",
       "50653  103.015785     0.032171        0.021942   AAPL   75.456001  \n",
       "50654  103.389107     0.021087        0.008191   AAPL   87.276001  \n",
       "50655  103.883736     0.017947        0.006147   AAPL   99.154001  \n",
       "50656  103.389107     0.021570       -0.008591   AAPL  111.102000  "
      ]
     },
     "execution_count": 162,
     "metadata": {},
     "output_type": "execute_result"
    }
   ],
   "source": [
    "apple.head()"
   ]
  },
  {
   "cell_type": "code",
   "execution_count": 163,
   "metadata": {},
   "outputs": [
    {
     "data": {
      "text/plain": [
       "count    1008.000000\n",
       "mean      154.138006\n",
       "std        39.184023\n",
       "min        90.339996\n",
       "25%       114.032497\n",
       "50%       156.345001\n",
       "75%       186.067501\n",
       "max       232.070007\n",
       "Name: Close, dtype: float64"
      ]
     },
     "execution_count": 163,
     "metadata": {},
     "output_type": "execute_result"
    }
   ],
   "source": [
    "# establish target variable: High\n",
    "apple['Close'].describe()"
   ]
  },
  {
   "cell_type": "code",
   "execution_count": 164,
   "metadata": {},
   "outputs": [],
   "source": [
    "apple_stock = apple[['Low', 'High','Open','SMA_5', 'Volume', 'daily_pct_chng',]]"
   ]
  },
  {
   "cell_type": "code",
   "execution_count": 165,
   "metadata": {},
   "outputs": [
    {
     "data": {
      "text/html": [
       "<div>\n",
       "<style scoped>\n",
       "    .dataframe tbody tr th:only-of-type {\n",
       "        vertical-align: middle;\n",
       "    }\n",
       "\n",
       "    .dataframe tbody tr th {\n",
       "        vertical-align: top;\n",
       "    }\n",
       "\n",
       "    .dataframe thead th {\n",
       "        text-align: right;\n",
       "    }\n",
       "</style>\n",
       "<table border=\"1\" class=\"dataframe\">\n",
       "  <thead>\n",
       "    <tr style=\"text-align: right;\">\n",
       "      <th></th>\n",
       "      <th>Low</th>\n",
       "      <th>High</th>\n",
       "      <th>Open</th>\n",
       "      <th>SMA_5</th>\n",
       "      <th>Volume</th>\n",
       "      <th>daily_pct_chng</th>\n",
       "    </tr>\n",
       "  </thead>\n",
       "  <tbody>\n",
       "    <tr>\n",
       "      <td>51119</td>\n",
       "      <td>159.110001</td>\n",
       "      <td>161.270004</td>\n",
       "      <td>159.259995</td>\n",
       "      <td>159.326001</td>\n",
       "      <td>26131500.0</td>\n",
       "      <td>0.011302</td>\n",
       "    </tr>\n",
       "    <tr>\n",
       "      <td>51058</td>\n",
       "      <td>154.669998</td>\n",
       "      <td>156.419998</td>\n",
       "      <td>154.699997</td>\n",
       "      <td>154.602002</td>\n",
       "      <td>32527000.0</td>\n",
       "      <td>0.009050</td>\n",
       "    </tr>\n",
       "    <tr>\n",
       "      <td>51202</td>\n",
       "      <td>166.460007</td>\n",
       "      <td>170.199997</td>\n",
       "      <td>167.500000</td>\n",
       "      <td>171.629999</td>\n",
       "      <td>28560000.0</td>\n",
       "      <td>0.009015</td>\n",
       "    </tr>\n",
       "    <tr>\n",
       "      <td>51372</td>\n",
       "      <td>206.669998</td>\n",
       "      <td>209.100006</td>\n",
       "      <td>207.360001</td>\n",
       "      <td>209.088000</td>\n",
       "      <td>24611200.0</td>\n",
       "      <td>0.000820</td>\n",
       "    </tr>\n",
       "    <tr>\n",
       "      <td>51375</td>\n",
       "      <td>208.330002</td>\n",
       "      <td>210.740005</td>\n",
       "      <td>209.220001</td>\n",
       "      <td>210.226001</td>\n",
       "      <td>28807600.0</td>\n",
       "      <td>0.004875</td>\n",
       "    </tr>\n",
       "  </tbody>\n",
       "</table>\n",
       "</div>"
      ],
      "text/plain": [
       "              Low        High        Open       SMA_5      Volume  \\\n",
       "51119  159.110001  161.270004  159.259995  159.326001  26131500.0   \n",
       "51058  154.669998  156.419998  154.699997  154.602002  32527000.0   \n",
       "51202  166.460007  170.199997  167.500000  171.629999  28560000.0   \n",
       "51372  206.669998  209.100006  207.360001  209.088000  24611200.0   \n",
       "51375  208.330002  210.740005  209.220001  210.226001  28807600.0   \n",
       "\n",
       "       daily_pct_chng  \n",
       "51119        0.011302  \n",
       "51058        0.009050  \n",
       "51202        0.009015  \n",
       "51372        0.000820  \n",
       "51375        0.004875  "
      ]
     },
     "execution_count": 165,
     "metadata": {},
     "output_type": "execute_result"
    }
   ],
   "source": [
    "apple_stock.sample(5)"
   ]
  },
  {
   "cell_type": "code",
   "execution_count": 19,
   "metadata": {},
   "outputs": [],
   "source": [
    "#apple_stock['ticker'] = apple['ticker']"
   ]
  },
  {
   "cell_type": "code",
   "execution_count": 166,
   "metadata": {},
   "outputs": [
    {
     "data": {
      "text/html": [
       "<div>\n",
       "<style scoped>\n",
       "    .dataframe tbody tr th:only-of-type {\n",
       "        vertical-align: middle;\n",
       "    }\n",
       "\n",
       "    .dataframe tbody tr th {\n",
       "        vertical-align: top;\n",
       "    }\n",
       "\n",
       "    .dataframe thead th {\n",
       "        text-align: right;\n",
       "    }\n",
       "</style>\n",
       "<table border=\"1\" class=\"dataframe\">\n",
       "  <thead>\n",
       "    <tr style=\"text-align: right;\">\n",
       "      <th></th>\n",
       "      <th>Low</th>\n",
       "      <th>High</th>\n",
       "      <th>Open</th>\n",
       "      <th>SMA_5</th>\n",
       "      <th>Volume</th>\n",
       "      <th>daily_pct_chng</th>\n",
       "    </tr>\n",
       "  </thead>\n",
       "  <tbody>\n",
       "    <tr>\n",
       "      <td>50652</td>\n",
       "      <td>107.309998</td>\n",
       "      <td>109.620003</td>\n",
       "      <td>109.070000</td>\n",
       "      <td>63.708000</td>\n",
       "      <td>63929100.0</td>\n",
       "      <td>0.004676</td>\n",
       "    </tr>\n",
       "    <tr>\n",
       "      <td>50653</td>\n",
       "      <td>107.550003</td>\n",
       "      <td>111.010002</td>\n",
       "      <td>108.010002</td>\n",
       "      <td>75.456001</td>\n",
       "      <td>58019800.0</td>\n",
       "      <td>0.021942</td>\n",
       "    </tr>\n",
       "    <tr>\n",
       "      <td>50654</td>\n",
       "      <td>109.070000</td>\n",
       "      <td>111.370003</td>\n",
       "      <td>109.879997</td>\n",
       "      <td>87.276001</td>\n",
       "      <td>52064700.0</td>\n",
       "      <td>0.008191</td>\n",
       "    </tr>\n",
       "    <tr>\n",
       "      <td>50655</td>\n",
       "      <td>109.769997</td>\n",
       "      <td>111.739998</td>\n",
       "      <td>110.629997</td>\n",
       "      <td>99.154001</td>\n",
       "      <td>48196800.0</td>\n",
       "      <td>0.006147</td>\n",
       "    </tr>\n",
       "    <tr>\n",
       "      <td>50656</td>\n",
       "      <td>109.410004</td>\n",
       "      <td>111.769997</td>\n",
       "      <td>111.739998</td>\n",
       "      <td>111.102000</td>\n",
       "      <td>46765600.0</td>\n",
       "      <td>-0.008591</td>\n",
       "    </tr>\n",
       "  </tbody>\n",
       "</table>\n",
       "</div>"
      ],
      "text/plain": [
       "              Low        High        Open       SMA_5      Volume  \\\n",
       "50652  107.309998  109.620003  109.070000   63.708000  63929100.0   \n",
       "50653  107.550003  111.010002  108.010002   75.456001  58019800.0   \n",
       "50654  109.070000  111.370003  109.879997   87.276001  52064700.0   \n",
       "50655  109.769997  111.739998  110.629997   99.154001  48196800.0   \n",
       "50656  109.410004  111.769997  111.739998  111.102000  46765600.0   \n",
       "\n",
       "       daily_pct_chng  \n",
       "50652        0.004676  \n",
       "50653        0.021942  \n",
       "50654        0.008191  \n",
       "50655        0.006147  \n",
       "50656       -0.008591  "
      ]
     },
     "execution_count": 166,
     "metadata": {},
     "output_type": "execute_result"
    }
   ],
   "source": [
    "apple_stock.head()"
   ]
  },
  {
   "cell_type": "code",
   "execution_count": 21,
   "metadata": {},
   "outputs": [],
   "source": [
    "#apple.to_csv('BAC.csv')"
   ]
  },
  {
   "cell_type": "code",
   "execution_count": 167,
   "metadata": {},
   "outputs": [],
   "source": [
    "# standardize variables\n",
    "from sklearn.preprocessing import StandardScaler\n",
    "std_scaler =StandardScaler()"
   ]
  },
  {
   "cell_type": "code",
   "execution_count": 168,
   "metadata": {},
   "outputs": [
    {
     "data": {
      "text/plain": [
       "StandardScaler(copy=True, with_mean=True, with_std=True)"
      ]
     },
     "execution_count": 168,
     "metadata": {},
     "output_type": "execute_result"
    }
   ],
   "source": [
    "#std_scaler.fit(stock_high)\n",
    "std_scaler.fit(apple_stock)"
   ]
  },
  {
   "cell_type": "code",
   "execution_count": 169,
   "metadata": {},
   "outputs": [],
   "source": [
    "scaled_stock =std_scaler.transform(apple_stock)"
   ]
  },
  {
   "cell_type": "code",
   "execution_count": 170,
   "metadata": {},
   "outputs": [],
   "source": [
    "import pickle\n",
    "filename = open('AAPL_fitted_scaler.pkl', 'wb')\n",
    "pickle.dump(scaled_stock, filename)\n",
    "filename.close()"
   ]
  },
  {
   "cell_type": "code",
   "execution_count": 171,
   "metadata": {},
   "outputs": [
    {
     "data": {
      "text/html": [
       "<div>\n",
       "<style scoped>\n",
       "    .dataframe tbody tr th:only-of-type {\n",
       "        vertical-align: middle;\n",
       "    }\n",
       "\n",
       "    .dataframe tbody tr th {\n",
       "        vertical-align: top;\n",
       "    }\n",
       "\n",
       "    .dataframe thead th {\n",
       "        text-align: right;\n",
       "    }\n",
       "</style>\n",
       "<table border=\"1\" class=\"dataframe\">\n",
       "  <thead>\n",
       "    <tr style=\"text-align: right;\">\n",
       "      <th></th>\n",
       "      <th>Low</th>\n",
       "      <th>High</th>\n",
       "      <th>Open</th>\n",
       "      <th>SMA_5</th>\n",
       "      <th>Volume</th>\n",
       "      <th>daily_pct_chng</th>\n",
       "    </tr>\n",
       "  </thead>\n",
       "  <tbody>\n",
       "    <tr>\n",
       "      <td>0</td>\n",
       "      <td>-1.172149</td>\n",
       "      <td>-1.156956</td>\n",
       "      <td>-1.148403</td>\n",
       "      <td>-2.304804</td>\n",
       "      <td>2.074135</td>\n",
       "      <td>0.357431</td>\n",
       "    </tr>\n",
       "    <tr>\n",
       "      <td>1</td>\n",
       "      <td>-1.165960</td>\n",
       "      <td>-1.121846</td>\n",
       "      <td>-1.175459</td>\n",
       "      <td>-2.008471</td>\n",
       "      <td>1.677436</td>\n",
       "      <td>1.875235</td>\n",
       "    </tr>\n",
       "    <tr>\n",
       "      <td>2</td>\n",
       "      <td>-1.126763</td>\n",
       "      <td>-1.112753</td>\n",
       "      <td>-1.127729</td>\n",
       "      <td>-1.710323</td>\n",
       "      <td>1.277662</td>\n",
       "      <td>0.666403</td>\n",
       "    </tr>\n",
       "    <tr>\n",
       "      <td>3</td>\n",
       "      <td>-1.108711</td>\n",
       "      <td>-1.103407</td>\n",
       "      <td>-1.108585</td>\n",
       "      <td>-1.410711</td>\n",
       "      <td>1.018005</td>\n",
       "      <td>0.486713</td>\n",
       "    </tr>\n",
       "    <tr>\n",
       "      <td>4</td>\n",
       "      <td>-1.117995</td>\n",
       "      <td>-1.102650</td>\n",
       "      <td>-1.080253</td>\n",
       "      <td>-1.109334</td>\n",
       "      <td>0.921926</td>\n",
       "      <td>-0.808826</td>\n",
       "    </tr>\n",
       "  </tbody>\n",
       "</table>\n",
       "</div>"
      ],
      "text/plain": [
       "        Low      High      Open     SMA_5    Volume  daily_pct_chng\n",
       "0 -1.172149 -1.156956 -1.148403 -2.304804  2.074135        0.357431\n",
       "1 -1.165960 -1.121846 -1.175459 -2.008471  1.677436        1.875235\n",
       "2 -1.126763 -1.112753 -1.127729 -1.710323  1.277662        0.666403\n",
       "3 -1.108711 -1.103407 -1.108585 -1.410711  1.018005        0.486713\n",
       "4 -1.117995 -1.102650 -1.080253 -1.109334  0.921926       -0.808826"
      ]
     },
     "execution_count": 171,
     "metadata": {},
     "output_type": "execute_result"
    }
   ],
   "source": [
    "#scaled_df=pd.DataFrame(scaled_stock, columns = stock_high.columns)\n",
    "scaled_df=pd.DataFrame(scaled_stock, columns = apple_stock.columns)\n",
    "scaled_df.head()"
   ]
  },
  {
   "cell_type": "code",
   "execution_count": 172,
   "metadata": {},
   "outputs": [
    {
     "data": {
      "text/plain": [
       "Low               3.678715e-17\n",
       "High             -3.057519e-16\n",
       "Open              8.787063e-16\n",
       "SMA_5            -3.097170e-16\n",
       "Volume            3.735163e-17\n",
       "daily_pct_chng    1.365751e-17\n",
       "dtype: float64"
      ]
     },
     "execution_count": 172,
     "metadata": {},
     "output_type": "execute_result"
    }
   ],
   "source": [
    "scaled_df.mean() "
   ]
  },
  {
   "cell_type": "code",
   "execution_count": 173,
   "metadata": {},
   "outputs": [
    {
     "data": {
      "text/plain": [
       "Low               1.000496\n",
       "High              1.000496\n",
       "Open              1.000496\n",
       "SMA_5             1.000496\n",
       "Volume            1.000496\n",
       "daily_pct_chng    1.000496\n",
       "dtype: float64"
      ]
     },
     "execution_count": 173,
     "metadata": {},
     "output_type": "execute_result"
    }
   ],
   "source": [
    "scaled_df.std()"
   ]
  },
  {
   "cell_type": "code",
   "execution_count": 174,
   "metadata": {},
   "outputs": [
    {
     "data": {
      "text/plain": [
       "<bound method NDFrame.head of 50652    109.580002\n",
       "50653    110.379997\n",
       "50654    110.779999\n",
       "50655    111.309998\n",
       "50656    110.779999\n",
       "            ...    \n",
       "51655    219.889999\n",
       "51656    218.820007\n",
       "51657    223.970001\n",
       "51658    224.589996\n",
       "51659    218.960007\n",
       "Name: Close, Length: 1008, dtype: float64>"
      ]
     },
     "execution_count": 174,
     "metadata": {},
     "output_type": "execute_result"
    }
   ],
   "source": [
    "# target variable\n",
    "#y = top_5['Close']\n",
    "y = apple['Close']\n",
    "y.shape\n",
    "y.head"
   ]
  },
  {
   "cell_type": "code",
   "execution_count": 175,
   "metadata": {},
   "outputs": [
    {
     "data": {
      "text/html": [
       "<div>\n",
       "<style scoped>\n",
       "    .dataframe tbody tr th:only-of-type {\n",
       "        vertical-align: middle;\n",
       "    }\n",
       "\n",
       "    .dataframe tbody tr th {\n",
       "        vertical-align: top;\n",
       "    }\n",
       "\n",
       "    .dataframe thead th {\n",
       "        text-align: right;\n",
       "    }\n",
       "</style>\n",
       "<table border=\"1\" class=\"dataframe\">\n",
       "  <thead>\n",
       "    <tr style=\"text-align: right;\">\n",
       "      <th></th>\n",
       "      <th>Low</th>\n",
       "      <th>High</th>\n",
       "      <th>Open</th>\n",
       "      <th>SMA_5</th>\n",
       "      <th>Volume</th>\n",
       "      <th>daily_pct_chng</th>\n",
       "    </tr>\n",
       "  </thead>\n",
       "  <tbody>\n",
       "    <tr>\n",
       "      <td>143</td>\n",
       "      <td>-1.472060</td>\n",
       "      <td>-1.432531</td>\n",
       "      <td>-1.482010</td>\n",
       "      <td>-1.272987</td>\n",
       "      <td>5.475880</td>\n",
       "      <td>1.612923</td>\n",
       "    </tr>\n",
       "    <tr>\n",
       "      <td>550</td>\n",
       "      <td>0.353194</td>\n",
       "      <td>0.373230</td>\n",
       "      <td>0.343001</td>\n",
       "      <td>0.417430</td>\n",
       "      <td>-0.300239</td>\n",
       "      <td>0.738848</td>\n",
       "    </tr>\n",
       "    <tr>\n",
       "      <td>245</td>\n",
       "      <td>-1.039858</td>\n",
       "      <td>-1.046575</td>\n",
       "      <td>-1.026396</td>\n",
       "      <td>-1.005209</td>\n",
       "      <td>0.199432</td>\n",
       "      <td>-0.285234</td>\n",
       "    </tr>\n",
       "    <tr>\n",
       "      <td>21</td>\n",
       "      <td>-0.859086</td>\n",
       "      <td>-0.863953</td>\n",
       "      <td>-0.844150</td>\n",
       "      <td>-0.905674</td>\n",
       "      <td>1.096448</td>\n",
       "      <td>-1.136156</td>\n",
       "    </tr>\n",
       "    <tr>\n",
       "      <td>628</td>\n",
       "      <td>0.301877</td>\n",
       "      <td>0.341404</td>\n",
       "      <td>0.321049</td>\n",
       "      <td>0.421516</td>\n",
       "      <td>0.305742</td>\n",
       "      <td>-0.032507</td>\n",
       "    </tr>\n",
       "    <tr>\n",
       "      <td>43</td>\n",
       "      <td>-0.945991</td>\n",
       "      <td>-0.942508</td>\n",
       "      <td>-0.937315</td>\n",
       "      <td>-0.915310</td>\n",
       "      <td>0.023777</td>\n",
       "      <td>-0.847697</td>\n",
       "    </tr>\n",
       "    <tr>\n",
       "      <td>215</td>\n",
       "      <td>-1.154098</td>\n",
       "      <td>-1.174132</td>\n",
       "      <td>-1.169844</td>\n",
       "      <td>-1.203722</td>\n",
       "      <td>-0.450936</td>\n",
       "      <td>0.417469</td>\n",
       "    </tr>\n",
       "    <tr>\n",
       "      <td>214</td>\n",
       "      <td>-1.176017</td>\n",
       "      <td>-1.188530</td>\n",
       "      <td>-1.187967</td>\n",
       "      <td>-1.218201</td>\n",
       "      <td>-0.335336</td>\n",
       "      <td>0.641332</td>\n",
       "    </tr>\n",
       "    <tr>\n",
       "      <td>126</td>\n",
       "      <td>-1.095818</td>\n",
       "      <td>-1.092041</td>\n",
       "      <td>-1.113945</td>\n",
       "      <td>-1.135617</td>\n",
       "      <td>0.290261</td>\n",
       "      <td>0.503666</td>\n",
       "    </tr>\n",
       "    <tr>\n",
       "      <td>208</td>\n",
       "      <td>-1.265758</td>\n",
       "      <td>-1.285019</td>\n",
       "      <td>-1.272964</td>\n",
       "      <td>-1.338116</td>\n",
       "      <td>-0.355710</td>\n",
       "      <td>-0.036733</td>\n",
       "    </tr>\n",
       "  </tbody>\n",
       "</table>\n",
       "</div>"
      ],
      "text/plain": [
       "          Low      High      Open     SMA_5    Volume  daily_pct_chng\n",
       "143 -1.472060 -1.432531 -1.482010 -1.272987  5.475880        1.612923\n",
       "550  0.353194  0.373230  0.343001  0.417430 -0.300239        0.738848\n",
       "245 -1.039858 -1.046575 -1.026396 -1.005209  0.199432       -0.285234\n",
       "21  -0.859086 -0.863953 -0.844150 -0.905674  1.096448       -1.136156\n",
       "628  0.301877  0.341404  0.321049  0.421516  0.305742       -0.032507\n",
       "43  -0.945991 -0.942508 -0.937315 -0.915310  0.023777       -0.847697\n",
       "215 -1.154098 -1.174132 -1.169844 -1.203722 -0.450936        0.417469\n",
       "214 -1.176017 -1.188530 -1.187967 -1.218201 -0.335336        0.641332\n",
       "126 -1.095818 -1.092041 -1.113945 -1.135617  0.290261        0.503666\n",
       "208 -1.265758 -1.285019 -1.272964 -1.338116 -0.355710       -0.036733"
      ]
     },
     "execution_count": 175,
     "metadata": {},
     "output_type": "execute_result"
    }
   ],
   "source": [
    "X= apple.drop('Close', axis=1)\n",
    "X = scaled_df.copy()\n",
    "X.shape\n",
    "X.sample(10)"
   ]
  },
  {
   "cell_type": "code",
   "execution_count": 176,
   "metadata": {},
   "outputs": [],
   "source": [
    "# train, test, split\n",
    "X_train, X_test, y_train, y_test = train_test_split(X,y, test_size=.15, random_state=42)"
   ]
  },
  {
   "cell_type": "code",
   "execution_count": 177,
   "metadata": {},
   "outputs": [
    {
     "data": {
      "text/plain": [
       "LinearRegression(copy_X=True, fit_intercept=True, n_jobs=None, normalize=False)"
      ]
     },
     "execution_count": 177,
     "metadata": {},
     "output_type": "execute_result"
    }
   ],
   "source": [
    "# instantiate\n",
    "mystocks= LinearRegression()\n",
    "#linreg=LinearRegression()\n",
    "mystocks.fit(X,y)"
   ]
  },
  {
   "cell_type": "code",
   "execution_count": 178,
   "metadata": {},
   "outputs": [],
   "source": [
    "# fit model  to training dataset\n",
    "mystocks.fit(X_train, y_train)  # normalize = False, data is expected to be already centered\n",
    "y_pred = mystocks.predict(X_test)"
   ]
  },
  {
   "cell_type": "code",
   "execution_count": 179,
   "metadata": {},
   "outputs": [
    {
     "data": {
      "text/plain": [
       "array([196.17553031, 171.25831361, 188.63185369, 159.82747806,\n",
       "       140.53417577, 187.03792595, 189.78042755, 174.10508762,\n",
       "       119.13848188,  99.46783594, 177.17883818, 140.90330253,\n",
       "       174.13867011, 152.95195362, 111.99541005, 175.09786287,\n",
       "       191.41443998, 204.9244974 , 110.09806276,  96.80357501,\n",
       "       214.2582827 , 178.69015015, 107.92082454, 102.67131691,\n",
       "       155.30532559, 106.22469634, 143.64058486, 109.84962862,\n",
       "       141.29127609, 200.06669605, 206.86882237, 155.9027965 ,\n",
       "        96.12301818, 113.70700408, 228.25955786,  95.75301975,\n",
       "       200.922308  , 106.67848793, 116.04490098,  94.79679136,\n",
       "       158.76220798, 166.81336374, 122.21415104, 205.37853521,\n",
       "       116.8540385 , 110.19180158, 143.6336224 , 173.27865048,\n",
       "       206.42937626, 188.69830937, 171.60841715, 199.43318684,\n",
       "       107.63745654, 168.66006063, 176.43255295, 218.95848554,\n",
       "       144.19325727, 107.97983293, 123.09355759, 115.65171949,\n",
       "       206.84481343, 144.19501004, 112.10183623, 202.27175245,\n",
       "       156.87307765, 163.27210411, 145.12239614, 100.35347489,\n",
       "       153.30162115, 216.29196259, 101.50792014, 108.35368308,\n",
       "       155.33379581,  99.03208061, 209.07749859, 156.20090025,\n",
       "       150.32902982, 192.50698239, 117.69304675, 169.52139949,\n",
       "       179.51488024, 136.40813797, 100.90931909, 109.09162479,\n",
       "        95.59533869, 185.78390391, 225.00308171, 174.18399581,\n",
       "       110.10864977, 178.1572599 , 172.6037948 , 157.64997946,\n",
       "       171.04201505, 155.39449723, 228.78023804, 117.5286586 ,\n",
       "        93.82011589, 122.06990509,  96.09363474, 104.48288315,\n",
       "       153.6641757 , 176.61353879, 108.97224875, 178.7664156 ,\n",
       "       170.00544731, 111.02273063, 190.8222239 , 199.18495642,\n",
       "       196.71751865, 204.14425303, 153.1455978 , 165.66820146,\n",
       "       185.42140919, 223.79181278, 117.18130001,  96.93149303,\n",
       "       222.00637256, 159.81878088, 116.17225127, 169.11499171,\n",
       "       106.87033758, 192.04913826, 158.73911545, 211.53043635,\n",
       "       116.88977221, 161.73613708,  97.59498836, 156.74178268,\n",
       "       145.62471765, 105.50004879, 218.80630746, 187.38604559,\n",
       "       174.37023258, 144.05650078, 219.96959428, 176.06088856,\n",
       "       105.03665107, 105.71364531, 172.41669809, 120.68365977,\n",
       "        99.93342456, 114.64913136, 112.99988487, 143.60067727,\n",
       "       186.60054844, 211.10185196, 218.70380085,  98.69794761,\n",
       "       156.07527506, 139.97470692, 119.20648532, 188.37513638])"
      ]
     },
     "execution_count": 179,
     "metadata": {},
     "output_type": "execute_result"
    }
   ],
   "source": [
    "# predict the y_values on testing dataset\n",
    "y_pred = mystocks.predict(X_test)\n",
    "y_pred"
   ]
  },
  {
   "cell_type": "code",
   "execution_count": 180,
   "metadata": {},
   "outputs": [
    {
     "data": {
      "text/plain": [
       "[196.18, 171.26, 188.63, 159.83, 140.53]"
      ]
     },
     "execution_count": 180,
     "metadata": {},
     "output_type": "execute_result"
    }
   ],
   "source": [
    "#looking at prediction and comparing to true values\n",
    "[round(x,2)for x in y_pred[:5]]"
   ]
  },
  {
   "cell_type": "code",
   "execution_count": 181,
   "metadata": {},
   "outputs": [
    {
     "data": {
      "text/plain": [
       "[195.57000732421875,\n",
       " 171.61000061035156,\n",
       " 188.7400054931641,\n",
       " 159.8800048828125,\n",
       " 140.46000671386722]"
      ]
     },
     "execution_count": 181,
     "metadata": {},
     "output_type": "execute_result"
    }
   ],
   "source": [
    "list(y_test[:5])"
   ]
  },
  {
   "cell_type": "code",
   "execution_count": 182,
   "metadata": {},
   "outputs": [
    {
     "name": "stdout",
     "output_type": "stream",
     "text": [
      "on average my model errs by 0.3893858776771709\n"
     ]
    }
   ],
   "source": [
    "# root mean Sq error\n",
    "rmse = sqrt(metrics.mean_squared_error(y_test, y_pred))\n",
    "print ('on average my model errs by', rmse)"
   ]
  },
  {
   "cell_type": "code",
   "execution_count": 183,
   "metadata": {},
   "outputs": [
    {
     "data": {
      "text/plain": [
       "154.28723125814278"
      ]
     },
     "execution_count": 183,
     "metadata": {},
     "output_type": "execute_result"
    }
   ],
   "source": [
    "avg_val= y_train.mean()\n",
    "avg_val"
   ]
  },
  {
   "cell_type": "code",
   "execution_count": 184,
   "metadata": {},
   "outputs": [
    {
     "name": "stdout",
     "output_type": "stream",
     "text": [
      "Close -39\n"
     ]
    }
   ],
   "source": [
    "comparison_array=np.full((len(y_test), ), avg_val)\n",
    "coin_flip = sqrt(metrics.mean_squared_error(y_test, comparison_array))\n",
    "print ('Close', round(rmse-coin_flip))"
   ]
  },
  {
   "cell_type": "code",
   "execution_count": 185,
   "metadata": {},
   "outputs": [
    {
     "data": {
      "text/plain": [
       "0.9999016418993003"
      ]
     },
     "execution_count": 185,
     "metadata": {},
     "output_type": "execute_result"
    }
   ],
   "source": [
    "r2=metrics.r2_score(y_test, y_pred)\n",
    "r2"
   ]
  },
  {
   "cell_type": "code",
   "execution_count": 186,
   "metadata": {},
   "outputs": [
    {
     "data": {
      "text/plain": [
       "array([154.28723126, 154.28723126, 154.28723126, 154.28723126,\n",
       "       154.28723126, 154.28723126, 154.28723126, 154.28723126,\n",
       "       154.28723126, 154.28723126, 154.28723126, 154.28723126,\n",
       "       154.28723126, 154.28723126, 154.28723126, 154.28723126,\n",
       "       154.28723126, 154.28723126, 154.28723126, 154.28723126,\n",
       "       154.28723126, 154.28723126, 154.28723126, 154.28723126,\n",
       "       154.28723126, 154.28723126, 154.28723126, 154.28723126,\n",
       "       154.28723126, 154.28723126, 154.28723126, 154.28723126,\n",
       "       154.28723126, 154.28723126, 154.28723126, 154.28723126,\n",
       "       154.28723126, 154.28723126, 154.28723126, 154.28723126,\n",
       "       154.28723126, 154.28723126, 154.28723126, 154.28723126,\n",
       "       154.28723126, 154.28723126, 154.28723126, 154.28723126,\n",
       "       154.28723126, 154.28723126, 154.28723126, 154.28723126,\n",
       "       154.28723126, 154.28723126, 154.28723126, 154.28723126,\n",
       "       154.28723126, 154.28723126, 154.28723126, 154.28723126,\n",
       "       154.28723126, 154.28723126, 154.28723126, 154.28723126,\n",
       "       154.28723126, 154.28723126, 154.28723126, 154.28723126,\n",
       "       154.28723126, 154.28723126, 154.28723126, 154.28723126,\n",
       "       154.28723126, 154.28723126, 154.28723126, 154.28723126,\n",
       "       154.28723126, 154.28723126, 154.28723126, 154.28723126,\n",
       "       154.28723126, 154.28723126, 154.28723126, 154.28723126,\n",
       "       154.28723126, 154.28723126, 154.28723126, 154.28723126,\n",
       "       154.28723126, 154.28723126, 154.28723126, 154.28723126,\n",
       "       154.28723126, 154.28723126, 154.28723126, 154.28723126,\n",
       "       154.28723126, 154.28723126, 154.28723126, 154.28723126,\n",
       "       154.28723126, 154.28723126, 154.28723126, 154.28723126,\n",
       "       154.28723126, 154.28723126, 154.28723126, 154.28723126,\n",
       "       154.28723126, 154.28723126, 154.28723126, 154.28723126,\n",
       "       154.28723126, 154.28723126, 154.28723126, 154.28723126,\n",
       "       154.28723126, 154.28723126, 154.28723126, 154.28723126,\n",
       "       154.28723126, 154.28723126, 154.28723126, 154.28723126,\n",
       "       154.28723126, 154.28723126, 154.28723126, 154.28723126,\n",
       "       154.28723126, 154.28723126, 154.28723126, 154.28723126,\n",
       "       154.28723126, 154.28723126, 154.28723126, 154.28723126,\n",
       "       154.28723126, 154.28723126, 154.28723126, 154.28723126,\n",
       "       154.28723126, 154.28723126, 154.28723126, 154.28723126,\n",
       "       154.28723126, 154.28723126, 154.28723126, 154.28723126,\n",
       "       154.28723126, 154.28723126, 154.28723126, 154.28723126])"
      ]
     },
     "execution_count": 186,
     "metadata": {},
     "output_type": "execute_result"
    }
   ],
   "source": [
    "comparison = np.full(len(y_test), avg_val)\n",
    "comparison"
   ]
  },
  {
   "cell_type": "code",
   "execution_count": 187,
   "metadata": {},
   "outputs": [
    {
     "data": {
      "text/plain": [
       "39.27471443084007"
      ]
     },
     "execution_count": 187,
     "metadata": {},
     "output_type": "execute_result"
    }
   ],
   "source": [
    "sqrt(metrics.mean_squared_error(y_test, comparison))"
   ]
  },
  {
   "cell_type": "code",
   "execution_count": 188,
   "metadata": {},
   "outputs": [
    {
     "data": {
      "text/plain": [
       "array([196.17553031, 171.25831361, 188.63185369, 159.82747806,\n",
       "       140.53417577, 187.03792595, 189.78042755, 174.10508762,\n",
       "       119.13848188,  99.46783594, 177.17883818, 140.90330253,\n",
       "       174.13867011, 152.95195362, 111.99541005, 175.09786287,\n",
       "       191.41443998, 204.9244974 , 110.09806276,  96.80357501,\n",
       "       214.2582827 , 178.69015015, 107.92082454, 102.67131691,\n",
       "       155.30532559, 106.22469634, 143.64058486, 109.84962862,\n",
       "       141.29127609, 200.06669605, 206.86882237, 155.9027965 ,\n",
       "        96.12301818, 113.70700408, 228.25955786,  95.75301975,\n",
       "       200.922308  , 106.67848793, 116.04490098,  94.79679136,\n",
       "       158.76220798, 166.81336374, 122.21415104, 205.37853521,\n",
       "       116.8540385 , 110.19180158, 143.6336224 , 173.27865048,\n",
       "       206.42937626, 188.69830937, 171.60841715, 199.43318684,\n",
       "       107.63745654, 168.66006063, 176.43255295, 218.95848554,\n",
       "       144.19325727, 107.97983293, 123.09355759, 115.65171949,\n",
       "       206.84481343, 144.19501004, 112.10183623, 202.27175245,\n",
       "       156.87307765, 163.27210411, 145.12239614, 100.35347489,\n",
       "       153.30162115, 216.29196259, 101.50792014, 108.35368308,\n",
       "       155.33379581,  99.03208061, 209.07749859, 156.20090025,\n",
       "       150.32902982, 192.50698239, 117.69304675, 169.52139949,\n",
       "       179.51488024, 136.40813797, 100.90931909, 109.09162479,\n",
       "        95.59533869, 185.78390391, 225.00308171, 174.18399581,\n",
       "       110.10864977, 178.1572599 , 172.6037948 , 157.64997946,\n",
       "       171.04201505, 155.39449723, 228.78023804, 117.5286586 ,\n",
       "        93.82011589, 122.06990509,  96.09363474, 104.48288315,\n",
       "       153.6641757 , 176.61353879, 108.97224875, 178.7664156 ,\n",
       "       170.00544731, 111.02273063, 190.8222239 , 199.18495642,\n",
       "       196.71751865, 204.14425303, 153.1455978 , 165.66820146,\n",
       "       185.42140919, 223.79181278, 117.18130001,  96.93149303,\n",
       "       222.00637256, 159.81878088, 116.17225127, 169.11499171,\n",
       "       106.87033758, 192.04913826, 158.73911545, 211.53043635,\n",
       "       116.88977221, 161.73613708,  97.59498836, 156.74178268,\n",
       "       145.62471765, 105.50004879, 218.80630746, 187.38604559,\n",
       "       174.37023258, 144.05650078, 219.96959428, 176.06088856,\n",
       "       105.03665107, 105.71364531, 172.41669809, 120.68365977,\n",
       "        99.93342456, 114.64913136, 112.99988487, 143.60067727,\n",
       "       186.60054844, 211.10185196, 218.70380085,  98.69794761,\n",
       "       156.07527506, 139.97470692, 119.20648532, 188.37513638])"
      ]
     },
     "execution_count": 188,
     "metadata": {},
     "output_type": "execute_result"
    }
   ],
   "source": [
    "y_pred"
   ]
  },
  {
   "cell_type": "code",
   "execution_count": 189,
   "metadata": {},
   "outputs": [
    {
     "data": {
      "image/png": "[encoded data removed]",
      "text/plain": [
       "<Figure size 864x936 with 1 Axes>"
      ]
     },
     "metadata": {
      "needs_background": "light"
     },
     "output_type": "display_data"
    }
   ],
   "source": [
    "plt.figure(figsize = (12,13))\n",
    "sns.regplot(x=y_pred, y=y_test);"
   ]
  },
  {
   "cell_type": "code",
   "execution_count": 190,
   "metadata": {},
   "outputs": [
    {
     "name": "stderr",
     "output_type": "stream",
     "text": [
      "/Library/Frameworks/Python.framework/Versions/3.7/lib/python3.7/site-packages/ipykernel_launcher.py:1: SettingWithCopyWarning: \n",
      "A value is trying to be set on a copy of a slice from a DataFrame.\n",
      "Try using .loc[row_indexer,col_indexer] = value instead\n",
      "\n",
      "See the caveats in the documentation: http://pandas.pydata.org/pandas-docs/stable/user_guide/indexing.html#returning-a-view-versus-a-copy\n",
      "  \"\"\"Entry point for launching an IPython kernel.\n"
     ]
    }
   ],
   "source": [
    "apple_stock['ticker'] = apple['ticker']"
   ]
  },
  {
   "cell_type": "code",
   "execution_count": 191,
   "metadata": {},
   "outputs": [
    {
     "data": {
      "text/html": [
       "<div>\n",
       "<style scoped>\n",
       "    .dataframe tbody tr th:only-of-type {\n",
       "        vertical-align: middle;\n",
       "    }\n",
       "\n",
       "    .dataframe tbody tr th {\n",
       "        vertical-align: top;\n",
       "    }\n",
       "\n",
       "    .dataframe thead th {\n",
       "        text-align: right;\n",
       "    }\n",
       "</style>\n",
       "<table border=\"1\" class=\"dataframe\">\n",
       "  <thead>\n",
       "    <tr style=\"text-align: right;\">\n",
       "      <th></th>\n",
       "      <th>Low</th>\n",
       "      <th>High</th>\n",
       "      <th>Open</th>\n",
       "      <th>SMA_5</th>\n",
       "      <th>Volume</th>\n",
       "      <th>daily_pct_chng</th>\n",
       "      <th>ticker</th>\n",
       "    </tr>\n",
       "  </thead>\n",
       "  <tbody>\n",
       "    <tr>\n",
       "      <td>50652</td>\n",
       "      <td>107.309998</td>\n",
       "      <td>109.620003</td>\n",
       "      <td>109.070000</td>\n",
       "      <td>63.708000</td>\n",
       "      <td>63929100.0</td>\n",
       "      <td>0.004676</td>\n",
       "      <td>AAPL</td>\n",
       "    </tr>\n",
       "    <tr>\n",
       "      <td>50653</td>\n",
       "      <td>107.550003</td>\n",
       "      <td>111.010002</td>\n",
       "      <td>108.010002</td>\n",
       "      <td>75.456001</td>\n",
       "      <td>58019800.0</td>\n",
       "      <td>0.021942</td>\n",
       "      <td>AAPL</td>\n",
       "    </tr>\n",
       "    <tr>\n",
       "      <td>50654</td>\n",
       "      <td>109.070000</td>\n",
       "      <td>111.370003</td>\n",
       "      <td>109.879997</td>\n",
       "      <td>87.276001</td>\n",
       "      <td>52064700.0</td>\n",
       "      <td>0.008191</td>\n",
       "      <td>AAPL</td>\n",
       "    </tr>\n",
       "    <tr>\n",
       "      <td>50655</td>\n",
       "      <td>109.769997</td>\n",
       "      <td>111.739998</td>\n",
       "      <td>110.629997</td>\n",
       "      <td>99.154001</td>\n",
       "      <td>48196800.0</td>\n",
       "      <td>0.006147</td>\n",
       "      <td>AAPL</td>\n",
       "    </tr>\n",
       "    <tr>\n",
       "      <td>50656</td>\n",
       "      <td>109.410004</td>\n",
       "      <td>111.769997</td>\n",
       "      <td>111.739998</td>\n",
       "      <td>111.102000</td>\n",
       "      <td>46765600.0</td>\n",
       "      <td>-0.008591</td>\n",
       "      <td>AAPL</td>\n",
       "    </tr>\n",
       "  </tbody>\n",
       "</table>\n",
       "</div>"
      ],
      "text/plain": [
       "              Low        High        Open       SMA_5      Volume  \\\n",
       "50652  107.309998  109.620003  109.070000   63.708000  63929100.0   \n",
       "50653  107.550003  111.010002  108.010002   75.456001  58019800.0   \n",
       "50654  109.070000  111.370003  109.879997   87.276001  52064700.0   \n",
       "50655  109.769997  111.739998  110.629997   99.154001  48196800.0   \n",
       "50656  109.410004  111.769997  111.739998  111.102000  46765600.0   \n",
       "\n",
       "       daily_pct_chng ticker  \n",
       "50652        0.004676   AAPL  \n",
       "50653        0.021942   AAPL  \n",
       "50654        0.008191   AAPL  \n",
       "50655        0.006147   AAPL  \n",
       "50656       -0.008591   AAPL  "
      ]
     },
     "execution_count": 191,
     "metadata": {},
     "output_type": "execute_result"
    }
   ],
   "source": [
    "apple_stock.head()"
   ]
  },
  {
   "cell_type": "code",
   "execution_count": 192,
   "metadata": {},
   "outputs": [],
   "source": [
    "# pickle final model\n",
    "filename = open('AAPL_final_model.pkl', 'wb')\n",
    "pickle.dump(apple_stock, filename)\n",
    "filename.close()"
   ]
  },
  {
   "cell_type": "code",
   "execution_count": 193,
   "metadata": {},
   "outputs": [
    {
     "data": {
      "text/html": [
       "<div>\n",
       "<style scoped>\n",
       "    .dataframe tbody tr th:only-of-type {\n",
       "        vertical-align: middle;\n",
       "    }\n",
       "\n",
       "    .dataframe tbody tr th {\n",
       "        vertical-align: top;\n",
       "    }\n",
       "\n",
       "    .dataframe thead th {\n",
       "        text-align: right;\n",
       "    }\n",
       "</style>\n",
       "<table border=\"1\" class=\"dataframe\">\n",
       "  <thead>\n",
       "    <tr style=\"text-align: right;\">\n",
       "      <th></th>\n",
       "      <th>Low</th>\n",
       "      <th>High</th>\n",
       "      <th>Open</th>\n",
       "      <th>SMA_5</th>\n",
       "      <th>Volume</th>\n",
       "      <th>daily_pct_chng</th>\n",
       "    </tr>\n",
       "  </thead>\n",
       "  <tbody>\n",
       "    <tr>\n",
       "      <td>618</td>\n",
       "      <td>0.640985</td>\n",
       "      <td>0.598540</td>\n",
       "      <td>0.627600</td>\n",
       "      <td>0.657664</td>\n",
       "      <td>0.427780</td>\n",
       "      <td>-0.363591</td>\n",
       "    </tr>\n",
       "    <tr>\n",
       "      <td>215</td>\n",
       "      <td>-1.154098</td>\n",
       "      <td>-1.174132</td>\n",
       "      <td>-1.169844</td>\n",
       "      <td>-1.203722</td>\n",
       "      <td>-0.450936</td>\n",
       "      <td>0.417469</td>\n",
       "    </tr>\n",
       "    <tr>\n",
       "      <td>365</td>\n",
       "      <td>-0.354163</td>\n",
       "      <td>-0.370645</td>\n",
       "      <td>-0.373986</td>\n",
       "      <td>-0.390599</td>\n",
       "      <td>-0.492785</td>\n",
       "      <td>0.608474</td>\n",
       "    </tr>\n",
       "    <tr>\n",
       "      <td>44</td>\n",
       "      <td>-0.993956</td>\n",
       "      <td>-0.975850</td>\n",
       "      <td>-0.957479</td>\n",
       "      <td>-0.927619</td>\n",
       "      <td>0.573105</td>\n",
       "      <td>-1.071811</td>\n",
       "    </tr>\n",
       "    <tr>\n",
       "      <td>531</td>\n",
       "      <td>0.556144</td>\n",
       "      <td>0.525795</td>\n",
       "      <td>0.525757</td>\n",
       "      <td>0.473377</td>\n",
       "      <td>-0.578868</td>\n",
       "      <td>0.741596</td>\n",
       "    </tr>\n",
       "    <tr>\n",
       "      <td>377</td>\n",
       "      <td>-0.251528</td>\n",
       "      <td>-0.281734</td>\n",
       "      <td>-0.263975</td>\n",
       "      <td>-0.286978</td>\n",
       "      <td>-0.897594</td>\n",
       "      <td>-0.090301</td>\n",
       "    </tr>\n",
       "    <tr>\n",
       "      <td>935</td>\n",
       "      <td>1.167312</td>\n",
       "      <td>1.141355</td>\n",
       "      <td>1.181995</td>\n",
       "      <td>1.079209</td>\n",
       "      <td>-0.773247</td>\n",
       "      <td>-0.452827</td>\n",
       "    </tr>\n",
       "    <tr>\n",
       "      <td>746</td>\n",
       "      <td>1.659600</td>\n",
       "      <td>1.677855</td>\n",
       "      <td>1.626634</td>\n",
       "      <td>1.763588</td>\n",
       "      <td>-0.098060</td>\n",
       "      <td>0.128030</td>\n",
       "    </tr>\n",
       "    <tr>\n",
       "      <td>321</td>\n",
       "      <td>-0.888742</td>\n",
       "      <td>-0.910429</td>\n",
       "      <td>-0.900815</td>\n",
       "      <td>-0.933623</td>\n",
       "      <td>-0.575337</td>\n",
       "      <td>0.198042</td>\n",
       "    </tr>\n",
       "    <tr>\n",
       "      <td>380</td>\n",
       "      <td>-0.230898</td>\n",
       "      <td>-0.251676</td>\n",
       "      <td>-0.251213</td>\n",
       "      <td>-0.263167</td>\n",
       "      <td>-0.356771</td>\n",
       "      <td>-0.175506</td>\n",
       "    </tr>\n",
       "  </tbody>\n",
       "</table>\n",
       "</div>"
      ],
      "text/plain": [
       "          Low      High      Open     SMA_5    Volume  daily_pct_chng\n",
       "618  0.640985  0.598540  0.627600  0.657664  0.427780       -0.363591\n",
       "215 -1.154098 -1.174132 -1.169844 -1.203722 -0.450936        0.417469\n",
       "365 -0.354163 -0.370645 -0.373986 -0.390599 -0.492785        0.608474\n",
       "44  -0.993956 -0.975850 -0.957479 -0.927619  0.573105       -1.071811\n",
       "531  0.556144  0.525795  0.525757  0.473377 -0.578868        0.741596\n",
       "377 -0.251528 -0.281734 -0.263975 -0.286978 -0.897594       -0.090301\n",
       "935  1.167312  1.141355  1.181995  1.079209 -0.773247       -0.452827\n",
       "746  1.659600  1.677855  1.626634  1.763588 -0.098060        0.128030\n",
       "321 -0.888742 -0.910429 -0.900815 -0.933623 -0.575337        0.198042\n",
       "380 -0.230898 -0.251676 -0.251213 -0.263167 -0.356771       -0.175506"
      ]
     },
     "execution_count": 193,
     "metadata": {},
     "output_type": "execute_result"
    }
   ],
   "source": [
    "X_test.sample(10)"
   ]
  },
  {
   "cell_type": "code",
   "execution_count": 194,
   "metadata": {},
   "outputs": [
    {
     "data": {
      "text/plain": [
       "51590    195.570007\n",
       "51282    171.610001\n",
       "51334    188.740005\n",
       "51166    159.880005\n",
       "51017    140.460007\n",
       "51307    187.360001\n",
       "51308    190.039993\n",
       "51181    174.250000\n",
       "50973    119.110001\n",
       "50722     99.959999\n",
       "Name: Close, dtype: float64"
      ]
     },
     "execution_count": 194,
     "metadata": {},
     "output_type": "execute_result"
    }
   ],
   "source": [
    "y_test.head(10)"
   ]
  },
  {
   "cell_type": "code",
   "execution_count": 195,
   "metadata": {},
   "outputs": [
    {
     "name": "stdout",
     "output_type": "stream",
     "text": [
      "1008\n",
      "             Date        High         Low        Open       Close      Volume  \\\n",
      "50652  2015-10-01  109.620003  107.309998  109.070000  109.580002  63929100.0   \n",
      "50653  2015-10-02  111.010002  107.550003  108.010002  110.379997  58019800.0   \n",
      "50654  2015-10-05  111.370003  109.070000  109.879997  110.779999  52064700.0   \n",
      "50655  2015-10-06  111.739998  109.769997  110.629997  111.309998  48196800.0   \n",
      "50656  2015-10-07  111.769997  109.410004  111.739998  110.779999  46765600.0   \n",
      "\n",
      "        Adj Close  HL_pct_diff  daily_pct_chng ticker       SMA_5  \n",
      "50652  102.269157     0.021526        0.004676   AAPL   63.708000  \n",
      "50653  103.015785     0.032171        0.021942   AAPL   75.456001  \n",
      "50654  103.389107     0.021087        0.008191   AAPL   87.276001  \n",
      "50655  103.883736     0.017947        0.006147   AAPL   99.154001  \n",
      "50656  103.389107     0.021570       -0.008591   AAPL  111.102000  \n"
     ]
    }
   ],
   "source": [
    "stock_filter = apple.loc[apple['ticker']=='AAPL']\n",
    "#stock_filter = top_5.loc[top_5['ticker']]\n",
    "print(len(stock_filter))\n",
    "print (stock_filter.head())"
   ]
  },
  {
   "cell_type": "code",
   "execution_count": 196,
   "metadata": {},
   "outputs": [
    {
     "data": {
      "text/plain": [
       "154.13800599839954"
      ]
     },
     "execution_count": 196,
     "metadata": {},
     "output_type": "execute_result"
    }
   ],
   "source": [
    "stock_filter['Close'].mean()"
   ]
  },
  {
   "cell_type": "code",
   "execution_count": 197,
   "metadata": {},
   "outputs": [
    {
     "name": "stdout",
     "output_type": "stream",
     "text": [
      "actual high 195.57000732421875\n",
      "predicted 196.0\n"
     ]
    }
   ],
   "source": [
    "print ('actual high', y_test[51590])\n",
    "print ('predicted', round(y_pred[0]))\n",
    "## talk to austin about this"
   ]
  },
  {
   "cell_type": "code",
   "execution_count": 198,
   "metadata": {},
   "outputs": [
    {
     "name": "stdout",
     "output_type": "stream",
     "text": [
      "196.0\n",
      "171.0\n",
      "189.0\n",
      "160.0\n",
      "141.0\n"
     ]
    }
   ],
   "source": [
    "# predict the y-values\n",
    "y_pred = mystocks.predict(X_test)\n",
    "for i in y_pred[:5]:\n",
    "    print(round(i,0))"
   ]
  },
  {
   "cell_type": "code",
   "execution_count": 199,
   "metadata": {},
   "outputs": [
    {
     "name": "stdout",
     "output_type": "stream",
     "text": [
      "196.0\n",
      "172.0\n",
      "189.0\n",
      "160.0\n",
      "140.0\n"
     ]
    }
   ],
   "source": [
    "# How similar are those to the actual high prices?\n",
    "for i in y_test[:5]:\n",
    "    print(round(i,0))"
   ]
  },
  {
   "cell_type": "code",
   "execution_count": 200,
   "metadata": {},
   "outputs": [
    {
     "name": "stdout",
     "output_type": "stream",
     "text": [
      "-1.0\n",
      "0.0\n",
      "0.0\n",
      "0.0\n",
      "-0.0\n"
     ]
    }
   ],
   "source": [
    "# the residuals are the difference between true y values and predicted y values.\n",
    "residuals= y_test - y_pred\n",
    "for i in residuals[:5]:\n",
    "    print(round(i,0))"
   ]
  },
  {
   "cell_type": "code",
   "execution_count": 201,
   "metadata": {},
   "outputs": [
    {
     "data": {
      "image/png": "[encoded data removed]",
      "text/plain": [
       "<Figure size 864x936 with 1 Axes>"
      ]
     },
     "metadata": {
      "needs_background": "light"
     },
     "output_type": "display_data"
    }
   ],
   "source": [
    "# Use a scatter plot to compare our predictions to the actual values\n",
    "# Remember: when x==y, that indicates an accurate model! \n",
    "# Do we have that?\n",
    "plt.figure(figsize=(12, 13))\n",
    "sns.regplot(y_pred, y_test);"
   ]
  },
  {
   "cell_type": "code",
   "execution_count": 202,
   "metadata": {},
   "outputs": [
    {
     "name": "stderr",
     "output_type": "stream",
     "text": [
      "/Library/Frameworks/Python.framework/Versions/3.7/lib/python3.7/site-packages/ipykernel_launcher.py:1: SettingWithCopyWarning: \n",
      "A value is trying to be set on a copy of a slice from a DataFrame.\n",
      "Try using .loc[row_indexer,col_indexer] = value instead\n",
      "\n",
      "See the caveats in the documentation: http://pandas.pydata.org/pandas-docs/stable/user_guide/indexing.html#returning-a-view-versus-a-copy\n",
      "  \"\"\"Entry point for launching an IPython kernel.\n"
     ]
    }
   ],
   "source": [
    "apple_stock['ticker'] = apple['ticker']"
   ]
  },
  {
   "cell_type": "code",
   "execution_count": 203,
   "metadata": {},
   "outputs": [
    {
     "data": {
      "text/html": [
       "<div>\n",
       "<style scoped>\n",
       "    .dataframe tbody tr th:only-of-type {\n",
       "        vertical-align: middle;\n",
       "    }\n",
       "\n",
       "    .dataframe tbody tr th {\n",
       "        vertical-align: top;\n",
       "    }\n",
       "\n",
       "    .dataframe thead th {\n",
       "        text-align: right;\n",
       "    }\n",
       "</style>\n",
       "<table border=\"1\" class=\"dataframe\">\n",
       "  <thead>\n",
       "    <tr style=\"text-align: right;\">\n",
       "      <th></th>\n",
       "      <th>Low</th>\n",
       "      <th>High</th>\n",
       "      <th>Open</th>\n",
       "      <th>SMA_5</th>\n",
       "      <th>Volume</th>\n",
       "      <th>daily_pct_chng</th>\n",
       "      <th>ticker</th>\n",
       "    </tr>\n",
       "  </thead>\n",
       "  <tbody>\n",
       "    <tr>\n",
       "      <td>50652</td>\n",
       "      <td>107.309998</td>\n",
       "      <td>109.620003</td>\n",
       "      <td>109.070000</td>\n",
       "      <td>63.708000</td>\n",
       "      <td>63929100.0</td>\n",
       "      <td>0.004676</td>\n",
       "      <td>AAPL</td>\n",
       "    </tr>\n",
       "    <tr>\n",
       "      <td>50653</td>\n",
       "      <td>107.550003</td>\n",
       "      <td>111.010002</td>\n",
       "      <td>108.010002</td>\n",
       "      <td>75.456001</td>\n",
       "      <td>58019800.0</td>\n",
       "      <td>0.021942</td>\n",
       "      <td>AAPL</td>\n",
       "    </tr>\n",
       "    <tr>\n",
       "      <td>50654</td>\n",
       "      <td>109.070000</td>\n",
       "      <td>111.370003</td>\n",
       "      <td>109.879997</td>\n",
       "      <td>87.276001</td>\n",
       "      <td>52064700.0</td>\n",
       "      <td>0.008191</td>\n",
       "      <td>AAPL</td>\n",
       "    </tr>\n",
       "    <tr>\n",
       "      <td>50655</td>\n",
       "      <td>109.769997</td>\n",
       "      <td>111.739998</td>\n",
       "      <td>110.629997</td>\n",
       "      <td>99.154001</td>\n",
       "      <td>48196800.0</td>\n",
       "      <td>0.006147</td>\n",
       "      <td>AAPL</td>\n",
       "    </tr>\n",
       "    <tr>\n",
       "      <td>50656</td>\n",
       "      <td>109.410004</td>\n",
       "      <td>111.769997</td>\n",
       "      <td>111.739998</td>\n",
       "      <td>111.102000</td>\n",
       "      <td>46765600.0</td>\n",
       "      <td>-0.008591</td>\n",
       "      <td>AAPL</td>\n",
       "    </tr>\n",
       "  </tbody>\n",
       "</table>\n",
       "</div>"
      ],
      "text/plain": [
       "              Low        High        Open       SMA_5      Volume  \\\n",
       "50652  107.309998  109.620003  109.070000   63.708000  63929100.0   \n",
       "50653  107.550003  111.010002  108.010002   75.456001  58019800.0   \n",
       "50654  109.070000  111.370003  109.879997   87.276001  52064700.0   \n",
       "50655  109.769997  111.739998  110.629997   99.154001  48196800.0   \n",
       "50656  109.410004  111.769997  111.739998  111.102000  46765600.0   \n",
       "\n",
       "       daily_pct_chng ticker  \n",
       "50652        0.004676   AAPL  \n",
       "50653        0.021942   AAPL  \n",
       "50654        0.008191   AAPL  \n",
       "50655        0.006147   AAPL  \n",
       "50656       -0.008591   AAPL  "
      ]
     },
     "execution_count": 203,
     "metadata": {},
     "output_type": "execute_result"
    }
   ],
   "source": [
    "apple_stock.head()"
   ]
  },
  {
   "cell_type": "code",
   "execution_count": 204,
   "metadata": {},
   "outputs": [],
   "source": [
    "apple.to_csv('AAPL.csv')"
   ]
  },
  {
   "cell_type": "code",
   "execution_count": 205,
   "metadata": {},
   "outputs": [
    {
     "data": {
      "text/html": [
       "<div>\n",
       "<style scoped>\n",
       "    .dataframe tbody tr th:only-of-type {\n",
       "        vertical-align: middle;\n",
       "    }\n",
       "\n",
       "    .dataframe tbody tr th {\n",
       "        vertical-align: top;\n",
       "    }\n",
       "\n",
       "    .dataframe thead th {\n",
       "        text-align: right;\n",
       "    }\n",
       "</style>\n",
       "<table border=\"1\" class=\"dataframe\">\n",
       "  <thead>\n",
       "    <tr style=\"text-align: right;\">\n",
       "      <th></th>\n",
       "      <th>Low</th>\n",
       "      <th>High</th>\n",
       "      <th>Open</th>\n",
       "      <th>SMA_5</th>\n",
       "      <th>Volume</th>\n",
       "      <th>daily_pct_chng</th>\n",
       "      <th>ticker</th>\n",
       "    </tr>\n",
       "  </thead>\n",
       "  <tbody>\n",
       "    <tr>\n",
       "      <td>50652</td>\n",
       "      <td>107.309998</td>\n",
       "      <td>109.620003</td>\n",
       "      <td>109.070000</td>\n",
       "      <td>63.708000</td>\n",
       "      <td>63929100.0</td>\n",
       "      <td>0.004676</td>\n",
       "      <td>AAPL</td>\n",
       "    </tr>\n",
       "    <tr>\n",
       "      <td>50653</td>\n",
       "      <td>107.550003</td>\n",
       "      <td>111.010002</td>\n",
       "      <td>108.010002</td>\n",
       "      <td>75.456001</td>\n",
       "      <td>58019800.0</td>\n",
       "      <td>0.021942</td>\n",
       "      <td>AAPL</td>\n",
       "    </tr>\n",
       "    <tr>\n",
       "      <td>50654</td>\n",
       "      <td>109.070000</td>\n",
       "      <td>111.370003</td>\n",
       "      <td>109.879997</td>\n",
       "      <td>87.276001</td>\n",
       "      <td>52064700.0</td>\n",
       "      <td>0.008191</td>\n",
       "      <td>AAPL</td>\n",
       "    </tr>\n",
       "    <tr>\n",
       "      <td>50655</td>\n",
       "      <td>109.769997</td>\n",
       "      <td>111.739998</td>\n",
       "      <td>110.629997</td>\n",
       "      <td>99.154001</td>\n",
       "      <td>48196800.0</td>\n",
       "      <td>0.006147</td>\n",
       "      <td>AAPL</td>\n",
       "    </tr>\n",
       "    <tr>\n",
       "      <td>50656</td>\n",
       "      <td>109.410004</td>\n",
       "      <td>111.769997</td>\n",
       "      <td>111.739998</td>\n",
       "      <td>111.102000</td>\n",
       "      <td>46765600.0</td>\n",
       "      <td>-0.008591</td>\n",
       "      <td>AAPL</td>\n",
       "    </tr>\n",
       "    <tr>\n",
       "      <td>...</td>\n",
       "      <td>...</td>\n",
       "      <td>...</td>\n",
       "      <td>...</td>\n",
       "      <td>...</td>\n",
       "      <td>...</td>\n",
       "      <td>...</td>\n",
       "      <td>...</td>\n",
       "    </tr>\n",
       "    <tr>\n",
       "      <td>51655</td>\n",
       "      <td>218.830002</td>\n",
       "      <td>220.940002</td>\n",
       "      <td>220.000000</td>\n",
       "      <td>221.466000</td>\n",
       "      <td>18833500.0</td>\n",
       "      <td>-0.000500</td>\n",
       "      <td>AAPL</td>\n",
       "    </tr>\n",
       "    <tr>\n",
       "      <td>51656</td>\n",
       "      <td>217.279999</td>\n",
       "      <td>220.960007</td>\n",
       "      <td>220.539993</td>\n",
       "      <td>221.146002</td>\n",
       "      <td>25352000.0</td>\n",
       "      <td>-0.007799</td>\n",
       "      <td>AAPL</td>\n",
       "    </tr>\n",
       "    <tr>\n",
       "      <td>51657</td>\n",
       "      <td>220.789993</td>\n",
       "      <td>224.580002</td>\n",
       "      <td>220.899994</td>\n",
       "      <td>222.094003</td>\n",
       "      <td>25977400.0</td>\n",
       "      <td>0.013898</td>\n",
       "      <td>AAPL</td>\n",
       "    </tr>\n",
       "    <tr>\n",
       "      <td>51658</td>\n",
       "      <td>224.199997</td>\n",
       "      <td>228.220001</td>\n",
       "      <td>225.070007</td>\n",
       "      <td>223.240002</td>\n",
       "      <td>34805800.0</td>\n",
       "      <td>-0.002133</td>\n",
       "      <td>AAPL</td>\n",
       "    </tr>\n",
       "    <tr>\n",
       "      <td>51659</td>\n",
       "      <td>217.929993</td>\n",
       "      <td>223.580002</td>\n",
       "      <td>223.059998</td>\n",
       "      <td>223.656003</td>\n",
       "      <td>34612300.0</td>\n",
       "      <td>-0.018381</td>\n",
       "      <td>AAPL</td>\n",
       "    </tr>\n",
       "  </tbody>\n",
       "</table>\n",
       "<p>1008 rows × 7 columns</p>\n",
       "</div>"
      ],
      "text/plain": [
       "              Low        High        Open       SMA_5      Volume  \\\n",
       "50652  107.309998  109.620003  109.070000   63.708000  63929100.0   \n",
       "50653  107.550003  111.010002  108.010002   75.456001  58019800.0   \n",
       "50654  109.070000  111.370003  109.879997   87.276001  52064700.0   \n",
       "50655  109.769997  111.739998  110.629997   99.154001  48196800.0   \n",
       "50656  109.410004  111.769997  111.739998  111.102000  46765600.0   \n",
       "...           ...         ...         ...         ...         ...   \n",
       "51655  218.830002  220.940002  220.000000  221.466000  18833500.0   \n",
       "51656  217.279999  220.960007  220.539993  221.146002  25352000.0   \n",
       "51657  220.789993  224.580002  220.899994  222.094003  25977400.0   \n",
       "51658  224.199997  228.220001  225.070007  223.240002  34805800.0   \n",
       "51659  217.929993  223.580002  223.059998  223.656003  34612300.0   \n",
       "\n",
       "       daily_pct_chng ticker  \n",
       "50652        0.004676   AAPL  \n",
       "50653        0.021942   AAPL  \n",
       "50654        0.008191   AAPL  \n",
       "50655        0.006147   AAPL  \n",
       "50656       -0.008591   AAPL  \n",
       "...               ...    ...  \n",
       "51655       -0.000500   AAPL  \n",
       "51656       -0.007799   AAPL  \n",
       "51657        0.013898   AAPL  \n",
       "51658       -0.002133   AAPL  \n",
       "51659       -0.018381   AAPL  \n",
       "\n",
       "[1008 rows x 7 columns]"
      ]
     },
     "execution_count": 205,
     "metadata": {},
     "output_type": "execute_result"
    }
   ],
   "source": [
    "file = open('/Users/germanportes/Documents/general_assembly/projects/final_project/AAPL_final_model.pkl', 'rb')\n",
    "BAC=pickle.load(file)\n",
    "file.close()\n",
    "BAC"
   ]
  },
  {
   "cell_type": "code",
   "execution_count": null,
   "metadata": {},
   "outputs": [],
   "source": []
  }
 ],
 "metadata": {
  "kernelspec": {
   "display_name": "Python 3",
   "language": "python",
   "name": "python3"
  },
  "language_info": {
   "codemirror_mode": {
    "name": "ipython",
    "version": 3
   },
   "file_extension": ".py",
   "mimetype": "text/x-python",
   "name": "python",
   "nbconvert_exporter": "python",
   "pygments_lexer": "ipython3",
   "version": "3.7.4"
  }
 },
 "nbformat": 4,
 "nbformat_minor": 2
}
