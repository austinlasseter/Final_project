{
 "cells": [
  {
   "cell_type": "code",
   "execution_count": 1,
   "metadata": {},
   "outputs": [],
   "source": [
    "import pandas as pd\n",
    "from pathlib import Path\n",
    "import glob\n",
    "from sklearn.model_selection import train_test_split\n",
    "from sklearn.linear_model import LinearRegression\n",
    "from sklearn import metrics\n",
    "import numpy as np\n",
    "from math import sqrt\n",
    "import matplotlib.pyplot as plt\n",
    "%matplotlib inline\n",
    "import seaborn as sns\n",
    "import pickle\n",
    "import pandas_profiling"
   ]
  },
  {
   "cell_type": "code",
   "execution_count": 2,
   "metadata": {},
   "outputs": [
    {
     "data": {
      "text/plain": [
       "PosixPath('/Users/germanportes/Documents/general_assembly/projects/final_project')"
      ]
     },
     "execution_count": 2,
     "metadata": {},
     "output_type": "execute_result"
    }
   ],
   "source": [
    "home = Path.cwd()\n",
    "home"
   ]
  },
  {
   "cell_type": "code",
   "execution_count": 3,
   "metadata": {},
   "outputs": [
    {
     "data": {
      "text/html": [
       "<div>\n",
       "<style scoped>\n",
       "    .dataframe tbody tr th:only-of-type {\n",
       "        vertical-align: middle;\n",
       "    }\n",
       "\n",
       "    .dataframe tbody tr th {\n",
       "        vertical-align: top;\n",
       "    }\n",
       "\n",
       "    .dataframe thead th {\n",
       "        text-align: right;\n",
       "    }\n",
       "</style>\n",
       "<table border=\"1\" class=\"dataframe\">\n",
       "  <thead>\n",
       "    <tr style=\"text-align: right;\">\n",
       "      <th></th>\n",
       "      <th>Date</th>\n",
       "      <th>High</th>\n",
       "      <th>Low</th>\n",
       "      <th>Open</th>\n",
       "      <th>Close</th>\n",
       "      <th>Volume</th>\n",
       "      <th>Adj Close</th>\n",
       "      <th>HL_pct_diff</th>\n",
       "      <th>daily_pct_chng</th>\n",
       "      <th>ticker</th>\n",
       "    </tr>\n",
       "  </thead>\n",
       "  <tbody>\n",
       "    <tr>\n",
       "      <td>486731</td>\n",
       "      <td>2018-03-20</td>\n",
       "      <td>193.729996</td>\n",
       "      <td>192.009995</td>\n",
       "      <td>192.839996</td>\n",
       "      <td>192.550003</td>\n",
       "      <td>308000.0</td>\n",
       "      <td>192.550003</td>\n",
       "      <td>0.008958</td>\n",
       "      <td>-0.001504</td>\n",
       "      <td>WCG</td>\n",
       "    </tr>\n",
       "    <tr>\n",
       "      <td>499677</td>\n",
       "      <td>2017-09-12</td>\n",
       "      <td>65.330002</td>\n",
       "      <td>64.459999</td>\n",
       "      <td>64.650002</td>\n",
       "      <td>65.000000</td>\n",
       "      <td>2526600.0</td>\n",
       "      <td>62.801128</td>\n",
       "      <td>0.013497</td>\n",
       "      <td>0.005414</td>\n",
       "      <td>XLNX</td>\n",
       "    </tr>\n",
       "    <tr>\n",
       "      <td>89310</td>\n",
       "      <td>2017-02-28</td>\n",
       "      <td>31.540001</td>\n",
       "      <td>30.889999</td>\n",
       "      <td>31.540001</td>\n",
       "      <td>30.900000</td>\n",
       "      <td>2523800.0</td>\n",
       "      <td>30.900000</td>\n",
       "      <td>0.021042</td>\n",
       "      <td>-0.020292</td>\n",
       "      <td>CDNS</td>\n",
       "    </tr>\n",
       "    <tr>\n",
       "      <td>400454</td>\n",
       "      <td>2016-12-14</td>\n",
       "      <td>68.580002</td>\n",
       "      <td>66.870003</td>\n",
       "      <td>68.449997</td>\n",
       "      <td>66.980003</td>\n",
       "      <td>1096800.0</td>\n",
       "      <td>60.865131</td>\n",
       "      <td>0.025572</td>\n",
       "      <td>-0.021475</td>\n",
       "      <td>REG</td>\n",
       "    </tr>\n",
       "    <tr>\n",
       "      <td>459256</td>\n",
       "      <td>2018-11-14</td>\n",
       "      <td>21.895000</td>\n",
       "      <td>20.900000</td>\n",
       "      <td>21.330000</td>\n",
       "      <td>20.950001</td>\n",
       "      <td>3026600.0</td>\n",
       "      <td>20.950001</td>\n",
       "      <td>0.047608</td>\n",
       "      <td>-0.017815</td>\n",
       "      <td>UA</td>\n",
       "    </tr>\n",
       "    <tr>\n",
       "      <td>215879</td>\n",
       "      <td>2018-02-20</td>\n",
       "      <td>224.080002</td>\n",
       "      <td>221.179993</td>\n",
       "      <td>223.000000</td>\n",
       "      <td>221.830002</td>\n",
       "      <td>1211100.0</td>\n",
       "      <td>215.044250</td>\n",
       "      <td>0.013112</td>\n",
       "      <td>-0.005247</td>\n",
       "      <td>GD</td>\n",
       "    </tr>\n",
       "    <tr>\n",
       "      <td>246288</td>\n",
       "      <td>2018-12-18</td>\n",
       "      <td>306.709991</td>\n",
       "      <td>289.179993</td>\n",
       "      <td>305.070007</td>\n",
       "      <td>292.019989</td>\n",
       "      <td>1497200.0</td>\n",
       "      <td>289.681061</td>\n",
       "      <td>0.060620</td>\n",
       "      <td>-0.042777</td>\n",
       "      <td>HUM</td>\n",
       "    </tr>\n",
       "    <tr>\n",
       "      <td>245251</td>\n",
       "      <td>2018-11-05</td>\n",
       "      <td>24.770000</td>\n",
       "      <td>24.420000</td>\n",
       "      <td>24.629999</td>\n",
       "      <td>24.639999</td>\n",
       "      <td>7039000.0</td>\n",
       "      <td>23.861792</td>\n",
       "      <td>0.014333</td>\n",
       "      <td>0.000406</td>\n",
       "      <td>HPQ</td>\n",
       "    </tr>\n",
       "    <tr>\n",
       "      <td>468985</td>\n",
       "      <td>2017-08-04</td>\n",
       "      <td>68.930000</td>\n",
       "      <td>68.300003</td>\n",
       "      <td>68.500000</td>\n",
       "      <td>68.529999</td>\n",
       "      <td>3201800.0</td>\n",
       "      <td>62.988518</td>\n",
       "      <td>0.009224</td>\n",
       "      <td>0.000438</td>\n",
       "      <td>VLO</td>\n",
       "    </tr>\n",
       "    <tr>\n",
       "      <td>36365</td>\n",
       "      <td>2016-01-22</td>\n",
       "      <td>93.589996</td>\n",
       "      <td>90.330002</td>\n",
       "      <td>90.910004</td>\n",
       "      <td>93.250000</td>\n",
       "      <td>3258300.0</td>\n",
       "      <td>86.507950</td>\n",
       "      <td>0.036090</td>\n",
       "      <td>0.025740</td>\n",
       "      <td>AMT</td>\n",
       "    </tr>\n",
       "  </tbody>\n",
       "</table>\n",
       "</div>"
      ],
      "text/plain": [
       "              Date        High         Low        Open       Close     Volume  \\\n",
       "486731  2018-03-20  193.729996  192.009995  192.839996  192.550003   308000.0   \n",
       "499677  2017-09-12   65.330002   64.459999   64.650002   65.000000  2526600.0   \n",
       "89310   2017-02-28   31.540001   30.889999   31.540001   30.900000  2523800.0   \n",
       "400454  2016-12-14   68.580002   66.870003   68.449997   66.980003  1096800.0   \n",
       "459256  2018-11-14   21.895000   20.900000   21.330000   20.950001  3026600.0   \n",
       "215879  2018-02-20  224.080002  221.179993  223.000000  221.830002  1211100.0   \n",
       "246288  2018-12-18  306.709991  289.179993  305.070007  292.019989  1497200.0   \n",
       "245251  2018-11-05   24.770000   24.420000   24.629999   24.639999  7039000.0   \n",
       "468985  2017-08-04   68.930000   68.300003   68.500000   68.529999  3201800.0   \n",
       "36365   2016-01-22   93.589996   90.330002   90.910004   93.250000  3258300.0   \n",
       "\n",
       "         Adj Close  HL_pct_diff  daily_pct_chng ticker  \n",
       "486731  192.550003     0.008958       -0.001504    WCG  \n",
       "499677   62.801128     0.013497        0.005414   XLNX  \n",
       "89310    30.900000     0.021042       -0.020292   CDNS  \n",
       "400454   60.865131     0.025572       -0.021475    REG  \n",
       "459256   20.950001     0.047608       -0.017815     UA  \n",
       "215879  215.044250     0.013112       -0.005247     GD  \n",
       "246288  289.681061     0.060620       -0.042777    HUM  \n",
       "245251   23.861792     0.014333        0.000406    HPQ  \n",
       "468985   62.988518     0.009224        0.000438    VLO  \n",
       "36365    86.507950     0.036090        0.025740    AMT  "
      ]
     },
     "execution_count": 3,
     "metadata": {},
     "output_type": "execute_result"
    }
   ],
   "source": [
    "stocks = pd.read_csv(\"../final_project/sp500_1.csv\")\n",
    "#stocks = pd.read_csv(\"../final_project/sp500_1.csv\").profile_report()\n",
    "stocks.sample(10)"
   ]
  },
  {
   "cell_type": "code",
   "execution_count": 4,
   "metadata": {},
   "outputs": [],
   "source": [
    "# simple rolling average\n",
    "stocks['SMA_5'] = stocks.iloc[:,1].rolling(window=5).mean()"
   ]
  },
  {
   "cell_type": "code",
   "execution_count": 5,
   "metadata": {},
   "outputs": [
    {
     "data": {
      "text/html": [
       "<div>\n",
       "<style scoped>\n",
       "    .dataframe tbody tr th:only-of-type {\n",
       "        vertical-align: middle;\n",
       "    }\n",
       "\n",
       "    .dataframe tbody tr th {\n",
       "        vertical-align: top;\n",
       "    }\n",
       "\n",
       "    .dataframe thead th {\n",
       "        text-align: right;\n",
       "    }\n",
       "</style>\n",
       "<table border=\"1\" class=\"dataframe\">\n",
       "  <thead>\n",
       "    <tr style=\"text-align: right;\">\n",
       "      <th></th>\n",
       "      <th>Date</th>\n",
       "      <th>High</th>\n",
       "      <th>Low</th>\n",
       "      <th>Open</th>\n",
       "      <th>Close</th>\n",
       "      <th>Volume</th>\n",
       "      <th>Adj Close</th>\n",
       "      <th>HL_pct_diff</th>\n",
       "      <th>daily_pct_chng</th>\n",
       "      <th>ticker</th>\n",
       "      <th>SMA_5</th>\n",
       "    </tr>\n",
       "  </thead>\n",
       "  <tbody>\n",
       "    <tr>\n",
       "      <td>141448</td>\n",
       "      <td>2019-09-12</td>\n",
       "      <td>140.000000</td>\n",
       "      <td>137.050003</td>\n",
       "      <td>138.419998</td>\n",
       "      <td>138.809998</td>\n",
       "      <td>1699100.0</td>\n",
       "      <td>138.809998</td>\n",
       "      <td>0.021525</td>\n",
       "      <td>0.002818</td>\n",
       "      <td>CCI</td>\n",
       "      <td>143.370001</td>\n",
       "    </tr>\n",
       "    <tr>\n",
       "      <td>107107</td>\n",
       "      <td>2015-10-12</td>\n",
       "      <td>50.730000</td>\n",
       "      <td>49.259998</td>\n",
       "      <td>50.380001</td>\n",
       "      <td>50.380001</td>\n",
       "      <td>2107900.0</td>\n",
       "      <td>43.913006</td>\n",
       "      <td>0.029842</td>\n",
       "      <td>0.000000</td>\n",
       "      <td>CF</td>\n",
       "      <td>52.030000</td>\n",
       "    </tr>\n",
       "    <tr>\n",
       "      <td>468707</td>\n",
       "      <td>2016-06-28</td>\n",
       "      <td>52.049999</td>\n",
       "      <td>50.529999</td>\n",
       "      <td>52.049999</td>\n",
       "      <td>51.830002</td>\n",
       "      <td>7708900.0</td>\n",
       "      <td>45.703316</td>\n",
       "      <td>0.030081</td>\n",
       "      <td>-0.004227</td>\n",
       "      <td>VLO</td>\n",
       "      <td>52.918000</td>\n",
       "    </tr>\n",
       "    <tr>\n",
       "      <td>320663</td>\n",
       "      <td>2015-11-17</td>\n",
       "      <td>339.000000</td>\n",
       "      <td>331.850006</td>\n",
       "      <td>333.079987</td>\n",
       "      <td>336.320007</td>\n",
       "      <td>170700.0</td>\n",
       "      <td>336.320007</td>\n",
       "      <td>0.021546</td>\n",
       "      <td>0.009727</td>\n",
       "      <td>MTD</td>\n",
       "      <td>334.544000</td>\n",
       "    </tr>\n",
       "    <tr>\n",
       "      <td>86644</td>\n",
       "      <td>2018-07-31</td>\n",
       "      <td>53.349998</td>\n",
       "      <td>52.830002</td>\n",
       "      <td>53.040001</td>\n",
       "      <td>53.220001</td>\n",
       "      <td>1678800.0</td>\n",
       "      <td>52.018227</td>\n",
       "      <td>0.009843</td>\n",
       "      <td>0.003394</td>\n",
       "      <td>BF.B</td>\n",
       "      <td>54.284000</td>\n",
       "    </tr>\n",
       "  </tbody>\n",
       "</table>\n",
       "</div>"
      ],
      "text/plain": [
       "              Date        High         Low        Open       Close     Volume  \\\n",
       "141448  2019-09-12  140.000000  137.050003  138.419998  138.809998  1699100.0   \n",
       "107107  2015-10-12   50.730000   49.259998   50.380001   50.380001  2107900.0   \n",
       "468707  2016-06-28   52.049999   50.529999   52.049999   51.830002  7708900.0   \n",
       "320663  2015-11-17  339.000000  331.850006  333.079987  336.320007   170700.0   \n",
       "86644   2018-07-31   53.349998   52.830002   53.040001   53.220001  1678800.0   \n",
       "\n",
       "         Adj Close  HL_pct_diff  daily_pct_chng ticker       SMA_5  \n",
       "141448  138.809998     0.021525        0.002818    CCI  143.370001  \n",
       "107107   43.913006     0.029842        0.000000     CF   52.030000  \n",
       "468707   45.703316     0.030081       -0.004227    VLO   52.918000  \n",
       "320663  336.320007     0.021546        0.009727    MTD  334.544000  \n",
       "86644    52.018227     0.009843        0.003394   BF.B   54.284000  "
      ]
     },
     "execution_count": 5,
     "metadata": {},
     "output_type": "execute_result"
    }
   ],
   "source": [
    "stocks.sample(5)"
   ]
  },
  {
   "cell_type": "code",
   "execution_count": 6,
   "metadata": {},
   "outputs": [
    {
     "data": {
      "text/plain": [
       "Date              0\n",
       "High              0\n",
       "Low               0\n",
       "Open              0\n",
       "Close             0\n",
       "Volume            0\n",
       "Adj Close         0\n",
       "HL_pct_diff       0\n",
       "daily_pct_chng    0\n",
       "ticker            0\n",
       "SMA_5             4\n",
       "dtype: int64"
      ]
     },
     "execution_count": 6,
     "metadata": {},
     "output_type": "execute_result"
    }
   ],
   "source": [
    "# any missing data\n",
    "stocks.isnull().sum()"
   ]
  },
  {
   "cell_type": "code",
   "execution_count": 7,
   "metadata": {},
   "outputs": [
    {
     "data": {
      "text/plain": [
       "(505207, 11)"
      ]
     },
     "execution_count": 7,
     "metadata": {},
     "output_type": "execute_result"
    }
   ],
   "source": [
    "#size\n",
    "stocks.shape"
   ]
  },
  {
   "cell_type": "code",
   "execution_count": 8,
   "metadata": {},
   "outputs": [
    {
     "data": {
      "text/plain": [
       "count    505207.000000\n",
       "mean        106.499921\n",
       "std         171.910724\n",
       "min           1.740000\n",
       "25%          44.410000\n",
       "50%          72.330002\n",
       "75%         116.739998\n",
       "max        3766.270020\n",
       "Name: Close, dtype: float64"
      ]
     },
     "execution_count": 8,
     "metadata": {},
     "output_type": "execute_result"
    }
   ],
   "source": [
    "# Establish our target variables: \"runs\"\n",
    "stocks['Close'].describe()"
   ]
  },
  {
   "cell_type": "code",
   "execution_count": null,
   "metadata": {},
   "outputs": [],
   "source": []
  },
  {
   "cell_type": "code",
   "execution_count": 9,
   "metadata": {},
   "outputs": [
    {
     "data": {
      "text/plain": [
       "505"
      ]
     },
     "execution_count": 9,
     "metadata": {},
     "output_type": "execute_result"
    }
   ],
   "source": [
    "# How many unique companies are there?\n",
    "stocks['ticker'].nunique()"
   ]
  },
  {
   "cell_type": "code",
   "execution_count": 10,
   "metadata": {},
   "outputs": [
    {
     "data": {
      "text/html": [
       "<div>\n",
       "<style scoped>\n",
       "    .dataframe tbody tr th:only-of-type {\n",
       "        vertical-align: middle;\n",
       "    }\n",
       "\n",
       "    .dataframe tbody tr th {\n",
       "        vertical-align: top;\n",
       "    }\n",
       "\n",
       "    .dataframe thead th {\n",
       "        text-align: right;\n",
       "    }\n",
       "</style>\n",
       "<table border=\"1\" class=\"dataframe\">\n",
       "  <thead>\n",
       "    <tr style=\"text-align: right;\">\n",
       "      <th></th>\n",
       "      <th>Date</th>\n",
       "      <th>High</th>\n",
       "      <th>Low</th>\n",
       "      <th>Open</th>\n",
       "      <th>Close</th>\n",
       "      <th>Volume</th>\n",
       "      <th>Adj Close</th>\n",
       "      <th>HL_pct_diff</th>\n",
       "      <th>daily_pct_chng</th>\n",
       "      <th>ticker</th>\n",
       "      <th>SMA_5</th>\n",
       "    </tr>\n",
       "  </thead>\n",
       "  <tbody>\n",
       "    <tr>\n",
       "      <td>363592</td>\n",
       "      <td>2018-03-28</td>\n",
       "      <td>57.130001</td>\n",
       "      <td>55.580002</td>\n",
       "      <td>56.880001</td>\n",
       "      <td>55.630001</td>\n",
       "      <td>3115200.0</td>\n",
       "      <td>51.475212</td>\n",
       "      <td>0.027888</td>\n",
       "      <td>-0.021976</td>\n",
       "      <td>OKE</td>\n",
       "      <td>57.680000</td>\n",
       "    </tr>\n",
       "    <tr>\n",
       "      <td>418601</td>\n",
       "      <td>2017-03-13</td>\n",
       "      <td>169.759995</td>\n",
       "      <td>166.889999</td>\n",
       "      <td>169.000000</td>\n",
       "      <td>168.690002</td>\n",
       "      <td>2719600.0</td>\n",
       "      <td>149.904739</td>\n",
       "      <td>0.017197</td>\n",
       "      <td>-0.001834</td>\n",
       "      <td>SPG</td>\n",
       "      <td>174.463998</td>\n",
       "    </tr>\n",
       "    <tr>\n",
       "      <td>429334</td>\n",
       "      <td>2015-11-20</td>\n",
       "      <td>43.939999</td>\n",
       "      <td>43.279999</td>\n",
       "      <td>43.750000</td>\n",
       "      <td>43.480000</td>\n",
       "      <td>2193200.0</td>\n",
       "      <td>38.981533</td>\n",
       "      <td>0.015250</td>\n",
       "      <td>-0.006171</td>\n",
       "      <td>STI</td>\n",
       "      <td>43.582000</td>\n",
       "    </tr>\n",
       "    <tr>\n",
       "      <td>305907</td>\n",
       "      <td>2017-02-08</td>\n",
       "      <td>16.240000</td>\n",
       "      <td>15.630000</td>\n",
       "      <td>15.860000</td>\n",
       "      <td>15.880000</td>\n",
       "      <td>13282300.0</td>\n",
       "      <td>15.333027</td>\n",
       "      <td>0.039027</td>\n",
       "      <td>0.001261</td>\n",
       "      <td>MRO</td>\n",
       "      <td>16.810000</td>\n",
       "    </tr>\n",
       "    <tr>\n",
       "      <td>308591</td>\n",
       "      <td>2015-10-02</td>\n",
       "      <td>71.489998</td>\n",
       "      <td>68.839996</td>\n",
       "      <td>69.099998</td>\n",
       "      <td>71.459999</td>\n",
       "      <td>2748900.0</td>\n",
       "      <td>67.628830</td>\n",
       "      <td>0.038495</td>\n",
       "      <td>0.034153</td>\n",
       "      <td>MAR</td>\n",
       "      <td>224.987996</td>\n",
       "    </tr>\n",
       "    <tr>\n",
       "      <td>335106</td>\n",
       "      <td>2017-03-14</td>\n",
       "      <td>96.760002</td>\n",
       "      <td>94.750000</td>\n",
       "      <td>95.010002</td>\n",
       "      <td>96.330002</td>\n",
       "      <td>776500.0</td>\n",
       "      <td>93.415054</td>\n",
       "      <td>0.021214</td>\n",
       "      <td>0.013893</td>\n",
       "      <td>MSCI</td>\n",
       "      <td>95.686002</td>\n",
       "    </tr>\n",
       "    <tr>\n",
       "      <td>175705</td>\n",
       "      <td>2019-02-05</td>\n",
       "      <td>92.849998</td>\n",
       "      <td>88.889999</td>\n",
       "      <td>89.059998</td>\n",
       "      <td>92.519997</td>\n",
       "      <td>11931400.0</td>\n",
       "      <td>92.519997</td>\n",
       "      <td>0.044549</td>\n",
       "      <td>0.038850</td>\n",
       "      <td>EA</td>\n",
       "      <td>91.758000</td>\n",
       "    </tr>\n",
       "    <tr>\n",
       "      <td>116369</td>\n",
       "      <td>2016-07-14</td>\n",
       "      <td>77.300003</td>\n",
       "      <td>76.389999</td>\n",
       "      <td>77.300003</td>\n",
       "      <td>76.760002</td>\n",
       "      <td>460700.0</td>\n",
       "      <td>70.033127</td>\n",
       "      <td>0.011913</td>\n",
       "      <td>-0.006986</td>\n",
       "      <td>CINF</td>\n",
       "      <td>76.496001</td>\n",
       "    </tr>\n",
       "    <tr>\n",
       "      <td>182502</td>\n",
       "      <td>2018-01-24</td>\n",
       "      <td>233.360001</td>\n",
       "      <td>230.509995</td>\n",
       "      <td>231.410004</td>\n",
       "      <td>231.550003</td>\n",
       "      <td>271100.0</td>\n",
       "      <td>220.085068</td>\n",
       "      <td>0.012364</td>\n",
       "      <td>0.000605</td>\n",
       "      <td>ESS</td>\n",
       "      <td>228.866000</td>\n",
       "    </tr>\n",
       "    <tr>\n",
       "      <td>497651</td>\n",
       "      <td>2017-07-19</td>\n",
       "      <td>46.630001</td>\n",
       "      <td>46.270000</td>\n",
       "      <td>46.450001</td>\n",
       "      <td>46.619999</td>\n",
       "      <td>3843600.0</td>\n",
       "      <td>43.808170</td>\n",
       "      <td>0.007780</td>\n",
       "      <td>0.003660</td>\n",
       "      <td>XEL</td>\n",
       "      <td>46.248001</td>\n",
       "    </tr>\n",
       "    <tr>\n",
       "      <td>68618</td>\n",
       "      <td>2019-01-18</td>\n",
       "      <td>29.459999</td>\n",
       "      <td>28.709999</td>\n",
       "      <td>29.020000</td>\n",
       "      <td>29.299999</td>\n",
       "      <td>97928200.0</td>\n",
       "      <td>28.804646</td>\n",
       "      <td>0.026123</td>\n",
       "      <td>0.009648</td>\n",
       "      <td>BAC</td>\n",
       "      <td>28.093999</td>\n",
       "    </tr>\n",
       "    <tr>\n",
       "      <td>482611</td>\n",
       "      <td>2017-11-09</td>\n",
       "      <td>103.910004</td>\n",
       "      <td>100.800003</td>\n",
       "      <td>100.830002</td>\n",
       "      <td>102.680000</td>\n",
       "      <td>13172500.0</td>\n",
       "      <td>99.653427</td>\n",
       "      <td>0.030853</td>\n",
       "      <td>0.018348</td>\n",
       "      <td>DIS</td>\n",
       "      <td>101.864000</td>\n",
       "    </tr>\n",
       "    <tr>\n",
       "      <td>146771</td>\n",
       "      <td>2016-10-24</td>\n",
       "      <td>63.439999</td>\n",
       "      <td>63.020000</td>\n",
       "      <td>63.270000</td>\n",
       "      <td>63.310001</td>\n",
       "      <td>1050800.0</td>\n",
       "      <td>57.689098</td>\n",
       "      <td>0.006665</td>\n",
       "      <td>0.000632</td>\n",
       "      <td>DRI</td>\n",
       "      <td>63.452000</td>\n",
       "    </tr>\n",
       "    <tr>\n",
       "      <td>465303</td>\n",
       "      <td>2018-12-26</td>\n",
       "      <td>106.419998</td>\n",
       "      <td>100.480003</td>\n",
       "      <td>102.940002</td>\n",
       "      <td>106.010002</td>\n",
       "      <td>7112400.0</td>\n",
       "      <td>104.185905</td>\n",
       "      <td>0.059116</td>\n",
       "      <td>0.029823</td>\n",
       "      <td>UTX</td>\n",
       "      <td>110.911998</td>\n",
       "    </tr>\n",
       "    <tr>\n",
       "      <td>162934</td>\n",
       "      <td>2016-05-31</td>\n",
       "      <td>90.769997</td>\n",
       "      <td>89.830002</td>\n",
       "      <td>90.040001</td>\n",
       "      <td>90.680000</td>\n",
       "      <td>1127800.0</td>\n",
       "      <td>79.823975</td>\n",
       "      <td>0.010464</td>\n",
       "      <td>0.007108</td>\n",
       "      <td>DTE</td>\n",
       "      <td>89.871999</td>\n",
       "    </tr>\n",
       "    <tr>\n",
       "      <td>46072</td>\n",
       "      <td>2017-07-31</td>\n",
       "      <td>188.199997</td>\n",
       "      <td>186.130005</td>\n",
       "      <td>187.820007</td>\n",
       "      <td>186.210007</td>\n",
       "      <td>1361000.0</td>\n",
       "      <td>181.212341</td>\n",
       "      <td>0.011121</td>\n",
       "      <td>-0.008572</td>\n",
       "      <td>ANTM</td>\n",
       "      <td>188.378000</td>\n",
       "    </tr>\n",
       "    <tr>\n",
       "      <td>364574</td>\n",
       "      <td>2018-02-20</td>\n",
       "      <td>50.310001</td>\n",
       "      <td>49.660000</td>\n",
       "      <td>50.200001</td>\n",
       "      <td>49.889999</td>\n",
       "      <td>14144900.0</td>\n",
       "      <td>48.465210</td>\n",
       "      <td>0.013089</td>\n",
       "      <td>-0.006175</td>\n",
       "      <td>ORCL</td>\n",
       "      <td>50.068000</td>\n",
       "    </tr>\n",
       "    <tr>\n",
       "      <td>137365</td>\n",
       "      <td>2015-11-05</td>\n",
       "      <td>19.200001</td>\n",
       "      <td>18.790001</td>\n",
       "      <td>18.790001</td>\n",
       "      <td>19.059999</td>\n",
       "      <td>8124500.0</td>\n",
       "      <td>17.294817</td>\n",
       "      <td>0.021820</td>\n",
       "      <td>0.014369</td>\n",
       "      <td>GLW</td>\n",
       "      <td>19.010000</td>\n",
       "    </tr>\n",
       "    <tr>\n",
       "      <td>448707</td>\n",
       "      <td>2016-12-28</td>\n",
       "      <td>38.189999</td>\n",
       "      <td>37.615002</td>\n",
       "      <td>38.150002</td>\n",
       "      <td>37.654999</td>\n",
       "      <td>4329600.0</td>\n",
       "      <td>35.986481</td>\n",
       "      <td>0.015286</td>\n",
       "      <td>-0.012975</td>\n",
       "      <td>TJX</td>\n",
       "      <td>38.522000</td>\n",
       "    </tr>\n",
       "    <tr>\n",
       "      <td>381329</td>\n",
       "      <td>2016-11-02</td>\n",
       "      <td>93.989998</td>\n",
       "      <td>92.370003</td>\n",
       "      <td>92.849998</td>\n",
       "      <td>92.379997</td>\n",
       "      <td>2226700.0</td>\n",
       "      <td>87.885689</td>\n",
       "      <td>0.017538</td>\n",
       "      <td>-0.005062</td>\n",
       "      <td>PPG</td>\n",
       "      <td>93.835999</td>\n",
       "    </tr>\n",
       "  </tbody>\n",
       "</table>\n",
       "</div>"
      ],
      "text/plain": [
       "              Date        High         Low        Open       Close  \\\n",
       "363592  2018-03-28   57.130001   55.580002   56.880001   55.630001   \n",
       "418601  2017-03-13  169.759995  166.889999  169.000000  168.690002   \n",
       "429334  2015-11-20   43.939999   43.279999   43.750000   43.480000   \n",
       "305907  2017-02-08   16.240000   15.630000   15.860000   15.880000   \n",
       "308591  2015-10-02   71.489998   68.839996   69.099998   71.459999   \n",
       "335106  2017-03-14   96.760002   94.750000   95.010002   96.330002   \n",
       "175705  2019-02-05   92.849998   88.889999   89.059998   92.519997   \n",
       "116369  2016-07-14   77.300003   76.389999   77.300003   76.760002   \n",
       "182502  2018-01-24  233.360001  230.509995  231.410004  231.550003   \n",
       "497651  2017-07-19   46.630001   46.270000   46.450001   46.619999   \n",
       "68618   2019-01-18   29.459999   28.709999   29.020000   29.299999   \n",
       "482611  2017-11-09  103.910004  100.800003  100.830002  102.680000   \n",
       "146771  2016-10-24   63.439999   63.020000   63.270000   63.310001   \n",
       "465303  2018-12-26  106.419998  100.480003  102.940002  106.010002   \n",
       "162934  2016-05-31   90.769997   89.830002   90.040001   90.680000   \n",
       "46072   2017-07-31  188.199997  186.130005  187.820007  186.210007   \n",
       "364574  2018-02-20   50.310001   49.660000   50.200001   49.889999   \n",
       "137365  2015-11-05   19.200001   18.790001   18.790001   19.059999   \n",
       "448707  2016-12-28   38.189999   37.615002   38.150002   37.654999   \n",
       "381329  2016-11-02   93.989998   92.370003   92.849998   92.379997   \n",
       "\n",
       "            Volume   Adj Close  HL_pct_diff  daily_pct_chng ticker       SMA_5  \n",
       "363592   3115200.0   51.475212     0.027888       -0.021976    OKE   57.680000  \n",
       "418601   2719600.0  149.904739     0.017197       -0.001834    SPG  174.463998  \n",
       "429334   2193200.0   38.981533     0.015250       -0.006171    STI   43.582000  \n",
       "305907  13282300.0   15.333027     0.039027        0.001261    MRO   16.810000  \n",
       "308591   2748900.0   67.628830     0.038495        0.034153    MAR  224.987996  \n",
       "335106    776500.0   93.415054     0.021214        0.013893   MSCI   95.686002  \n",
       "175705  11931400.0   92.519997     0.044549        0.038850     EA   91.758000  \n",
       "116369    460700.0   70.033127     0.011913       -0.006986   CINF   76.496001  \n",
       "182502    271100.0  220.085068     0.012364        0.000605    ESS  228.866000  \n",
       "497651   3843600.0   43.808170     0.007780        0.003660    XEL   46.248001  \n",
       "68618   97928200.0   28.804646     0.026123        0.009648    BAC   28.093999  \n",
       "482611  13172500.0   99.653427     0.030853        0.018348    DIS  101.864000  \n",
       "146771   1050800.0   57.689098     0.006665        0.000632    DRI   63.452000  \n",
       "465303   7112400.0  104.185905     0.059116        0.029823    UTX  110.911998  \n",
       "162934   1127800.0   79.823975     0.010464        0.007108    DTE   89.871999  \n",
       "46072    1361000.0  181.212341     0.011121       -0.008572   ANTM  188.378000  \n",
       "364574  14144900.0   48.465210     0.013089       -0.006175   ORCL   50.068000  \n",
       "137365   8124500.0   17.294817     0.021820        0.014369    GLW   19.010000  \n",
       "448707   4329600.0   35.986481     0.015286       -0.012975    TJX   38.522000  \n",
       "381329   2226700.0   87.885689     0.017538       -0.005062    PPG   93.835999  "
      ]
     },
     "execution_count": 10,
     "metadata": {},
     "output_type": "execute_result"
    }
   ],
   "source": [
    "# Which stocks have the highest volume or traded daily?\n",
    "stocks.sort_values(by = 'Volume', ascending=True).sample(20)"
   ]
  },
  {
   "cell_type": "code",
   "execution_count": 11,
   "metadata": {},
   "outputs": [
    {
     "data": {
      "text/plain": [
       "ticker\n",
       "BAC     7.998436e+10\n",
       "GE      6.550756e+10\n",
       "AMD     5.947630e+10\n",
       "F       3.855452e+10\n",
       "AAPL    3.329668e+10\n",
       "Name: Volume, dtype: float64"
      ]
     },
     "execution_count": 11,
     "metadata": {},
     "output_type": "execute_result"
    }
   ],
   "source": [
    "stocks_volume=stocks.groupby('ticker')['Volume'].sum().sort_values(ascending=False)\n",
    "stocks_volume.head()"
   ]
  },
  {
   "cell_type": "code",
   "execution_count": 12,
   "metadata": {},
   "outputs": [
    {
     "data": {
      "text/html": [
       "<div>\n",
       "<style scoped>\n",
       "    .dataframe tbody tr th:only-of-type {\n",
       "        vertical-align: middle;\n",
       "    }\n",
       "\n",
       "    .dataframe tbody tr th {\n",
       "        vertical-align: top;\n",
       "    }\n",
       "\n",
       "    .dataframe thead th {\n",
       "        text-align: right;\n",
       "    }\n",
       "</style>\n",
       "<table border=\"1\" class=\"dataframe\">\n",
       "  <thead>\n",
       "    <tr style=\"text-align: right;\">\n",
       "      <th></th>\n",
       "      <th>Date</th>\n",
       "      <th>High</th>\n",
       "      <th>Low</th>\n",
       "      <th>Open</th>\n",
       "      <th>Close</th>\n",
       "      <th>Volume</th>\n",
       "      <th>Adj Close</th>\n",
       "      <th>HL_pct_diff</th>\n",
       "      <th>daily_pct_chng</th>\n",
       "      <th>ticker</th>\n",
       "      <th>SMA_5</th>\n",
       "    </tr>\n",
       "  </thead>\n",
       "  <tbody>\n",
       "    <tr>\n",
       "      <td>68148</td>\n",
       "      <td>2017-03-08</td>\n",
       "      <td>25.770000</td>\n",
       "      <td>25.219999</td>\n",
       "      <td>25.600000</td>\n",
       "      <td>25.260000</td>\n",
       "      <td>105314600.0</td>\n",
       "      <td>24.078508</td>\n",
       "      <td>0.021808</td>\n",
       "      <td>-0.013281</td>\n",
       "      <td>BAC</td>\n",
       "      <td>25.586</td>\n",
       "    </tr>\n",
       "    <tr>\n",
       "      <td>67816</td>\n",
       "      <td>2015-11-10</td>\n",
       "      <td>17.940001</td>\n",
       "      <td>17.559999</td>\n",
       "      <td>17.629999</td>\n",
       "      <td>17.850000</td>\n",
       "      <td>59905800.0</td>\n",
       "      <td>16.655081</td>\n",
       "      <td>0.021640</td>\n",
       "      <td>0.012479</td>\n",
       "      <td>BAC</td>\n",
       "      <td>17.758</td>\n",
       "    </tr>\n",
       "    <tr>\n",
       "      <td>67889</td>\n",
       "      <td>2016-02-26</td>\n",
       "      <td>12.950000</td>\n",
       "      <td>12.400000</td>\n",
       "      <td>12.490000</td>\n",
       "      <td>12.700000</td>\n",
       "      <td>160314400.0</td>\n",
       "      <td>11.883198</td>\n",
       "      <td>0.044355</td>\n",
       "      <td>0.016813</td>\n",
       "      <td>BAC</td>\n",
       "      <td>12.490</td>\n",
       "    </tr>\n",
       "    <tr>\n",
       "      <td>68240</td>\n",
       "      <td>2017-07-19</td>\n",
       "      <td>24.200001</td>\n",
       "      <td>23.809999</td>\n",
       "      <td>24.049999</td>\n",
       "      <td>24.059999</td>\n",
       "      <td>74140100.0</td>\n",
       "      <td>23.009964</td>\n",
       "      <td>0.016380</td>\n",
       "      <td>0.000416</td>\n",
       "      <td>BAC</td>\n",
       "      <td>24.286</td>\n",
       "    </tr>\n",
       "    <tr>\n",
       "      <td>68302</td>\n",
       "      <td>2017-10-16</td>\n",
       "      <td>26.330000</td>\n",
       "      <td>25.870001</td>\n",
       "      <td>25.870001</td>\n",
       "      <td>26.240000</td>\n",
       "      <td>71927200.0</td>\n",
       "      <td>25.223185</td>\n",
       "      <td>0.017781</td>\n",
       "      <td>0.014302</td>\n",
       "      <td>BAC</td>\n",
       "      <td>26.028</td>\n",
       "    </tr>\n",
       "  </tbody>\n",
       "</table>\n",
       "</div>"
      ],
      "text/plain": [
       "             Date       High        Low       Open      Close       Volume  \\\n",
       "68148  2017-03-08  25.770000  25.219999  25.600000  25.260000  105314600.0   \n",
       "67816  2015-11-10  17.940001  17.559999  17.629999  17.850000   59905800.0   \n",
       "67889  2016-02-26  12.950000  12.400000  12.490000  12.700000  160314400.0   \n",
       "68240  2017-07-19  24.200001  23.809999  24.049999  24.059999   74140100.0   \n",
       "68302  2017-10-16  26.330000  25.870001  25.870001  26.240000   71927200.0   \n",
       "\n",
       "       Adj Close  HL_pct_diff  daily_pct_chng ticker   SMA_5  \n",
       "68148  24.078508     0.021808       -0.013281    BAC  25.586  \n",
       "67816  16.655081     0.021640        0.012479    BAC  17.758  \n",
       "67889  11.883198     0.044355        0.016813    BAC  12.490  \n",
       "68240  23.009964     0.016380        0.000416    BAC  24.286  \n",
       "68302  25.223185     0.017781        0.014302    BAC  26.028  "
      ]
     },
     "execution_count": 12,
     "metadata": {},
     "output_type": "execute_result"
    }
   ],
   "source": [
    "apple = stocks.loc[stocks['ticker'].isin(['BAC'])]\n",
    "apple.sample(5)"
   ]
  },
  {
   "cell_type": "code",
   "execution_count": 13,
   "metadata": {},
   "outputs": [
    {
     "data": {
      "text/plain": [
       "Date              0\n",
       "High              0\n",
       "Low               0\n",
       "Open              0\n",
       "Close             0\n",
       "Volume            0\n",
       "Adj Close         0\n",
       "HL_pct_diff       0\n",
       "daily_pct_chng    0\n",
       "ticker            0\n",
       "SMA_5             0\n",
       "dtype: int64"
      ]
     },
     "execution_count": 13,
     "metadata": {},
     "output_type": "execute_result"
    }
   ],
   "source": [
    "# any missing data\n",
    "apple.isnull().sum()"
   ]
  },
  {
   "cell_type": "code",
   "execution_count": 14,
   "metadata": {},
   "outputs": [
    {
     "data": {
      "text/plain": [
       "(1008, 11)"
      ]
     },
     "execution_count": 14,
     "metadata": {},
     "output_type": "execute_result"
    }
   ],
   "source": [
    "# size\n",
    "apple.shape"
   ]
  },
  {
   "cell_type": "code",
   "execution_count": 15,
   "metadata": {},
   "outputs": [
    {
     "data": {
      "text/html": [
       "<div>\n",
       "<style scoped>\n",
       "    .dataframe tbody tr th:only-of-type {\n",
       "        vertical-align: middle;\n",
       "    }\n",
       "\n",
       "    .dataframe tbody tr th {\n",
       "        vertical-align: top;\n",
       "    }\n",
       "\n",
       "    .dataframe thead th {\n",
       "        text-align: right;\n",
       "    }\n",
       "</style>\n",
       "<table border=\"1\" class=\"dataframe\">\n",
       "  <thead>\n",
       "    <tr style=\"text-align: right;\">\n",
       "      <th></th>\n",
       "      <th>Date</th>\n",
       "      <th>High</th>\n",
       "      <th>Low</th>\n",
       "      <th>Open</th>\n",
       "      <th>Close</th>\n",
       "      <th>Volume</th>\n",
       "      <th>Adj Close</th>\n",
       "      <th>HL_pct_diff</th>\n",
       "      <th>daily_pct_chng</th>\n",
       "      <th>ticker</th>\n",
       "      <th>SMA_5</th>\n",
       "    </tr>\n",
       "  </thead>\n",
       "  <tbody>\n",
       "    <tr>\n",
       "      <td>67788</td>\n",
       "      <td>2015-10-01</td>\n",
       "      <td>15.64</td>\n",
       "      <td>15.36</td>\n",
       "      <td>15.52</td>\n",
       "      <td>15.55</td>\n",
       "      <td>71516800.0</td>\n",
       "      <td>14.509049</td>\n",
       "      <td>0.018229</td>\n",
       "      <td>0.001933</td>\n",
       "      <td>BAC</td>\n",
       "      <td>61.718001</td>\n",
       "    </tr>\n",
       "    <tr>\n",
       "      <td>67789</td>\n",
       "      <td>2015-10-02</td>\n",
       "      <td>15.38</td>\n",
       "      <td>14.63</td>\n",
       "      <td>15.08</td>\n",
       "      <td>15.38</td>\n",
       "      <td>181838400.0</td>\n",
       "      <td>14.350430</td>\n",
       "      <td>0.051265</td>\n",
       "      <td>0.019894</td>\n",
       "      <td>BAC</td>\n",
       "      <td>49.818002</td>\n",
       "    </tr>\n",
       "    <tr>\n",
       "      <td>67790</td>\n",
       "      <td>2015-10-05</td>\n",
       "      <td>15.79</td>\n",
       "      <td>15.44</td>\n",
       "      <td>15.45</td>\n",
       "      <td>15.69</td>\n",
       "      <td>75315300.0</td>\n",
       "      <td>14.639676</td>\n",
       "      <td>0.022668</td>\n",
       "      <td>0.015534</td>\n",
       "      <td>BAC</td>\n",
       "      <td>38.352001</td>\n",
       "    </tr>\n",
       "    <tr>\n",
       "      <td>67791</td>\n",
       "      <td>2015-10-06</td>\n",
       "      <td>15.82</td>\n",
       "      <td>15.57</td>\n",
       "      <td>15.68</td>\n",
       "      <td>15.69</td>\n",
       "      <td>67473700.0</td>\n",
       "      <td>14.639676</td>\n",
       "      <td>0.016057</td>\n",
       "      <td>0.000638</td>\n",
       "      <td>BAC</td>\n",
       "      <td>26.884000</td>\n",
       "    </tr>\n",
       "    <tr>\n",
       "      <td>67792</td>\n",
       "      <td>2015-10-07</td>\n",
       "      <td>15.93</td>\n",
       "      <td>15.57</td>\n",
       "      <td>15.78</td>\n",
       "      <td>15.75</td>\n",
       "      <td>66655600.0</td>\n",
       "      <td>14.695662</td>\n",
       "      <td>0.023121</td>\n",
       "      <td>-0.001901</td>\n",
       "      <td>BAC</td>\n",
       "      <td>15.712000</td>\n",
       "    </tr>\n",
       "  </tbody>\n",
       "</table>\n",
       "</div>"
      ],
      "text/plain": [
       "             Date   High    Low   Open  Close       Volume  Adj Close  \\\n",
       "67788  2015-10-01  15.64  15.36  15.52  15.55   71516800.0  14.509049   \n",
       "67789  2015-10-02  15.38  14.63  15.08  15.38  181838400.0  14.350430   \n",
       "67790  2015-10-05  15.79  15.44  15.45  15.69   75315300.0  14.639676   \n",
       "67791  2015-10-06  15.82  15.57  15.68  15.69   67473700.0  14.639676   \n",
       "67792  2015-10-07  15.93  15.57  15.78  15.75   66655600.0  14.695662   \n",
       "\n",
       "       HL_pct_diff  daily_pct_chng ticker      SMA_5  \n",
       "67788     0.018229        0.001933    BAC  61.718001  \n",
       "67789     0.051265        0.019894    BAC  49.818002  \n",
       "67790     0.022668        0.015534    BAC  38.352001  \n",
       "67791     0.016057        0.000638    BAC  26.884000  \n",
       "67792     0.023121       -0.001901    BAC  15.712000  "
      ]
     },
     "execution_count": 15,
     "metadata": {},
     "output_type": "execute_result"
    }
   ],
   "source": [
    "apple.head()"
   ]
  },
  {
   "cell_type": "code",
   "execution_count": 16,
   "metadata": {},
   "outputs": [
    {
     "data": {
      "text/plain": [
       "count    1008.000000\n",
       "mean       23.876657\n",
       "std         6.157061\n",
       "min        11.160000\n",
       "25%        17.252501\n",
       "50%        25.040000\n",
       "75%        29.200001\n",
       "max        32.840000\n",
       "Name: Close, dtype: float64"
      ]
     },
     "execution_count": 16,
     "metadata": {},
     "output_type": "execute_result"
    }
   ],
   "source": [
    "# establish target variable: High\n",
    "apple['Close'].describe()"
   ]
  },
  {
   "cell_type": "code",
   "execution_count": 55,
   "metadata": {},
   "outputs": [],
   "source": [
    "apple_stock = apple[['Low', 'High','Open','SMA_5', 'Volume', 'daily_pct_chng',]]"
   ]
  },
  {
   "cell_type": "code",
   "execution_count": 56,
   "metadata": {},
   "outputs": [
    {
     "data": {
      "text/html": [
       "<div>\n",
       "<style scoped>\n",
       "    .dataframe tbody tr th:only-of-type {\n",
       "        vertical-align: middle;\n",
       "    }\n",
       "\n",
       "    .dataframe tbody tr th {\n",
       "        vertical-align: top;\n",
       "    }\n",
       "\n",
       "    .dataframe thead th {\n",
       "        text-align: right;\n",
       "    }\n",
       "</style>\n",
       "<table border=\"1\" class=\"dataframe\">\n",
       "  <thead>\n",
       "    <tr style=\"text-align: right;\">\n",
       "      <th></th>\n",
       "      <th>Low</th>\n",
       "      <th>High</th>\n",
       "      <th>Open</th>\n",
       "      <th>SMA_5</th>\n",
       "      <th>Volume</th>\n",
       "      <th>daily_pct_chng</th>\n",
       "    </tr>\n",
       "  </thead>\n",
       "  <tbody>\n",
       "    <tr>\n",
       "      <td>68555</td>\n",
       "      <td>28.160000</td>\n",
       "      <td>29.190001</td>\n",
       "      <td>28.370001</td>\n",
       "      <td>28.936</td>\n",
       "      <td>79068700.0</td>\n",
       "      <td>0.018682</td>\n",
       "    </tr>\n",
       "    <tr>\n",
       "      <td>68177</td>\n",
       "      <td>22.680000</td>\n",
       "      <td>23.150000</td>\n",
       "      <td>22.920000</td>\n",
       "      <td>23.006</td>\n",
       "      <td>101771800.0</td>\n",
       "      <td>-0.007853</td>\n",
       "    </tr>\n",
       "    <tr>\n",
       "      <td>67904</td>\n",
       "      <td>13.550000</td>\n",
       "      <td>13.880000</td>\n",
       "      <td>13.680000</td>\n",
       "      <td>13.702</td>\n",
       "      <td>146616200.0</td>\n",
       "      <td>0.008041</td>\n",
       "    </tr>\n",
       "    <tr>\n",
       "      <td>68471</td>\n",
       "      <td>28.950001</td>\n",
       "      <td>29.370001</td>\n",
       "      <td>29.040001</td>\n",
       "      <td>29.738</td>\n",
       "      <td>65466200.0</td>\n",
       "      <td>0.007576</td>\n",
       "    </tr>\n",
       "    <tr>\n",
       "      <td>68566</td>\n",
       "      <td>27.610001</td>\n",
       "      <td>28.000000</td>\n",
       "      <td>27.770000</td>\n",
       "      <td>27.300</td>\n",
       "      <td>49827300.0</td>\n",
       "      <td>0.001440</td>\n",
       "    </tr>\n",
       "  </tbody>\n",
       "</table>\n",
       "</div>"
      ],
      "text/plain": [
       "             Low       High       Open   SMA_5       Volume  daily_pct_chng\n",
       "68555  28.160000  29.190001  28.370001  28.936   79068700.0        0.018682\n",
       "68177  22.680000  23.150000  22.920000  23.006  101771800.0       -0.007853\n",
       "67904  13.550000  13.880000  13.680000  13.702  146616200.0        0.008041\n",
       "68471  28.950001  29.370001  29.040001  29.738   65466200.0        0.007576\n",
       "68566  27.610001  28.000000  27.770000  27.300   49827300.0        0.001440"
      ]
     },
     "execution_count": 56,
     "metadata": {},
     "output_type": "execute_result"
    }
   ],
   "source": [
    "apple_stock.sample(5)"
   ]
  },
  {
   "cell_type": "code",
   "execution_count": 19,
   "metadata": {},
   "outputs": [],
   "source": [
    "#apple_stock['ticker'] = apple['ticker']"
   ]
  },
  {
   "cell_type": "code",
   "execution_count": 57,
   "metadata": {},
   "outputs": [
    {
     "data": {
      "text/html": [
       "<div>\n",
       "<style scoped>\n",
       "    .dataframe tbody tr th:only-of-type {\n",
       "        vertical-align: middle;\n",
       "    }\n",
       "\n",
       "    .dataframe tbody tr th {\n",
       "        vertical-align: top;\n",
       "    }\n",
       "\n",
       "    .dataframe thead th {\n",
       "        text-align: right;\n",
       "    }\n",
       "</style>\n",
       "<table border=\"1\" class=\"dataframe\">\n",
       "  <thead>\n",
       "    <tr style=\"text-align: right;\">\n",
       "      <th></th>\n",
       "      <th>Low</th>\n",
       "      <th>High</th>\n",
       "      <th>Open</th>\n",
       "      <th>SMA_5</th>\n",
       "      <th>Volume</th>\n",
       "      <th>daily_pct_chng</th>\n",
       "    </tr>\n",
       "  </thead>\n",
       "  <tbody>\n",
       "    <tr>\n",
       "      <td>67788</td>\n",
       "      <td>15.36</td>\n",
       "      <td>15.64</td>\n",
       "      <td>15.52</td>\n",
       "      <td>61.718001</td>\n",
       "      <td>71516800.0</td>\n",
       "      <td>0.001933</td>\n",
       "    </tr>\n",
       "    <tr>\n",
       "      <td>67789</td>\n",
       "      <td>14.63</td>\n",
       "      <td>15.38</td>\n",
       "      <td>15.08</td>\n",
       "      <td>49.818002</td>\n",
       "      <td>181838400.0</td>\n",
       "      <td>0.019894</td>\n",
       "    </tr>\n",
       "    <tr>\n",
       "      <td>67790</td>\n",
       "      <td>15.44</td>\n",
       "      <td>15.79</td>\n",
       "      <td>15.45</td>\n",
       "      <td>38.352001</td>\n",
       "      <td>75315300.0</td>\n",
       "      <td>0.015534</td>\n",
       "    </tr>\n",
       "    <tr>\n",
       "      <td>67791</td>\n",
       "      <td>15.57</td>\n",
       "      <td>15.82</td>\n",
       "      <td>15.68</td>\n",
       "      <td>26.884000</td>\n",
       "      <td>67473700.0</td>\n",
       "      <td>0.000638</td>\n",
       "    </tr>\n",
       "    <tr>\n",
       "      <td>67792</td>\n",
       "      <td>15.57</td>\n",
       "      <td>15.93</td>\n",
       "      <td>15.78</td>\n",
       "      <td>15.712000</td>\n",
       "      <td>66655600.0</td>\n",
       "      <td>-0.001901</td>\n",
       "    </tr>\n",
       "  </tbody>\n",
       "</table>\n",
       "</div>"
      ],
      "text/plain": [
       "         Low   High   Open      SMA_5       Volume  daily_pct_chng\n",
       "67788  15.36  15.64  15.52  61.718001   71516800.0        0.001933\n",
       "67789  14.63  15.38  15.08  49.818002  181838400.0        0.019894\n",
       "67790  15.44  15.79  15.45  38.352001   75315300.0        0.015534\n",
       "67791  15.57  15.82  15.68  26.884000   67473700.0        0.000638\n",
       "67792  15.57  15.93  15.78  15.712000   66655600.0       -0.001901"
      ]
     },
     "execution_count": 57,
     "metadata": {},
     "output_type": "execute_result"
    }
   ],
   "source": [
    "apple_stock.head()"
   ]
  },
  {
   "cell_type": "code",
   "execution_count": 21,
   "metadata": {},
   "outputs": [],
   "source": [
    "#apple.to_csv('BAC.csv')"
   ]
  },
  {
   "cell_type": "code",
   "execution_count": 58,
   "metadata": {},
   "outputs": [],
   "source": [
    "# standardize variables\n",
    "from sklearn.preprocessing import StandardScaler\n",
    "std_scaler =StandardScaler()"
   ]
  },
  {
   "cell_type": "code",
   "execution_count": 59,
   "metadata": {},
   "outputs": [
    {
     "data": {
      "text/plain": [
       "StandardScaler(copy=True, with_mean=True, with_std=True)"
      ]
     },
     "execution_count": 59,
     "metadata": {},
     "output_type": "execute_result"
    }
   ],
   "source": [
    "#std_scaler.fit(stock_high)\n",
    "std_scaler.fit(apple_stock)"
   ]
  },
  {
   "cell_type": "code",
   "execution_count": 60,
   "metadata": {},
   "outputs": [],
   "source": [
    "scaled_stock =std_scaler.transform(apple_stock)"
   ]
  },
  {
   "cell_type": "code",
   "execution_count": 61,
   "metadata": {},
   "outputs": [],
   "source": [
    "import pickle\n",
    "filename = open('BAC_fitted_scaler.pkl', 'wb')\n",
    "pickle.dump(scaled_stock, filename)\n",
    "filename.close()"
   ]
  },
  {
   "cell_type": "code",
   "execution_count": 62,
   "metadata": {},
   "outputs": [
    {
     "data": {
      "text/html": [
       "<div>\n",
       "<style scoped>\n",
       "    .dataframe tbody tr th:only-of-type {\n",
       "        vertical-align: middle;\n",
       "    }\n",
       "\n",
       "    .dataframe tbody tr th {\n",
       "        vertical-align: top;\n",
       "    }\n",
       "\n",
       "    .dataframe thead th {\n",
       "        text-align: right;\n",
       "    }\n",
       "</style>\n",
       "<table border=\"1\" class=\"dataframe\">\n",
       "  <thead>\n",
       "    <tr style=\"text-align: right;\">\n",
       "      <th></th>\n",
       "      <th>Low</th>\n",
       "      <th>High</th>\n",
       "      <th>Open</th>\n",
       "      <th>SMA_5</th>\n",
       "      <th>Volume</th>\n",
       "      <th>daily_pct_chng</th>\n",
       "    </tr>\n",
       "  </thead>\n",
       "  <tbody>\n",
       "    <tr>\n",
       "      <td>0</td>\n",
       "      <td>-1.354033</td>\n",
       "      <td>-1.366756</td>\n",
       "      <td>-1.357357</td>\n",
       "      <td>5.905677</td>\n",
       "      <td>-0.200219</td>\n",
       "      <td>0.138958</td>\n",
       "    </tr>\n",
       "    <tr>\n",
       "      <td>1</td>\n",
       "      <td>-1.473412</td>\n",
       "      <td>-1.408711</td>\n",
       "      <td>-1.428820</td>\n",
       "      <td>4.032679</td>\n",
       "      <td>2.619790</td>\n",
       "      <td>1.488984</td>\n",
       "    </tr>\n",
       "    <tr>\n",
       "      <td>2</td>\n",
       "      <td>-1.340951</td>\n",
       "      <td>-1.342551</td>\n",
       "      <td>-1.368726</td>\n",
       "      <td>2.227991</td>\n",
       "      <td>-0.103123</td>\n",
       "      <td>1.161270</td>\n",
       "    </tr>\n",
       "    <tr>\n",
       "      <td>3</td>\n",
       "      <td>-1.319691</td>\n",
       "      <td>-1.337710</td>\n",
       "      <td>-1.331370</td>\n",
       "      <td>0.422987</td>\n",
       "      <td>-0.303567</td>\n",
       "      <td>0.041601</td>\n",
       "    </tr>\n",
       "    <tr>\n",
       "      <td>4</td>\n",
       "      <td>-1.319691</td>\n",
       "      <td>-1.319959</td>\n",
       "      <td>-1.315129</td>\n",
       "      <td>-1.335428</td>\n",
       "      <td>-0.324480</td>\n",
       "      <td>-0.149230</td>\n",
       "    </tr>\n",
       "  </tbody>\n",
       "</table>\n",
       "</div>"
      ],
      "text/plain": [
       "        Low      High      Open     SMA_5    Volume  daily_pct_chng\n",
       "0 -1.354033 -1.366756 -1.357357  5.905677 -0.200219        0.138958\n",
       "1 -1.473412 -1.408711 -1.428820  4.032679  2.619790        1.488984\n",
       "2 -1.340951 -1.342551 -1.368726  2.227991 -0.103123        1.161270\n",
       "3 -1.319691 -1.337710 -1.331370  0.422987 -0.303567        0.041601\n",
       "4 -1.319691 -1.319959 -1.315129 -1.335428 -0.324480       -0.149230"
      ]
     },
     "execution_count": 62,
     "metadata": {},
     "output_type": "execute_result"
    }
   ],
   "source": [
    "#scaled_df=pd.DataFrame(scaled_stock, columns = stock_high.columns)\n",
    "scaled_df=pd.DataFrame(scaled_stock, columns = apple_stock.columns)\n",
    "scaled_df.head()"
   ]
  },
  {
   "cell_type": "code",
   "execution_count": 63,
   "metadata": {},
   "outputs": [
    {
     "data": {
      "text/plain": [
       "Low              -4.549932e-16\n",
       "High              1.600351e-16\n",
       "Open             -6.075387e-16\n",
       "SMA_5            -6.197644e-16\n",
       "Volume           -1.500123e-16\n",
       "daily_pct_chng   -2.731501e-17\n",
       "dtype: float64"
      ]
     },
     "execution_count": 63,
     "metadata": {},
     "output_type": "execute_result"
    }
   ],
   "source": [
    "scaled_df.mean() "
   ]
  },
  {
   "cell_type": "code",
   "execution_count": 64,
   "metadata": {},
   "outputs": [
    {
     "data": {
      "text/plain": [
       "Low               1.000496\n",
       "High              1.000496\n",
       "Open              1.000496\n",
       "SMA_5             1.000496\n",
       "Volume            1.000496\n",
       "daily_pct_chng    1.000496\n",
       "dtype: float64"
      ]
     },
     "execution_count": 64,
     "metadata": {},
     "output_type": "execute_result"
    }
   ],
   "source": [
    "scaled_df.std()"
   ]
  },
  {
   "cell_type": "code",
   "execution_count": 65,
   "metadata": {},
   "outputs": [
    {
     "data": {
      "text/plain": [
       "<bound method NDFrame.head of 67788    15.550000\n",
       "67789    15.380000\n",
       "67790    15.690000\n",
       "67791    15.690000\n",
       "67792    15.750000\n",
       "           ...    \n",
       "68791    29.129999\n",
       "68792    29.350000\n",
       "68793    29.170000\n",
       "68794    28.440001\n",
       "68795    27.840000\n",
       "Name: Close, Length: 1008, dtype: float64>"
      ]
     },
     "execution_count": 65,
     "metadata": {},
     "output_type": "execute_result"
    }
   ],
   "source": [
    "# target variable\n",
    "#y = top_5['Close']\n",
    "y = apple['Close']\n",
    "y.shape\n",
    "y.head"
   ]
  },
  {
   "cell_type": "code",
   "execution_count": 66,
   "metadata": {},
   "outputs": [
    {
     "data": {
      "text/html": [
       "<div>\n",
       "<style scoped>\n",
       "    .dataframe tbody tr th:only-of-type {\n",
       "        vertical-align: middle;\n",
       "    }\n",
       "\n",
       "    .dataframe tbody tr th {\n",
       "        vertical-align: top;\n",
       "    }\n",
       "\n",
       "    .dataframe thead th {\n",
       "        text-align: right;\n",
       "    }\n",
       "</style>\n",
       "<table border=\"1\" class=\"dataframe\">\n",
       "  <thead>\n",
       "    <tr style=\"text-align: right;\">\n",
       "      <th></th>\n",
       "      <th>Low</th>\n",
       "      <th>High</th>\n",
       "      <th>Open</th>\n",
       "      <th>SMA_5</th>\n",
       "      <th>Volume</th>\n",
       "      <th>daily_pct_chng</th>\n",
       "    </tr>\n",
       "  </thead>\n",
       "  <tbody>\n",
       "    <tr>\n",
       "      <td>326</td>\n",
       "      <td>-0.251825</td>\n",
       "      <td>-0.235567</td>\n",
       "      <td>-0.256179</td>\n",
       "      <td>-0.187075</td>\n",
       "      <td>1.150697</td>\n",
       "      <td>1.105967</td>\n",
       "    </tr>\n",
       "    <tr>\n",
       "      <td>116</td>\n",
       "      <td>-1.650027</td>\n",
       "      <td>-1.650763</td>\n",
       "      <td>-1.656202</td>\n",
       "      <td>-1.651791</td>\n",
       "      <td>1.719450</td>\n",
       "      <td>0.598059</td>\n",
       "    </tr>\n",
       "    <tr>\n",
       "      <td>567</td>\n",
       "      <td>0.976303</td>\n",
       "      <td>0.934351</td>\n",
       "      <td>0.953818</td>\n",
       "      <td>0.890449</td>\n",
       "      <td>-0.568185</td>\n",
       "      <td>0.372647</td>\n",
       "    </tr>\n",
       "    <tr>\n",
       "      <td>67</td>\n",
       "      <td>-1.340951</td>\n",
       "      <td>-1.324800</td>\n",
       "      <td>-1.323250</td>\n",
       "      <td>-1.216437</td>\n",
       "      <td>0.943389</td>\n",
       "      <td>-1.105367</td>\n",
       "    </tr>\n",
       "    <tr>\n",
       "      <td>302</td>\n",
       "      <td>-0.179871</td>\n",
       "      <td>-0.138746</td>\n",
       "      <td>-0.142488</td>\n",
       "      <td>-0.207537</td>\n",
       "      <td>1.473286</td>\n",
       "      <td>-1.280859</td>\n",
       "    </tr>\n",
       "    <tr>\n",
       "      <td>468</td>\n",
       "      <td>0.073604</td>\n",
       "      <td>0.075873</td>\n",
       "      <td>0.114129</td>\n",
       "      <td>0.121104</td>\n",
       "      <td>-0.033891</td>\n",
       "      <td>-1.412989</td>\n",
       "    </tr>\n",
       "    <tr>\n",
       "      <td>674</td>\n",
       "      <td>0.922337</td>\n",
       "      <td>0.958556</td>\n",
       "      <td>0.879107</td>\n",
       "      <td>0.847323</td>\n",
       "      <td>-0.111290</td>\n",
       "      <td>1.918331</td>\n",
       "    </tr>\n",
       "    <tr>\n",
       "      <td>398</td>\n",
       "      <td>-0.050680</td>\n",
       "      <td>-0.070971</td>\n",
       "      <td>-0.043414</td>\n",
       "      <td>-0.053604</td>\n",
       "      <td>-0.487896</td>\n",
       "      <td>-0.261019</td>\n",
       "    </tr>\n",
       "    <tr>\n",
       "      <td>404</td>\n",
       "      <td>0.037627</td>\n",
       "      <td>0.009713</td>\n",
       "      <td>0.005311</td>\n",
       "      <td>-0.012682</td>\n",
       "      <td>-0.788688</td>\n",
       "      <td>0.748141</td>\n",
       "    </tr>\n",
       "    <tr>\n",
       "      <td>43</td>\n",
       "      <td>-0.995897</td>\n",
       "      <td>-1.003678</td>\n",
       "      <td>-0.974056</td>\n",
       "      <td>-1.027249</td>\n",
       "      <td>-0.062129</td>\n",
       "      <td>-1.099322</td>\n",
       "    </tr>\n",
       "  </tbody>\n",
       "</table>\n",
       "</div>"
      ],
      "text/plain": [
       "          Low      High      Open     SMA_5    Volume  daily_pct_chng\n",
       "326 -0.251825 -0.235567 -0.256179 -0.187075  1.150697        1.105967\n",
       "116 -1.650027 -1.650763 -1.656202 -1.651791  1.719450        0.598059\n",
       "567  0.976303  0.934351  0.953818  0.890449 -0.568185        0.372647\n",
       "67  -1.340951 -1.324800 -1.323250 -1.216437  0.943389       -1.105367\n",
       "302 -0.179871 -0.138746 -0.142488 -0.207537  1.473286       -1.280859\n",
       "468  0.073604  0.075873  0.114129  0.121104 -0.033891       -1.412989\n",
       "674  0.922337  0.958556  0.879107  0.847323 -0.111290        1.918331\n",
       "398 -0.050680 -0.070971 -0.043414 -0.053604 -0.487896       -0.261019\n",
       "404  0.037627  0.009713  0.005311 -0.012682 -0.788688        0.748141\n",
       "43  -0.995897 -1.003678 -0.974056 -1.027249 -0.062129       -1.099322"
      ]
     },
     "execution_count": 66,
     "metadata": {},
     "output_type": "execute_result"
    }
   ],
   "source": [
    "X= apple.drop('Close', axis=1)\n",
    "X = scaled_df.copy()\n",
    "X.shape\n",
    "X.sample(10)"
   ]
  },
  {
   "cell_type": "code",
   "execution_count": 93,
   "metadata": {},
   "outputs": [],
   "source": [
    "# train, test, split\n",
    "X_train, X_test, y_train, y_test = train_test_split(X,y, test_size=.15, random_state=42)"
   ]
  },
  {
   "cell_type": "code",
   "execution_count": 94,
   "metadata": {},
   "outputs": [
    {
     "data": {
      "text/plain": [
       "LinearRegression(copy_X=True, fit_intercept=True, n_jobs=None, normalize=False)"
      ]
     },
     "execution_count": 94,
     "metadata": {},
     "output_type": "execute_result"
    }
   ],
   "source": [
    "# instantiate\n",
    "mystocks= LinearRegression()\n",
    "#linreg=LinearRegression()\n",
    "mystocks.fit(X,y)"
   ]
  },
  {
   "cell_type": "code",
   "execution_count": 95,
   "metadata": {},
   "outputs": [],
   "source": [
    "# fit model  to training dataset\n",
    "mystocks.fit(X_train, y_train)  # normalize = False, data is expected to be already centered\n",
    "y_pred = mystocks.predict(X_test)"
   ]
  },
  {
   "cell_type": "code",
   "execution_count": 109,
   "metadata": {},
   "outputs": [
    {
     "data": {
      "text/plain": [
       "array([27.69908311, 29.72815233, 29.30711431, 26.22386866, 25.18743775,\n",
       "       30.60886257, 30.82527411, 27.73487632, 22.97509184, 15.18029423,\n",
       "       27.34417712, 23.1418617 , 28.74659011, 24.51211318, 15.54268525,\n",
       "       32.05124833, 30.00255184, 26.47481855, 22.07807722, 12.8739361 ,\n",
       "       30.74307286, 32.45261967, 15.17804982, 15.75193945, 30.07855244,\n",
       "       18.93239943, 23.6346744 , 20.14505975, 22.6532727 , 28.88637101,\n",
       "       31.75282538, 29.57710343, 12.04758846, 15.53618847, 31.07369813,\n",
       "       13.23523221, 30.59959508, 14.24864967, 16.06085936, 15.01203478,\n",
       "       24.85862808, 27.52301   , 23.33308008, 29.44207655, 21.95308704,\n",
       "       21.16444794, 23.25460247, 26.69122545, 26.72119979, 27.28486231,\n",
       "       31.95601786, 28.217579  , 17.25520944, 29.66253877, 29.45066592,\n",
       "       30.29287189, 23.21385988, 17.2066014 , 17.23426809, 17.33311598,\n",
       "       30.07000258, 23.61728107, 16.31472666, 29.32586112, 24.15541477,\n",
       "       23.85981201, 24.8806697 , 14.27767731, 24.81260187, 26.318358  ,\n",
       "       13.57606797, 14.94663335, 22.45800922, 13.7481274 , 30.60363225,\n",
       "       27.20297537, 23.94127525, 28.01568243, 17.42726025, 28.71766837,\n",
       "       27.7634815 , 24.60448191, 16.06153163, 16.54990441, 15.45455582,\n",
       "       28.32260599, 31.03026024, 28.72524955, 21.1794093 , 32.24814448,\n",
       "       32.18698858, 24.65999897, 24.42269802, 22.59816577, 30.45636072,\n",
       "       22.59818463, 13.0813057 , 23.4380039 , 12.02644367, 16.79608494,\n",
       "       28.91214757, 31.31305788, 15.20762901, 32.33941423, 29.09019459,\n",
       "       20.54548824, 27.74162898, 29.85364725, 28.25354978, 29.05249109,\n",
       "       26.53238847, 24.54008888, 27.92761777, 29.54006617, 22.59186468,\n",
       "       13.54372767, 30.85877089, 26.47962601, 22.55532928, 26.68956381,\n",
       "       14.32811485, 27.09964384, 24.95819611, 30.68016376, 15.69210307,\n",
       "       23.38437127, 14.90076713, 29.21515354, 24.38634487, 14.90797199,\n",
       "       30.84244113, 30.87353859, 29.3042272 , 24.26276563, 29.1502856 ,\n",
       "       26.7399187 , 16.68496278, 13.7863731 , 27.77900616, 17.39286047,\n",
       "       14.94891323, 17.23034044, 15.3549711 , 23.93863235, 28.6532771 ,\n",
       "       30.37359552, 30.23129563, 13.57047651, 24.40932992, 25.49172672,\n",
       "       22.87865112, 27.0835246 ])"
      ]
     },
     "execution_count": 109,
     "metadata": {},
     "output_type": "execute_result"
    }
   ],
   "source": [
    "# predict the y_values on testing dataset\n",
    "y_pred = mystocks.predict(X_test)\n",
    "y_pred"
   ]
  },
  {
   "cell_type": "code",
   "execution_count": 97,
   "metadata": {},
   "outputs": [
    {
     "data": {
      "text/plain": [
       "[27.7, 29.73, 29.31, 26.22, 25.19]"
      ]
     },
     "execution_count": 97,
     "metadata": {},
     "output_type": "execute_result"
    }
   ],
   "source": [
    "#looking at prediction and comparing to true values\n",
    "[round(x,2)for x in y_pred[:5]]"
   ]
  },
  {
   "cell_type": "code",
   "execution_count": 98,
   "metadata": {},
   "outputs": [
    {
     "data": {
      "text/plain": [
       "[27.76000022888184,\n",
       " 29.8799991607666,\n",
       " 29.399999618530273,\n",
       " 26.239999771118164,\n",
       " 25.18000030517578]"
      ]
     },
     "execution_count": 98,
     "metadata": {},
     "output_type": "execute_result"
    }
   ],
   "source": [
    "list(y_test[:5])"
   ]
  },
  {
   "cell_type": "code",
   "execution_count": 99,
   "metadata": {},
   "outputs": [
    {
     "name": "stdout",
     "output_type": "stream",
     "text": [
      "on average my model errs by 0.08301500902710836\n"
     ]
    }
   ],
   "source": [
    "# root mean Sq error\n",
    "rmse = sqrt(metrics.mean_squared_error(y_test, y_pred))\n",
    "print ('on average my model errs by', rmse)"
   ]
  },
  {
   "cell_type": "code",
   "execution_count": 100,
   "metadata": {},
   "outputs": [
    {
     "data": {
      "text/plain": [
       "23.868411219008614"
      ]
     },
     "execution_count": 100,
     "metadata": {},
     "output_type": "execute_result"
    }
   ],
   "source": [
    "avg_val= y_train.mean()\n",
    "avg_val"
   ]
  },
  {
   "cell_type": "code",
   "execution_count": 101,
   "metadata": {},
   "outputs": [
    {
     "name": "stdout",
     "output_type": "stream",
     "text": [
      "Close -6\n"
     ]
    }
   ],
   "source": [
    "comparison_array=np.full((len(y_test), ), avg_val)\n",
    "coin_flip = sqrt(metrics.mean_squared_error(y_test, comparison_array))\n",
    "print ('Close', round(rmse-coin_flip))"
   ]
  },
  {
   "cell_type": "code",
   "execution_count": 102,
   "metadata": {},
   "outputs": [
    {
     "data": {
      "text/plain": [
       "0.9998071773961114"
      ]
     },
     "execution_count": 102,
     "metadata": {},
     "output_type": "execute_result"
    }
   ],
   "source": [
    "r2=metrics.r2_score(y_test, y_pred)\n",
    "r2"
   ]
  },
  {
   "cell_type": "code",
   "execution_count": 77,
   "metadata": {},
   "outputs": [
    {
     "data": {
      "text/plain": [
       "array([23.80633177, 23.80633177, 23.80633177, 23.80633177, 23.80633177,\n",
       "       23.80633177, 23.80633177, 23.80633177, 23.80633177, 23.80633177,\n",
       "       23.80633177, 23.80633177, 23.80633177, 23.80633177, 23.80633177,\n",
       "       23.80633177, 23.80633177, 23.80633177, 23.80633177, 23.80633177,\n",
       "       23.80633177, 23.80633177, 23.80633177, 23.80633177, 23.80633177,\n",
       "       23.80633177, 23.80633177, 23.80633177, 23.80633177, 23.80633177,\n",
       "       23.80633177, 23.80633177, 23.80633177, 23.80633177, 23.80633177,\n",
       "       23.80633177, 23.80633177, 23.80633177, 23.80633177, 23.80633177,\n",
       "       23.80633177, 23.80633177, 23.80633177, 23.80633177, 23.80633177,\n",
       "       23.80633177, 23.80633177, 23.80633177, 23.80633177, 23.80633177,\n",
       "       23.80633177, 23.80633177, 23.80633177, 23.80633177, 23.80633177,\n",
       "       23.80633177, 23.80633177, 23.80633177, 23.80633177, 23.80633177,\n",
       "       23.80633177, 23.80633177, 23.80633177, 23.80633177, 23.80633177,\n",
       "       23.80633177, 23.80633177, 23.80633177, 23.80633177, 23.80633177,\n",
       "       23.80633177, 23.80633177, 23.80633177, 23.80633177, 23.80633177,\n",
       "       23.80633177, 23.80633177, 23.80633177, 23.80633177, 23.80633177,\n",
       "       23.80633177, 23.80633177, 23.80633177, 23.80633177, 23.80633177,\n",
       "       23.80633177, 23.80633177, 23.80633177, 23.80633177, 23.80633177,\n",
       "       23.80633177, 23.80633177, 23.80633177, 23.80633177, 23.80633177,\n",
       "       23.80633177, 23.80633177, 23.80633177, 23.80633177, 23.80633177,\n",
       "       23.80633177, 23.80633177, 23.80633177, 23.80633177, 23.80633177,\n",
       "       23.80633177, 23.80633177, 23.80633177, 23.80633177, 23.80633177,\n",
       "       23.80633177, 23.80633177, 23.80633177, 23.80633177, 23.80633177,\n",
       "       23.80633177, 23.80633177, 23.80633177, 23.80633177, 23.80633177,\n",
       "       23.80633177, 23.80633177, 23.80633177, 23.80633177, 23.80633177,\n",
       "       23.80633177, 23.80633177, 23.80633177, 23.80633177, 23.80633177,\n",
       "       23.80633177, 23.80633177, 23.80633177, 23.80633177, 23.80633177,\n",
       "       23.80633177, 23.80633177, 23.80633177, 23.80633177, 23.80633177,\n",
       "       23.80633177, 23.80633177, 23.80633177, 23.80633177, 23.80633177,\n",
       "       23.80633177, 23.80633177, 23.80633177, 23.80633177, 23.80633177,\n",
       "       23.80633177, 23.80633177])"
      ]
     },
     "execution_count": 77,
     "metadata": {},
     "output_type": "execute_result"
    }
   ],
   "source": [
    "comparison = np.full(len(y_test), avg_val)\n",
    "comparison"
   ]
  },
  {
   "cell_type": "code",
   "execution_count": 78,
   "metadata": {},
   "outputs": [
    {
     "data": {
      "text/plain": [
       "5.880136650784015"
      ]
     },
     "execution_count": 78,
     "metadata": {},
     "output_type": "execute_result"
    }
   ],
   "source": [
    "sqrt(metrics.mean_squared_error(y_test, comparison))"
   ]
  },
  {
   "cell_type": "code",
   "execution_count": 79,
   "metadata": {},
   "outputs": [
    {
     "data": {
      "text/plain": [
       "array([13.17336271, 15.69613911, 12.86158624, 27.97752979, 25.28706495,\n",
       "       13.83559261, 28.55492344, 14.32090549, 24.53601808, 13.61677505,\n",
       "       25.59740176, 22.66991648, 29.80799694, 22.1230698 , 25.28514117,\n",
       "       24.66210137, 23.01669849, 29.72047156, 24.76042873, 26.33563346,\n",
       "       18.00575195, 29.87674022, 12.67129248, 28.64187575, 16.66829336,\n",
       "       16.71033471, 23.50732226, 28.71299441, 28.0423036 , 22.2418047 ,\n",
       "       13.5961298 , 27.76400156, 15.87007045, 23.88966718, 28.49953608,\n",
       "       13.45894923, 22.89717971, 28.07211011, 24.01337951, 27.96833347,\n",
       "       30.87404085, 24.69665596, 31.67200817, 29.36579677, 32.34205302,\n",
       "       27.54568294, 30.86193793, 13.12102114, 29.9212163 , 22.81609509,\n",
       "       28.36846985, 14.6754774 , 14.43625124, 26.96267373, 29.10401421,\n",
       "       29.52709301, 28.99272464, 14.69723822, 25.7472264 , 30.0421066 ,\n",
       "       26.81000164, 13.11182344, 23.89580056, 29.09050449, 29.06145899,\n",
       "       29.95713275, 26.21261714, 24.53357166, 25.2248767 , 26.22255287,\n",
       "       22.56296487, 31.06894704, 13.44149361, 27.20489522, 22.65974957,\n",
       "       29.12468657, 22.65967253, 12.67507363, 20.13538828, 30.74248882,\n",
       "       14.69929073, 15.16934885, 17.23197591, 27.08568102, 27.84285962,\n",
       "       13.3685745 , 32.18402617, 22.94755248, 24.58144715, 24.26291013,\n",
       "       29.13862335, 29.21712872, 26.52820557, 28.82012022, 30.00394513,\n",
       "       28.99481204, 23.60254091, 22.93297577, 12.60769444, 12.45131347,\n",
       "       22.62257231, 27.80866729, 32.49574333, 23.25233712, 28.14230529,\n",
       "       17.68473926, 14.45610568, 30.58674752, 14.94410444, 29.70757842,\n",
       "       27.80655745, 30.29784739, 30.36140358, 24.44720425, 20.30439739,\n",
       "       24.27873884, 27.95865549, 23.16787472, 29.28162294, 28.56824326,\n",
       "       13.32050136, 31.19738707, 27.12737401, 31.30877766, 29.30409058,\n",
       "       28.95182697, 24.00841811, 29.57872485, 28.25139463, 23.93835083,\n",
       "       26.8977629 , 28.48905633, 22.07135166, 30.01853013, 24.49156769,\n",
       "       23.07098646, 28.48113549, 30.07185532, 17.45933543, 30.29671746,\n",
       "       22.58699611, 28.91598269, 16.9213068 , 29.43957721, 31.4374992 ,\n",
       "       11.95712622, 29.3282673 , 25.87260127, 22.46643055, 17.6694015 ,\n",
       "       25.48247288, 29.01890517])"
      ]
     },
     "execution_count": 79,
     "metadata": {},
     "output_type": "execute_result"
    }
   ],
   "source": [
    "y_pred"
   ]
  },
  {
   "cell_type": "code",
   "execution_count": 80,
   "metadata": {},
   "outputs": [
    {
     "data": {
      "image/png": "[encoded data removed]",
      "text/plain": [
       "<Figure size 864x936 with 1 Axes>"
      ]
     },
     "metadata": {
      "needs_background": "light"
     },
     "output_type": "display_data"
    }
   ],
   "source": [
    "plt.figure(figsize = (12,13))\n",
    "sns.regplot(x=y_pred, y=y_test);"
   ]
  },
  {
   "cell_type": "code",
   "execution_count": 121,
   "metadata": {},
   "outputs": [
    {
     "name": "stderr",
     "output_type": "stream",
     "text": [
      "/Library/Frameworks/Python.framework/Versions/3.7/lib/python3.7/site-packages/ipykernel_launcher.py:1: SettingWithCopyWarning: \n",
      "A value is trying to be set on a copy of a slice from a DataFrame.\n",
      "Try using .loc[row_indexer,col_indexer] = value instead\n",
      "\n",
      "See the caveats in the documentation: http://pandas.pydata.org/pandas-docs/stable/user_guide/indexing.html#returning-a-view-versus-a-copy\n",
      "  \"\"\"Entry point for launching an IPython kernel.\n"
     ]
    }
   ],
   "source": [
    "apple_stock['ticker'] = apple['ticker']"
   ]
  },
  {
   "cell_type": "code",
   "execution_count": 126,
   "metadata": {},
   "outputs": [
    {
     "data": {
      "text/html": [
       "<div>\n",
       "<style scoped>\n",
       "    .dataframe tbody tr th:only-of-type {\n",
       "        vertical-align: middle;\n",
       "    }\n",
       "\n",
       "    .dataframe tbody tr th {\n",
       "        vertical-align: top;\n",
       "    }\n",
       "\n",
       "    .dataframe thead th {\n",
       "        text-align: right;\n",
       "    }\n",
       "</style>\n",
       "<table border=\"1\" class=\"dataframe\">\n",
       "  <thead>\n",
       "    <tr style=\"text-align: right;\">\n",
       "      <th></th>\n",
       "      <th>Low</th>\n",
       "      <th>High</th>\n",
       "      <th>Open</th>\n",
       "      <th>SMA_5</th>\n",
       "      <th>Volume</th>\n",
       "      <th>daily_pct_chng</th>\n",
       "      <th>ticker</th>\n",
       "    </tr>\n",
       "  </thead>\n",
       "  <tbody>\n",
       "    <tr>\n",
       "      <td>67788</td>\n",
       "      <td>15.36</td>\n",
       "      <td>15.64</td>\n",
       "      <td>15.52</td>\n",
       "      <td>61.718001</td>\n",
       "      <td>71516800.0</td>\n",
       "      <td>0.001933</td>\n",
       "      <td>BAC</td>\n",
       "    </tr>\n",
       "    <tr>\n",
       "      <td>67789</td>\n",
       "      <td>14.63</td>\n",
       "      <td>15.38</td>\n",
       "      <td>15.08</td>\n",
       "      <td>49.818002</td>\n",
       "      <td>181838400.0</td>\n",
       "      <td>0.019894</td>\n",
       "      <td>BAC</td>\n",
       "    </tr>\n",
       "    <tr>\n",
       "      <td>67790</td>\n",
       "      <td>15.44</td>\n",
       "      <td>15.79</td>\n",
       "      <td>15.45</td>\n",
       "      <td>38.352001</td>\n",
       "      <td>75315300.0</td>\n",
       "      <td>0.015534</td>\n",
       "      <td>BAC</td>\n",
       "    </tr>\n",
       "    <tr>\n",
       "      <td>67791</td>\n",
       "      <td>15.57</td>\n",
       "      <td>15.82</td>\n",
       "      <td>15.68</td>\n",
       "      <td>26.884000</td>\n",
       "      <td>67473700.0</td>\n",
       "      <td>0.000638</td>\n",
       "      <td>BAC</td>\n",
       "    </tr>\n",
       "    <tr>\n",
       "      <td>67792</td>\n",
       "      <td>15.57</td>\n",
       "      <td>15.93</td>\n",
       "      <td>15.78</td>\n",
       "      <td>15.712000</td>\n",
       "      <td>66655600.0</td>\n",
       "      <td>-0.001901</td>\n",
       "      <td>BAC</td>\n",
       "    </tr>\n",
       "  </tbody>\n",
       "</table>\n",
       "</div>"
      ],
      "text/plain": [
       "         Low   High   Open      SMA_5       Volume  daily_pct_chng ticker\n",
       "67788  15.36  15.64  15.52  61.718001   71516800.0        0.001933    BAC\n",
       "67789  14.63  15.38  15.08  49.818002  181838400.0        0.019894    BAC\n",
       "67790  15.44  15.79  15.45  38.352001   75315300.0        0.015534    BAC\n",
       "67791  15.57  15.82  15.68  26.884000   67473700.0        0.000638    BAC\n",
       "67792  15.57  15.93  15.78  15.712000   66655600.0       -0.001901    BAC"
      ]
     },
     "execution_count": 126,
     "metadata": {},
     "output_type": "execute_result"
    }
   ],
   "source": [
    "apple_stock.head()"
   ]
  },
  {
   "cell_type": "code",
   "execution_count": 141,
   "metadata": {},
   "outputs": [],
   "source": [
    "# pickle final model\n",
    "filename = open('BACstock_model.pkl', 'wb')\n",
    "pickle.dump(apple_stock, filename)\n",
    "filename.close()"
   ]
  },
  {
   "cell_type": "code",
   "execution_count": 142,
   "metadata": {},
   "outputs": [
    {
     "data": {
      "text/html": [
       "<div>\n",
       "<style scoped>\n",
       "    .dataframe tbody tr th:only-of-type {\n",
       "        vertical-align: middle;\n",
       "    }\n",
       "\n",
       "    .dataframe tbody tr th {\n",
       "        vertical-align: top;\n",
       "    }\n",
       "\n",
       "    .dataframe thead th {\n",
       "        text-align: right;\n",
       "    }\n",
       "</style>\n",
       "<table border=\"1\" class=\"dataframe\">\n",
       "  <thead>\n",
       "    <tr style=\"text-align: right;\">\n",
       "      <th></th>\n",
       "      <th>Low</th>\n",
       "      <th>High</th>\n",
       "      <th>Open</th>\n",
       "      <th>SMA_5</th>\n",
       "      <th>Volume</th>\n",
       "      <th>daily_pct_chng</th>\n",
       "    </tr>\n",
       "  </thead>\n",
       "  <tbody>\n",
       "    <tr>\n",
       "      <td>495</td>\n",
       "      <td>0.160276</td>\n",
       "      <td>0.142034</td>\n",
       "      <td>0.133619</td>\n",
       "      <td>0.065386</td>\n",
       "      <td>-0.591280</td>\n",
       "      <td>0.480563</td>\n",
       "    </tr>\n",
       "    <tr>\n",
       "      <td>514</td>\n",
       "      <td>0.364692</td>\n",
       "      <td>0.358267</td>\n",
       "      <td>0.323646</td>\n",
       "      <td>0.288257</td>\n",
       "      <td>-0.189728</td>\n",
       "      <td>1.068688</td>\n",
       "    </tr>\n",
       "    <tr>\n",
       "      <td>618</td>\n",
       "      <td>1.380228</td>\n",
       "      <td>1.365203</td>\n",
       "      <td>1.337120</td>\n",
       "      <td>1.338395</td>\n",
       "      <td>0.104753</td>\n",
       "      <td>0.134112</td>\n",
       "    </tr>\n",
       "    <tr>\n",
       "      <td>168</td>\n",
       "      <td>-1.450517</td>\n",
       "      <td>-1.473259</td>\n",
       "      <td>-1.449934</td>\n",
       "      <td>-1.453789</td>\n",
       "      <td>-0.383995</td>\n",
       "      <td>-0.056611</td>\n",
       "    </tr>\n",
       "    <tr>\n",
       "      <td>993</td>\n",
       "      <td>0.861830</td>\n",
       "      <td>0.918214</td>\n",
       "      <td>0.867738</td>\n",
       "      <td>0.773663</td>\n",
       "      <td>-0.163740</td>\n",
       "      <td>1.151234</td>\n",
       "    </tr>\n",
       "    <tr>\n",
       "      <td>218</td>\n",
       "      <td>-1.461965</td>\n",
       "      <td>-1.484554</td>\n",
       "      <td>-1.479169</td>\n",
       "      <td>-1.434272</td>\n",
       "      <td>-0.417123</td>\n",
       "      <td>0.706124</td>\n",
       "    </tr>\n",
       "    <tr>\n",
       "      <td>66</td>\n",
       "      <td>-1.246102</td>\n",
       "      <td>-1.261867</td>\n",
       "      <td>-1.248538</td>\n",
       "      <td>-1.174255</td>\n",
       "      <td>0.598431</td>\n",
       "      <td>-0.517027</td>\n",
       "    </tr>\n",
       "    <tr>\n",
       "      <td>605</td>\n",
       "      <td>1.419475</td>\n",
       "      <td>1.410386</td>\n",
       "      <td>1.371227</td>\n",
       "      <td>1.286769</td>\n",
       "      <td>-0.258533</td>\n",
       "      <td>0.016929</td>\n",
       "    </tr>\n",
       "    <tr>\n",
       "      <td>380</td>\n",
       "      <td>-0.080116</td>\n",
       "      <td>-0.037084</td>\n",
       "      <td>-0.017427</td>\n",
       "      <td>-0.059586</td>\n",
       "      <td>0.462762</td>\n",
       "      <td>-1.903629</td>\n",
       "    </tr>\n",
       "    <tr>\n",
       "      <td>792</td>\n",
       "      <td>0.590366</td>\n",
       "      <td>0.589023</td>\n",
       "      <td>0.603001</td>\n",
       "      <td>0.573771</td>\n",
       "      <td>-0.996528</td>\n",
       "      <td>-0.878120</td>\n",
       "    </tr>\n",
       "  </tbody>\n",
       "</table>\n",
       "</div>"
      ],
      "text/plain": [
       "          Low      High      Open     SMA_5    Volume  daily_pct_chng\n",
       "495  0.160276  0.142034  0.133619  0.065386 -0.591280        0.480563\n",
       "514  0.364692  0.358267  0.323646  0.288257 -0.189728        1.068688\n",
       "618  1.380228  1.365203  1.337120  1.338395  0.104753        0.134112\n",
       "168 -1.450517 -1.473259 -1.449934 -1.453789 -0.383995       -0.056611\n",
       "993  0.861830  0.918214  0.867738  0.773663 -0.163740        1.151234\n",
       "218 -1.461965 -1.484554 -1.479169 -1.434272 -0.417123        0.706124\n",
       "66  -1.246102 -1.261867 -1.248538 -1.174255  0.598431       -0.517027\n",
       "605  1.419475  1.410386  1.371227  1.286769 -0.258533        0.016929\n",
       "380 -0.080116 -0.037084 -0.017427 -0.059586  0.462762       -1.903629\n",
       "792  0.590366  0.589023  0.603001  0.573771 -0.996528       -0.878120"
      ]
     },
     "execution_count": 142,
     "metadata": {},
     "output_type": "execute_result"
    }
   ],
   "source": [
    "X_test.sample(10)"
   ]
  },
  {
   "cell_type": "code",
   "execution_count": 143,
   "metadata": {},
   "outputs": [
    {
     "data": {
      "text/plain": [
       "68726    27.760000\n",
       "68418    29.879999\n",
       "68470    29.400000\n",
       "68302    26.240000\n",
       "68153    25.180000\n",
       "68443    30.719999\n",
       "68444    30.889999\n",
       "68317    27.750000\n",
       "68109    22.940001\n",
       "67858    15.310000\n",
       "Name: Close, dtype: float64"
      ]
     },
     "execution_count": 143,
     "metadata": {},
     "output_type": "execute_result"
    }
   ],
   "source": [
    "y_test.head(10)"
   ]
  },
  {
   "cell_type": "code",
   "execution_count": 144,
   "metadata": {},
   "outputs": [
    {
     "name": "stdout",
     "output_type": "stream",
     "text": [
      "1008\n",
      "             Date   High    Low   Open  Close       Volume  Adj Close  \\\n",
      "67788  2015-10-01  15.64  15.36  15.52  15.55   71516800.0  14.509049   \n",
      "67789  2015-10-02  15.38  14.63  15.08  15.38  181838400.0  14.350430   \n",
      "67790  2015-10-05  15.79  15.44  15.45  15.69   75315300.0  14.639676   \n",
      "67791  2015-10-06  15.82  15.57  15.68  15.69   67473700.0  14.639676   \n",
      "67792  2015-10-07  15.93  15.57  15.78  15.75   66655600.0  14.695662   \n",
      "\n",
      "       HL_pct_diff  daily_pct_chng ticker      SMA_5  \n",
      "67788     0.018229        0.001933    BAC  61.718001  \n",
      "67789     0.051265        0.019894    BAC  49.818002  \n",
      "67790     0.022668        0.015534    BAC  38.352001  \n",
      "67791     0.016057        0.000638    BAC  26.884000  \n",
      "67792     0.023121       -0.001901    BAC  15.712000  \n"
     ]
    }
   ],
   "source": [
    "stock_filter = apple.loc[apple['ticker']=='BAC']\n",
    "#stock_filter = top_5.loc[top_5['ticker']]\n",
    "print(len(stock_filter))\n",
    "print (stock_filter.head())"
   ]
  },
  {
   "cell_type": "code",
   "execution_count": 145,
   "metadata": {},
   "outputs": [
    {
     "data": {
      "text/plain": [
       "23.876656744215225"
      ]
     },
     "execution_count": 145,
     "metadata": {},
     "output_type": "execute_result"
    }
   ],
   "source": [
    "stock_filter['Close'].mean()"
   ]
  },
  {
   "cell_type": "code",
   "execution_count": 146,
   "metadata": {},
   "outputs": [
    {
     "name": "stdout",
     "output_type": "stream",
     "text": [
      "actual high 27.76000022888184\n",
      "predicted 28.0\n"
     ]
    }
   ],
   "source": [
    "print ('actual high', y_test[68726])\n",
    "print ('predicted', round(y_pred[0]))\n",
    "## talk to austin about this"
   ]
  },
  {
   "cell_type": "code",
   "execution_count": 147,
   "metadata": {},
   "outputs": [
    {
     "name": "stdout",
     "output_type": "stream",
     "text": [
      "28.0\n",
      "30.0\n",
      "29.0\n",
      "26.0\n",
      "25.0\n"
     ]
    }
   ],
   "source": [
    "# predict the y-values\n",
    "y_pred = mystocks.predict(X_test)\n",
    "for i in y_pred[:5]:\n",
    "    print(round(i,0))"
   ]
  },
  {
   "cell_type": "code",
   "execution_count": 148,
   "metadata": {},
   "outputs": [
    {
     "name": "stdout",
     "output_type": "stream",
     "text": [
      "28.0\n",
      "30.0\n",
      "29.0\n",
      "26.0\n",
      "25.0\n"
     ]
    }
   ],
   "source": [
    "# How similar are those to the actual high prices?\n",
    "for i in y_test[:5]:\n",
    "    print(round(i,0))"
   ]
  },
  {
   "cell_type": "code",
   "execution_count": 149,
   "metadata": {},
   "outputs": [
    {
     "name": "stdout",
     "output_type": "stream",
     "text": [
      "0.0\n",
      "0.0\n",
      "0.0\n",
      "0.0\n",
      "-0.0\n"
     ]
    }
   ],
   "source": [
    "# the residuals are the difference between true y values and predicted y values.\n",
    "residuals= y_test - y_pred\n",
    "for i in residuals[:5]:\n",
    "    print(round(i,0))"
   ]
  },
  {
   "cell_type": "code",
   "execution_count": 150,
   "metadata": {},
   "outputs": [
    {
     "data": {
      "image/png": "[encoded data removed]",
      "text/plain": [
       "<Figure size 864x936 with 1 Axes>"
      ]
     },
     "metadata": {
      "needs_background": "light"
     },
     "output_type": "display_data"
    }
   ],
   "source": [
    "# Use a scatter plot to compare our predictions to the actual values\n",
    "# Remember: when x==y, that indicates an accurate model! \n",
    "# Do we have that?\n",
    "plt.figure(figsize=(12, 13))\n",
    "sns.regplot(y_pred, y_test);"
   ]
  },
  {
   "cell_type": "code",
   "execution_count": 151,
   "metadata": {},
   "outputs": [
    {
     "name": "stderr",
     "output_type": "stream",
     "text": [
      "/Library/Frameworks/Python.framework/Versions/3.7/lib/python3.7/site-packages/ipykernel_launcher.py:1: SettingWithCopyWarning: \n",
      "A value is trying to be set on a copy of a slice from a DataFrame.\n",
      "Try using .loc[row_indexer,col_indexer] = value instead\n",
      "\n",
      "See the caveats in the documentation: http://pandas.pydata.org/pandas-docs/stable/user_guide/indexing.html#returning-a-view-versus-a-copy\n",
      "  \"\"\"Entry point for launching an IPython kernel.\n"
     ]
    }
   ],
   "source": [
    "apple_stock['ticker'] = apple['ticker']"
   ]
  },
  {
   "cell_type": "code",
   "execution_count": 152,
   "metadata": {},
   "outputs": [
    {
     "data": {
      "text/html": [
       "<div>\n",
       "<style scoped>\n",
       "    .dataframe tbody tr th:only-of-type {\n",
       "        vertical-align: middle;\n",
       "    }\n",
       "\n",
       "    .dataframe tbody tr th {\n",
       "        vertical-align: top;\n",
       "    }\n",
       "\n",
       "    .dataframe thead th {\n",
       "        text-align: right;\n",
       "    }\n",
       "</style>\n",
       "<table border=\"1\" class=\"dataframe\">\n",
       "  <thead>\n",
       "    <tr style=\"text-align: right;\">\n",
       "      <th></th>\n",
       "      <th>Low</th>\n",
       "      <th>High</th>\n",
       "      <th>Open</th>\n",
       "      <th>SMA_5</th>\n",
       "      <th>Volume</th>\n",
       "      <th>daily_pct_chng</th>\n",
       "      <th>ticker</th>\n",
       "    </tr>\n",
       "  </thead>\n",
       "  <tbody>\n",
       "    <tr>\n",
       "      <td>67788</td>\n",
       "      <td>15.36</td>\n",
       "      <td>15.64</td>\n",
       "      <td>15.52</td>\n",
       "      <td>61.718001</td>\n",
       "      <td>71516800.0</td>\n",
       "      <td>0.001933</td>\n",
       "      <td>BAC</td>\n",
       "    </tr>\n",
       "    <tr>\n",
       "      <td>67789</td>\n",
       "      <td>14.63</td>\n",
       "      <td>15.38</td>\n",
       "      <td>15.08</td>\n",
       "      <td>49.818002</td>\n",
       "      <td>181838400.0</td>\n",
       "      <td>0.019894</td>\n",
       "      <td>BAC</td>\n",
       "    </tr>\n",
       "    <tr>\n",
       "      <td>67790</td>\n",
       "      <td>15.44</td>\n",
       "      <td>15.79</td>\n",
       "      <td>15.45</td>\n",
       "      <td>38.352001</td>\n",
       "      <td>75315300.0</td>\n",
       "      <td>0.015534</td>\n",
       "      <td>BAC</td>\n",
       "    </tr>\n",
       "    <tr>\n",
       "      <td>67791</td>\n",
       "      <td>15.57</td>\n",
       "      <td>15.82</td>\n",
       "      <td>15.68</td>\n",
       "      <td>26.884000</td>\n",
       "      <td>67473700.0</td>\n",
       "      <td>0.000638</td>\n",
       "      <td>BAC</td>\n",
       "    </tr>\n",
       "    <tr>\n",
       "      <td>67792</td>\n",
       "      <td>15.57</td>\n",
       "      <td>15.93</td>\n",
       "      <td>15.78</td>\n",
       "      <td>15.712000</td>\n",
       "      <td>66655600.0</td>\n",
       "      <td>-0.001901</td>\n",
       "      <td>BAC</td>\n",
       "    </tr>\n",
       "  </tbody>\n",
       "</table>\n",
       "</div>"
      ],
      "text/plain": [
       "         Low   High   Open      SMA_5       Volume  daily_pct_chng ticker\n",
       "67788  15.36  15.64  15.52  61.718001   71516800.0        0.001933    BAC\n",
       "67789  14.63  15.38  15.08  49.818002  181838400.0        0.019894    BAC\n",
       "67790  15.44  15.79  15.45  38.352001   75315300.0        0.015534    BAC\n",
       "67791  15.57  15.82  15.68  26.884000   67473700.0        0.000638    BAC\n",
       "67792  15.57  15.93  15.78  15.712000   66655600.0       -0.001901    BAC"
      ]
     },
     "execution_count": 152,
     "metadata": {},
     "output_type": "execute_result"
    }
   ],
   "source": [
    "apple_stock.head()"
   ]
  },
  {
   "cell_type": "code",
   "execution_count": 153,
   "metadata": {},
   "outputs": [],
   "source": [
    "apple.to_csv('BAC.csv')"
   ]
  },
  {
   "cell_type": "code",
   "execution_count": 154,
   "metadata": {},
   "outputs": [
    {
     "data": {
      "text/html": [
       "<div>\n",
       "<style scoped>\n",
       "    .dataframe tbody tr th:only-of-type {\n",
       "        vertical-align: middle;\n",
       "    }\n",
       "\n",
       "    .dataframe tbody tr th {\n",
       "        vertical-align: top;\n",
       "    }\n",
       "\n",
       "    .dataframe thead th {\n",
       "        text-align: right;\n",
       "    }\n",
       "</style>\n",
       "<table border=\"1\" class=\"dataframe\">\n",
       "  <thead>\n",
       "    <tr style=\"text-align: right;\">\n",
       "      <th></th>\n",
       "      <th>Low</th>\n",
       "      <th>High</th>\n",
       "      <th>Open</th>\n",
       "      <th>SMA_5</th>\n",
       "      <th>Volume</th>\n",
       "      <th>daily_pct_chng</th>\n",
       "      <th>ticker</th>\n",
       "    </tr>\n",
       "  </thead>\n",
       "  <tbody>\n",
       "    <tr>\n",
       "      <td>67788</td>\n",
       "      <td>15.360000</td>\n",
       "      <td>15.640000</td>\n",
       "      <td>15.520000</td>\n",
       "      <td>61.718001</td>\n",
       "      <td>71516800.0</td>\n",
       "      <td>0.001933</td>\n",
       "      <td>BAC</td>\n",
       "    </tr>\n",
       "    <tr>\n",
       "      <td>67789</td>\n",
       "      <td>14.630000</td>\n",
       "      <td>15.380000</td>\n",
       "      <td>15.080000</td>\n",
       "      <td>49.818002</td>\n",
       "      <td>181838400.0</td>\n",
       "      <td>0.019894</td>\n",
       "      <td>BAC</td>\n",
       "    </tr>\n",
       "    <tr>\n",
       "      <td>67790</td>\n",
       "      <td>15.440000</td>\n",
       "      <td>15.790000</td>\n",
       "      <td>15.450000</td>\n",
       "      <td>38.352001</td>\n",
       "      <td>75315300.0</td>\n",
       "      <td>0.015534</td>\n",
       "      <td>BAC</td>\n",
       "    </tr>\n",
       "    <tr>\n",
       "      <td>67791</td>\n",
       "      <td>15.570000</td>\n",
       "      <td>15.820000</td>\n",
       "      <td>15.680000</td>\n",
       "      <td>26.884000</td>\n",
       "      <td>67473700.0</td>\n",
       "      <td>0.000638</td>\n",
       "      <td>BAC</td>\n",
       "    </tr>\n",
       "    <tr>\n",
       "      <td>67792</td>\n",
       "      <td>15.570000</td>\n",
       "      <td>15.930000</td>\n",
       "      <td>15.780000</td>\n",
       "      <td>15.712000</td>\n",
       "      <td>66655600.0</td>\n",
       "      <td>-0.001901</td>\n",
       "      <td>BAC</td>\n",
       "    </tr>\n",
       "    <tr>\n",
       "      <td>...</td>\n",
       "      <td>...</td>\n",
       "      <td>...</td>\n",
       "      <td>...</td>\n",
       "      <td>...</td>\n",
       "      <td>...</td>\n",
       "      <td>...</td>\n",
       "      <td>...</td>\n",
       "    </tr>\n",
       "    <tr>\n",
       "      <td>68791</td>\n",
       "      <td>29.049999</td>\n",
       "      <td>29.330000</td>\n",
       "      <td>29.209999</td>\n",
       "      <td>29.626000</td>\n",
       "      <td>33198100.0</td>\n",
       "      <td>-0.002739</td>\n",
       "      <td>BAC</td>\n",
       "    </tr>\n",
       "    <tr>\n",
       "      <td>68792</td>\n",
       "      <td>29.209999</td>\n",
       "      <td>29.709999</td>\n",
       "      <td>29.410000</td>\n",
       "      <td>29.542000</td>\n",
       "      <td>41336600.0</td>\n",
       "      <td>-0.002040</td>\n",
       "      <td>BAC</td>\n",
       "    </tr>\n",
       "    <tr>\n",
       "      <td>68793</td>\n",
       "      <td>29.080000</td>\n",
       "      <td>29.520000</td>\n",
       "      <td>29.490000</td>\n",
       "      <td>29.522000</td>\n",
       "      <td>39191000.0</td>\n",
       "      <td>-0.010851</td>\n",
       "      <td>BAC</td>\n",
       "    </tr>\n",
       "    <tr>\n",
       "      <td>68794</td>\n",
       "      <td>28.410000</td>\n",
       "      <td>29.510000</td>\n",
       "      <td>29.440001</td>\n",
       "      <td>29.496000</td>\n",
       "      <td>49434400.0</td>\n",
       "      <td>-0.033967</td>\n",
       "      <td>BAC</td>\n",
       "    </tr>\n",
       "    <tr>\n",
       "      <td>68795</td>\n",
       "      <td>27.809999</td>\n",
       "      <td>28.299999</td>\n",
       "      <td>28.200001</td>\n",
       "      <td>29.274000</td>\n",
       "      <td>52293100.0</td>\n",
       "      <td>-0.012766</td>\n",
       "      <td>BAC</td>\n",
       "    </tr>\n",
       "  </tbody>\n",
       "</table>\n",
       "<p>1008 rows × 7 columns</p>\n",
       "</div>"
      ],
      "text/plain": [
       "             Low       High       Open      SMA_5       Volume  \\\n",
       "67788  15.360000  15.640000  15.520000  61.718001   71516800.0   \n",
       "67789  14.630000  15.380000  15.080000  49.818002  181838400.0   \n",
       "67790  15.440000  15.790000  15.450000  38.352001   75315300.0   \n",
       "67791  15.570000  15.820000  15.680000  26.884000   67473700.0   \n",
       "67792  15.570000  15.930000  15.780000  15.712000   66655600.0   \n",
       "...          ...        ...        ...        ...          ...   \n",
       "68791  29.049999  29.330000  29.209999  29.626000   33198100.0   \n",
       "68792  29.209999  29.709999  29.410000  29.542000   41336600.0   \n",
       "68793  29.080000  29.520000  29.490000  29.522000   39191000.0   \n",
       "68794  28.410000  29.510000  29.440001  29.496000   49434400.0   \n",
       "68795  27.809999  28.299999  28.200001  29.274000   52293100.0   \n",
       "\n",
       "       daily_pct_chng ticker  \n",
       "67788        0.001933    BAC  \n",
       "67789        0.019894    BAC  \n",
       "67790        0.015534    BAC  \n",
       "67791        0.000638    BAC  \n",
       "67792       -0.001901    BAC  \n",
       "...               ...    ...  \n",
       "68791       -0.002739    BAC  \n",
       "68792       -0.002040    BAC  \n",
       "68793       -0.010851    BAC  \n",
       "68794       -0.033967    BAC  \n",
       "68795       -0.012766    BAC  \n",
       "\n",
       "[1008 rows x 7 columns]"
      ]
     },
     "execution_count": 154,
     "metadata": {},
     "output_type": "execute_result"
    }
   ],
   "source": [
    "unpickled_df = pd.read_pickle('/Users/germanportes/Documents/general_assembly/projects/final_project/BACstock_model.pkl')\n",
    "unpickled_df"
   ]
  },
  {
   "cell_type": "code",
   "execution_count": 155,
   "metadata": {},
   "outputs": [
    {
     "data": {
      "text/html": [
       "<div>\n",
       "<style scoped>\n",
       "    .dataframe tbody tr th:only-of-type {\n",
       "        vertical-align: middle;\n",
       "    }\n",
       "\n",
       "    .dataframe tbody tr th {\n",
       "        vertical-align: top;\n",
       "    }\n",
       "\n",
       "    .dataframe thead th {\n",
       "        text-align: right;\n",
       "    }\n",
       "</style>\n",
       "<table border=\"1\" class=\"dataframe\">\n",
       "  <thead>\n",
       "    <tr style=\"text-align: right;\">\n",
       "      <th></th>\n",
       "      <th>Low</th>\n",
       "      <th>High</th>\n",
       "      <th>Open</th>\n",
       "      <th>SMA_5</th>\n",
       "      <th>Volume</th>\n",
       "      <th>daily_pct_chng</th>\n",
       "      <th>ticker</th>\n",
       "    </tr>\n",
       "  </thead>\n",
       "  <tbody>\n",
       "    <tr>\n",
       "      <td>67788</td>\n",
       "      <td>15.360000</td>\n",
       "      <td>15.640000</td>\n",
       "      <td>15.520000</td>\n",
       "      <td>61.718001</td>\n",
       "      <td>71516800.0</td>\n",
       "      <td>0.001933</td>\n",
       "      <td>BAC</td>\n",
       "    </tr>\n",
       "    <tr>\n",
       "      <td>67789</td>\n",
       "      <td>14.630000</td>\n",
       "      <td>15.380000</td>\n",
       "      <td>15.080000</td>\n",
       "      <td>49.818002</td>\n",
       "      <td>181838400.0</td>\n",
       "      <td>0.019894</td>\n",
       "      <td>BAC</td>\n",
       "    </tr>\n",
       "    <tr>\n",
       "      <td>67790</td>\n",
       "      <td>15.440000</td>\n",
       "      <td>15.790000</td>\n",
       "      <td>15.450000</td>\n",
       "      <td>38.352001</td>\n",
       "      <td>75315300.0</td>\n",
       "      <td>0.015534</td>\n",
       "      <td>BAC</td>\n",
       "    </tr>\n",
       "    <tr>\n",
       "      <td>67791</td>\n",
       "      <td>15.570000</td>\n",
       "      <td>15.820000</td>\n",
       "      <td>15.680000</td>\n",
       "      <td>26.884000</td>\n",
       "      <td>67473700.0</td>\n",
       "      <td>0.000638</td>\n",
       "      <td>BAC</td>\n",
       "    </tr>\n",
       "    <tr>\n",
       "      <td>67792</td>\n",
       "      <td>15.570000</td>\n",
       "      <td>15.930000</td>\n",
       "      <td>15.780000</td>\n",
       "      <td>15.712000</td>\n",
       "      <td>66655600.0</td>\n",
       "      <td>-0.001901</td>\n",
       "      <td>BAC</td>\n",
       "    </tr>\n",
       "    <tr>\n",
       "      <td>...</td>\n",
       "      <td>...</td>\n",
       "      <td>...</td>\n",
       "      <td>...</td>\n",
       "      <td>...</td>\n",
       "      <td>...</td>\n",
       "      <td>...</td>\n",
       "      <td>...</td>\n",
       "    </tr>\n",
       "    <tr>\n",
       "      <td>68791</td>\n",
       "      <td>29.049999</td>\n",
       "      <td>29.330000</td>\n",
       "      <td>29.209999</td>\n",
       "      <td>29.626000</td>\n",
       "      <td>33198100.0</td>\n",
       "      <td>-0.002739</td>\n",
       "      <td>BAC</td>\n",
       "    </tr>\n",
       "    <tr>\n",
       "      <td>68792</td>\n",
       "      <td>29.209999</td>\n",
       "      <td>29.709999</td>\n",
       "      <td>29.410000</td>\n",
       "      <td>29.542000</td>\n",
       "      <td>41336600.0</td>\n",
       "      <td>-0.002040</td>\n",
       "      <td>BAC</td>\n",
       "    </tr>\n",
       "    <tr>\n",
       "      <td>68793</td>\n",
       "      <td>29.080000</td>\n",
       "      <td>29.520000</td>\n",
       "      <td>29.490000</td>\n",
       "      <td>29.522000</td>\n",
       "      <td>39191000.0</td>\n",
       "      <td>-0.010851</td>\n",
       "      <td>BAC</td>\n",
       "    </tr>\n",
       "    <tr>\n",
       "      <td>68794</td>\n",
       "      <td>28.410000</td>\n",
       "      <td>29.510000</td>\n",
       "      <td>29.440001</td>\n",
       "      <td>29.496000</td>\n",
       "      <td>49434400.0</td>\n",
       "      <td>-0.033967</td>\n",
       "      <td>BAC</td>\n",
       "    </tr>\n",
       "    <tr>\n",
       "      <td>68795</td>\n",
       "      <td>27.809999</td>\n",
       "      <td>28.299999</td>\n",
       "      <td>28.200001</td>\n",
       "      <td>29.274000</td>\n",
       "      <td>52293100.0</td>\n",
       "      <td>-0.012766</td>\n",
       "      <td>BAC</td>\n",
       "    </tr>\n",
       "  </tbody>\n",
       "</table>\n",
       "<p>1008 rows × 7 columns</p>\n",
       "</div>"
      ],
      "text/plain": [
       "             Low       High       Open      SMA_5       Volume  \\\n",
       "67788  15.360000  15.640000  15.520000  61.718001   71516800.0   \n",
       "67789  14.630000  15.380000  15.080000  49.818002  181838400.0   \n",
       "67790  15.440000  15.790000  15.450000  38.352001   75315300.0   \n",
       "67791  15.570000  15.820000  15.680000  26.884000   67473700.0   \n",
       "67792  15.570000  15.930000  15.780000  15.712000   66655600.0   \n",
       "...          ...        ...        ...        ...          ...   \n",
       "68791  29.049999  29.330000  29.209999  29.626000   33198100.0   \n",
       "68792  29.209999  29.709999  29.410000  29.542000   41336600.0   \n",
       "68793  29.080000  29.520000  29.490000  29.522000   39191000.0   \n",
       "68794  28.410000  29.510000  29.440001  29.496000   49434400.0   \n",
       "68795  27.809999  28.299999  28.200001  29.274000   52293100.0   \n",
       "\n",
       "       daily_pct_chng ticker  \n",
       "67788        0.001933    BAC  \n",
       "67789        0.019894    BAC  \n",
       "67790        0.015534    BAC  \n",
       "67791        0.000638    BAC  \n",
       "67792       -0.001901    BAC  \n",
       "...               ...    ...  \n",
       "68791       -0.002739    BAC  \n",
       "68792       -0.002040    BAC  \n",
       "68793       -0.010851    BAC  \n",
       "68794       -0.033967    BAC  \n",
       "68795       -0.012766    BAC  \n",
       "\n",
       "[1008 rows x 7 columns]"
      ]
     },
     "execution_count": 155,
     "metadata": {},
     "output_type": "execute_result"
    }
   ],
   "source": [
    "# And here's a reminder of how to read that back in again, just in case this is unfamiliar:\n",
    "file = open('/Users/germanportes/Documents/general_assembly/projects/final_project/BACstock_model.pkl', 'rb')\n",
    "BAC=pickle.load(file)\n",
    "file.close()\n",
    "BAC"
   ]
  },
  {
   "cell_type": "code",
   "execution_count": null,
   "metadata": {},
   "outputs": [],
   "source": []
  }
 ],
 "metadata": {
  "kernelspec": {
   "display_name": "Python 3",
   "language": "python",
   "name": "python3"
  },
  "language_info": {
   "codemirror_mode": {
    "name": "ipython",
    "version": 3
   },
   "file_extension": ".py",
   "mimetype": "text/x-python",
   "name": "python",
   "nbconvert_exporter": "python",
   "pygments_lexer": "ipython3",
   "version": "3.7.4"
  }
 },
 "nbformat": 4,
 "nbformat_minor": 2
}
