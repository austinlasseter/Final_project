{
 "cells": [
  {
   "cell_type": "code",
   "execution_count": 1,
   "metadata": {},
   "outputs": [],
   "source": [
    "import pandas as pd\n",
    "from pathlib import Path\n",
    "import glob\n",
    "from sklearn.model_selection import train_test_split\n",
    "from sklearn.linear_model import LinearRegression\n",
    "from sklearn import metrics\n",
    "import numpy as np\n",
    "from math import sqrt\n",
    "import matplotlib.pyplot as plt\n",
    "%matplotlib inline\n",
    "import seaborn as sns\n",
    "import pickle\n",
    "import pandas_profiling"
   ]
  },
  {
   "cell_type": "code",
   "execution_count": 2,
   "metadata": {},
   "outputs": [
    {
     "data": {
      "text/plain": [
       "PosixPath('/Users/germanportes/Documents/general_assembly/projects/final_project')"
      ]
     },
     "execution_count": 2,
     "metadata": {},
     "output_type": "execute_result"
    }
   ],
   "source": [
    "home = Path.cwd()\n",
    "home"
   ]
  },
  {
   "cell_type": "code",
   "execution_count": 3,
   "metadata": {},
   "outputs": [
    {
     "data": {
      "text/html": [
       "<div>\n",
       "<style scoped>\n",
       "    .dataframe tbody tr th:only-of-type {\n",
       "        vertical-align: middle;\n",
       "    }\n",
       "\n",
       "    .dataframe tbody tr th {\n",
       "        vertical-align: top;\n",
       "    }\n",
       "\n",
       "    .dataframe thead th {\n",
       "        text-align: right;\n",
       "    }\n",
       "</style>\n",
       "<table border=\"1\" class=\"dataframe\">\n",
       "  <thead>\n",
       "    <tr style=\"text-align: right;\">\n",
       "      <th></th>\n",
       "      <th>Date</th>\n",
       "      <th>High</th>\n",
       "      <th>Low</th>\n",
       "      <th>Open</th>\n",
       "      <th>Close</th>\n",
       "      <th>Volume</th>\n",
       "      <th>Adj Close</th>\n",
       "      <th>HL_pct_diff</th>\n",
       "      <th>daily_pct_chng</th>\n",
       "      <th>ticker</th>\n",
       "    </tr>\n",
       "  </thead>\n",
       "  <tbody>\n",
       "    <tr>\n",
       "      <td>319165</td>\n",
       "      <td>2017-12-07</td>\n",
       "      <td>55.840000</td>\n",
       "      <td>54.680000</td>\n",
       "      <td>54.849998</td>\n",
       "      <td>54.770000</td>\n",
       "      <td>16460500.0</td>\n",
       "      <td>51.647331</td>\n",
       "      <td>0.021214</td>\n",
       "      <td>-0.001458</td>\n",
       "      <td>MRK</td>\n",
       "    </tr>\n",
       "    <tr>\n",
       "      <td>178820</td>\n",
       "      <td>2019-06-17</td>\n",
       "      <td>86.050003</td>\n",
       "      <td>84.320000</td>\n",
       "      <td>84.410004</td>\n",
       "      <td>85.470001</td>\n",
       "      <td>2629200.0</td>\n",
       "      <td>85.192650</td>\n",
       "      <td>0.020517</td>\n",
       "      <td>0.012558</td>\n",
       "      <td>EOG</td>\n",
       "    </tr>\n",
       "    <tr>\n",
       "      <td>410392</td>\n",
       "      <td>2016-07-05</td>\n",
       "      <td>68.410004</td>\n",
       "      <td>66.610001</td>\n",
       "      <td>68.059998</td>\n",
       "      <td>67.309998</td>\n",
       "      <td>2288900.0</td>\n",
       "      <td>62.571262</td>\n",
       "      <td>0.027023</td>\n",
       "      <td>-0.011020</td>\n",
       "      <td>RCL</td>\n",
       "    </tr>\n",
       "    <tr>\n",
       "      <td>107215</td>\n",
       "      <td>2016-03-17</td>\n",
       "      <td>35.189999</td>\n",
       "      <td>33.990002</td>\n",
       "      <td>34.480000</td>\n",
       "      <td>35.049999</td>\n",
       "      <td>3742700.0</td>\n",
       "      <td>31.071976</td>\n",
       "      <td>0.035304</td>\n",
       "      <td>0.016531</td>\n",
       "      <td>CF</td>\n",
       "    </tr>\n",
       "    <tr>\n",
       "      <td>324877</td>\n",
       "      <td>2016-08-09</td>\n",
       "      <td>58.500000</td>\n",
       "      <td>58.020000</td>\n",
       "      <td>58.169998</td>\n",
       "      <td>58.200001</td>\n",
       "      <td>16920700.0</td>\n",
       "      <td>54.620659</td>\n",
       "      <td>0.008273</td>\n",
       "      <td>0.000516</td>\n",
       "      <td>MSFT</td>\n",
       "    </tr>\n",
       "    <tr>\n",
       "      <td>193991</td>\n",
       "      <td>2019-08-28</td>\n",
       "      <td>181.949997</td>\n",
       "      <td>178.919998</td>\n",
       "      <td>180.529999</td>\n",
       "      <td>181.759995</td>\n",
       "      <td>9386100.0</td>\n",
       "      <td>181.759995</td>\n",
       "      <td>0.016935</td>\n",
       "      <td>0.006813</td>\n",
       "      <td>FB</td>\n",
       "    </tr>\n",
       "    <tr>\n",
       "      <td>112373</td>\n",
       "      <td>2016-09-02</td>\n",
       "      <td>128.339996</td>\n",
       "      <td>127.169998</td>\n",
       "      <td>127.500000</td>\n",
       "      <td>127.809998</td>\n",
       "      <td>1087200.0</td>\n",
       "      <td>119.441528</td>\n",
       "      <td>0.009200</td>\n",
       "      <td>0.002431</td>\n",
       "      <td>CB</td>\n",
       "    </tr>\n",
       "    <tr>\n",
       "      <td>398355</td>\n",
       "      <td>2016-08-17</td>\n",
       "      <td>142.139999</td>\n",
       "      <td>140.539993</td>\n",
       "      <td>140.899994</td>\n",
       "      <td>142.070007</td>\n",
       "      <td>1242200.0</td>\n",
       "      <td>133.388412</td>\n",
       "      <td>0.011385</td>\n",
       "      <td>0.008304</td>\n",
       "      <td>RTN</td>\n",
       "    </tr>\n",
       "    <tr>\n",
       "      <td>63161</td>\n",
       "      <td>2017-05-23</td>\n",
       "      <td>612.989990</td>\n",
       "      <td>579.609985</td>\n",
       "      <td>607.010010</td>\n",
       "      <td>581.400024</td>\n",
       "      <td>2949700.0</td>\n",
       "      <td>581.400024</td>\n",
       "      <td>0.057590</td>\n",
       "      <td>-0.042190</td>\n",
       "      <td>AZO</td>\n",
       "    </tr>\n",
       "    <tr>\n",
       "      <td>256056</td>\n",
       "      <td>2017-10-31</td>\n",
       "      <td>66.160004</td>\n",
       "      <td>65.150002</td>\n",
       "      <td>65.190002</td>\n",
       "      <td>66.099998</td>\n",
       "      <td>5587300.0</td>\n",
       "      <td>64.263153</td>\n",
       "      <td>0.015503</td>\n",
       "      <td>0.013959</td>\n",
       "      <td>ICE</td>\n",
       "    </tr>\n",
       "  </tbody>\n",
       "</table>\n",
       "</div>"
      ],
      "text/plain": [
       "              Date        High         Low        Open       Close  \\\n",
       "319165  2017-12-07   55.840000   54.680000   54.849998   54.770000   \n",
       "178820  2019-06-17   86.050003   84.320000   84.410004   85.470001   \n",
       "410392  2016-07-05   68.410004   66.610001   68.059998   67.309998   \n",
       "107215  2016-03-17   35.189999   33.990002   34.480000   35.049999   \n",
       "324877  2016-08-09   58.500000   58.020000   58.169998   58.200001   \n",
       "193991  2019-08-28  181.949997  178.919998  180.529999  181.759995   \n",
       "112373  2016-09-02  128.339996  127.169998  127.500000  127.809998   \n",
       "398355  2016-08-17  142.139999  140.539993  140.899994  142.070007   \n",
       "63161   2017-05-23  612.989990  579.609985  607.010010  581.400024   \n",
       "256056  2017-10-31   66.160004   65.150002   65.190002   66.099998   \n",
       "\n",
       "            Volume   Adj Close  HL_pct_diff  daily_pct_chng ticker  \n",
       "319165  16460500.0   51.647331     0.021214       -0.001458    MRK  \n",
       "178820   2629200.0   85.192650     0.020517        0.012558    EOG  \n",
       "410392   2288900.0   62.571262     0.027023       -0.011020    RCL  \n",
       "107215   3742700.0   31.071976     0.035304        0.016531     CF  \n",
       "324877  16920700.0   54.620659     0.008273        0.000516   MSFT  \n",
       "193991   9386100.0  181.759995     0.016935        0.006813     FB  \n",
       "112373   1087200.0  119.441528     0.009200        0.002431     CB  \n",
       "398355   1242200.0  133.388412     0.011385        0.008304    RTN  \n",
       "63161    2949700.0  581.400024     0.057590       -0.042190    AZO  \n",
       "256056   5587300.0   64.263153     0.015503        0.013959    ICE  "
      ]
     },
     "execution_count": 3,
     "metadata": {},
     "output_type": "execute_result"
    }
   ],
   "source": [
    "stocks = pd.read_csv(\"../final_project/sp500_1.csv\")\n",
    "#stocks = pd.read_csv(\"../final_project/sp500_1.csv\").profile_report()\n",
    "stocks.sample(10)"
   ]
  },
  {
   "cell_type": "code",
   "execution_count": 4,
   "metadata": {},
   "outputs": [],
   "source": [
    "# simple rolling average\n",
    "stocks['SMA_5'] = stocks.iloc[:,1].rolling(window=5).mean()"
   ]
  },
  {
   "cell_type": "code",
   "execution_count": 5,
   "metadata": {},
   "outputs": [
    {
     "data": {
      "text/html": [
       "<div>\n",
       "<style scoped>\n",
       "    .dataframe tbody tr th:only-of-type {\n",
       "        vertical-align: middle;\n",
       "    }\n",
       "\n",
       "    .dataframe tbody tr th {\n",
       "        vertical-align: top;\n",
       "    }\n",
       "\n",
       "    .dataframe thead th {\n",
       "        text-align: right;\n",
       "    }\n",
       "</style>\n",
       "<table border=\"1\" class=\"dataframe\">\n",
       "  <thead>\n",
       "    <tr style=\"text-align: right;\">\n",
       "      <th></th>\n",
       "      <th>Date</th>\n",
       "      <th>High</th>\n",
       "      <th>Low</th>\n",
       "      <th>Open</th>\n",
       "      <th>Close</th>\n",
       "      <th>Volume</th>\n",
       "      <th>Adj Close</th>\n",
       "      <th>HL_pct_diff</th>\n",
       "      <th>daily_pct_chng</th>\n",
       "      <th>ticker</th>\n",
       "      <th>SMA_5</th>\n",
       "    </tr>\n",
       "  </thead>\n",
       "  <tbody>\n",
       "    <tr>\n",
       "      <td>302657</td>\n",
       "      <td>2016-03-17</td>\n",
       "      <td>111.389999</td>\n",
       "      <td>108.790001</td>\n",
       "      <td>110.279999</td>\n",
       "      <td>111.080002</td>\n",
       "      <td>746000.0</td>\n",
       "      <td>103.118752</td>\n",
       "      <td>0.023899</td>\n",
       "      <td>0.007254</td>\n",
       "      <td>MTB</td>\n",
       "      <td>111.764000</td>\n",
       "    </tr>\n",
       "    <tr>\n",
       "      <td>370928</td>\n",
       "      <td>2019-07-30</td>\n",
       "      <td>39.049999</td>\n",
       "      <td>38.560001</td>\n",
       "      <td>38.720001</td>\n",
       "      <td>38.939999</td>\n",
       "      <td>1212900.0</td>\n",
       "      <td>38.939999</td>\n",
       "      <td>0.012707</td>\n",
       "      <td>0.005682</td>\n",
       "      <td>PNR</td>\n",
       "      <td>39.343999</td>\n",
       "    </tr>\n",
       "    <tr>\n",
       "      <td>412625</td>\n",
       "      <td>2017-05-15</td>\n",
       "      <td>130.809998</td>\n",
       "      <td>127.309998</td>\n",
       "      <td>128.029999</td>\n",
       "      <td>130.410004</td>\n",
       "      <td>1395500.0</td>\n",
       "      <td>130.227905</td>\n",
       "      <td>0.027492</td>\n",
       "      <td>0.018589</td>\n",
       "      <td>SBAC</td>\n",
       "      <td>130.003998</td>\n",
       "    </tr>\n",
       "    <tr>\n",
       "      <td>296668</td>\n",
       "      <td>2016-06-10</td>\n",
       "      <td>114.070000</td>\n",
       "      <td>112.379997</td>\n",
       "      <td>112.949997</td>\n",
       "      <td>113.730003</td>\n",
       "      <td>1847200.0</td>\n",
       "      <td>105.877266</td>\n",
       "      <td>0.015038</td>\n",
       "      <td>0.006906</td>\n",
       "      <td>LIN</td>\n",
       "      <td>113.245999</td>\n",
       "    </tr>\n",
       "    <tr>\n",
       "      <td>475553</td>\n",
       "      <td>2019-08-29</td>\n",
       "      <td>180.500000</td>\n",
       "      <td>178.139999</td>\n",
       "      <td>179.300003</td>\n",
       "      <td>178.979996</td>\n",
       "      <td>680300.0</td>\n",
       "      <td>178.979996</td>\n",
       "      <td>0.013248</td>\n",
       "      <td>-0.001785</td>\n",
       "      <td>VRTX</td>\n",
       "      <td>182.658002</td>\n",
       "    </tr>\n",
       "  </tbody>\n",
       "</table>\n",
       "</div>"
      ],
      "text/plain": [
       "              Date        High         Low        Open       Close     Volume  \\\n",
       "302657  2016-03-17  111.389999  108.790001  110.279999  111.080002   746000.0   \n",
       "370928  2019-07-30   39.049999   38.560001   38.720001   38.939999  1212900.0   \n",
       "412625  2017-05-15  130.809998  127.309998  128.029999  130.410004  1395500.0   \n",
       "296668  2016-06-10  114.070000  112.379997  112.949997  113.730003  1847200.0   \n",
       "475553  2019-08-29  180.500000  178.139999  179.300003  178.979996   680300.0   \n",
       "\n",
       "         Adj Close  HL_pct_diff  daily_pct_chng ticker       SMA_5  \n",
       "302657  103.118752     0.023899        0.007254    MTB  111.764000  \n",
       "370928   38.939999     0.012707        0.005682    PNR   39.343999  \n",
       "412625  130.227905     0.027492        0.018589   SBAC  130.003998  \n",
       "296668  105.877266     0.015038        0.006906    LIN  113.245999  \n",
       "475553  178.979996     0.013248       -0.001785   VRTX  182.658002  "
      ]
     },
     "execution_count": 5,
     "metadata": {},
     "output_type": "execute_result"
    }
   ],
   "source": [
    "stocks.sample(5)"
   ]
  },
  {
   "cell_type": "code",
   "execution_count": 6,
   "metadata": {},
   "outputs": [
    {
     "data": {
      "text/plain": [
       "Date              0\n",
       "High              0\n",
       "Low               0\n",
       "Open              0\n",
       "Close             0\n",
       "Volume            0\n",
       "Adj Close         0\n",
       "HL_pct_diff       0\n",
       "daily_pct_chng    0\n",
       "ticker            0\n",
       "SMA_5             4\n",
       "dtype: int64"
      ]
     },
     "execution_count": 6,
     "metadata": {},
     "output_type": "execute_result"
    }
   ],
   "source": [
    "# any missing data\n",
    "stocks.isnull().sum()"
   ]
  },
  {
   "cell_type": "code",
   "execution_count": 7,
   "metadata": {},
   "outputs": [
    {
     "data": {
      "text/plain": [
       "(505207, 11)"
      ]
     },
     "execution_count": 7,
     "metadata": {},
     "output_type": "execute_result"
    }
   ],
   "source": [
    "#size\n",
    "stocks.shape"
   ]
  },
  {
   "cell_type": "code",
   "execution_count": 8,
   "metadata": {},
   "outputs": [
    {
     "data": {
      "text/plain": [
       "count    505207.000000\n",
       "mean        106.499921\n",
       "std         171.910724\n",
       "min           1.740000\n",
       "25%          44.410000\n",
       "50%          72.330002\n",
       "75%         116.739998\n",
       "max        3766.270020\n",
       "Name: Close, dtype: float64"
      ]
     },
     "execution_count": 8,
     "metadata": {},
     "output_type": "execute_result"
    }
   ],
   "source": [
    "# Establish our target variables: \"runs\"\n",
    "stocks['Close'].describe()"
   ]
  },
  {
   "cell_type": "code",
   "execution_count": null,
   "metadata": {},
   "outputs": [],
   "source": []
  },
  {
   "cell_type": "code",
   "execution_count": 9,
   "metadata": {},
   "outputs": [
    {
     "data": {
      "text/plain": [
       "505"
      ]
     },
     "execution_count": 9,
     "metadata": {},
     "output_type": "execute_result"
    }
   ],
   "source": [
    "# How many unique companies are there?\n",
    "stocks['ticker'].nunique()"
   ]
  },
  {
   "cell_type": "code",
   "execution_count": 10,
   "metadata": {},
   "outputs": [
    {
     "data": {
      "text/html": [
       "<div>\n",
       "<style scoped>\n",
       "    .dataframe tbody tr th:only-of-type {\n",
       "        vertical-align: middle;\n",
       "    }\n",
       "\n",
       "    .dataframe tbody tr th {\n",
       "        vertical-align: top;\n",
       "    }\n",
       "\n",
       "    .dataframe thead th {\n",
       "        text-align: right;\n",
       "    }\n",
       "</style>\n",
       "<table border=\"1\" class=\"dataframe\">\n",
       "  <thead>\n",
       "    <tr style=\"text-align: right;\">\n",
       "      <th></th>\n",
       "      <th>Date</th>\n",
       "      <th>High</th>\n",
       "      <th>Low</th>\n",
       "      <th>Open</th>\n",
       "      <th>Close</th>\n",
       "      <th>Volume</th>\n",
       "      <th>Adj Close</th>\n",
       "      <th>HL_pct_diff</th>\n",
       "      <th>daily_pct_chng</th>\n",
       "      <th>ticker</th>\n",
       "      <th>SMA_5</th>\n",
       "    </tr>\n",
       "  </thead>\n",
       "  <tbody>\n",
       "    <tr>\n",
       "      <td>418427</td>\n",
       "      <td>2016-07-01</td>\n",
       "      <td>218.949997</td>\n",
       "      <td>216.520004</td>\n",
       "      <td>217.529999</td>\n",
       "      <td>217.139999</td>\n",
       "      <td>1047900.0</td>\n",
       "      <td>187.925247</td>\n",
       "      <td>0.011223</td>\n",
       "      <td>-0.001793</td>\n",
       "      <td>SPG</td>\n",
       "      <td>214.717999</td>\n",
       "    </tr>\n",
       "    <tr>\n",
       "      <td>163393</td>\n",
       "      <td>2018-03-27</td>\n",
       "      <td>104.919998</td>\n",
       "      <td>101.949997</td>\n",
       "      <td>102.190002</td>\n",
       "      <td>103.809998</td>\n",
       "      <td>707300.0</td>\n",
       "      <td>99.026337</td>\n",
       "      <td>0.029132</td>\n",
       "      <td>0.015853</td>\n",
       "      <td>DTE</td>\n",
       "      <td>103.878001</td>\n",
       "    </tr>\n",
       "    <tr>\n",
       "      <td>488001</td>\n",
       "      <td>2019-04-04</td>\n",
       "      <td>49.680000</td>\n",
       "      <td>48.880001</td>\n",
       "      <td>48.950001</td>\n",
       "      <td>49.169998</td>\n",
       "      <td>19260100.0</td>\n",
       "      <td>48.157055</td>\n",
       "      <td>0.016367</td>\n",
       "      <td>0.004494</td>\n",
       "      <td>WFC</td>\n",
       "      <td>49.226000</td>\n",
       "    </tr>\n",
       "    <tr>\n",
       "      <td>46480</td>\n",
       "      <td>2019-03-15</td>\n",
       "      <td>306.670013</td>\n",
       "      <td>301.910004</td>\n",
       "      <td>304.649994</td>\n",
       "      <td>303.000000</td>\n",
       "      <td>1632000.0</td>\n",
       "      <td>301.157257</td>\n",
       "      <td>0.015766</td>\n",
       "      <td>-0.005416</td>\n",
       "      <td>ANTM</td>\n",
       "      <td>302.696002</td>\n",
       "    </tr>\n",
       "    <tr>\n",
       "      <td>498285</td>\n",
       "      <td>2016-03-04</td>\n",
       "      <td>27.773386</td>\n",
       "      <td>27.325428</td>\n",
       "      <td>27.378130</td>\n",
       "      <td>27.667984</td>\n",
       "      <td>2003400.0</td>\n",
       "      <td>24.301579</td>\n",
       "      <td>0.016393</td>\n",
       "      <td>0.010587</td>\n",
       "      <td>XRX</td>\n",
       "      <td>26.808959</td>\n",
       "    </tr>\n",
       "    <tr>\n",
       "      <td>64</td>\n",
       "      <td>2016-01-04</td>\n",
       "      <td>148.320007</td>\n",
       "      <td>145.399994</td>\n",
       "      <td>148.050003</td>\n",
       "      <td>146.820007</td>\n",
       "      <td>3277200.0</td>\n",
       "      <td>132.801498</td>\n",
       "      <td>0.020083</td>\n",
       "      <td>-0.008308</td>\n",
       "      <td>MMM</td>\n",
       "      <td>151.834000</td>\n",
       "    </tr>\n",
       "    <tr>\n",
       "      <td>40519</td>\n",
       "      <td>2019-07-19</td>\n",
       "      <td>86.639999</td>\n",
       "      <td>85.089996</td>\n",
       "      <td>86.639999</td>\n",
       "      <td>85.519997</td>\n",
       "      <td>928300.0</td>\n",
       "      <td>85.122086</td>\n",
       "      <td>0.018216</td>\n",
       "      <td>-0.012927</td>\n",
       "      <td>ABC</td>\n",
       "      <td>88.492000</td>\n",
       "    </tr>\n",
       "    <tr>\n",
       "      <td>165565</td>\n",
       "      <td>2018-11-06</td>\n",
       "      <td>28.209999</td>\n",
       "      <td>27.879999</td>\n",
       "      <td>27.980000</td>\n",
       "      <td>28.200001</td>\n",
       "      <td>1530700.0</td>\n",
       "      <td>27.410225</td>\n",
       "      <td>0.011836</td>\n",
       "      <td>0.007863</td>\n",
       "      <td>DRE</td>\n",
       "      <td>28.002000</td>\n",
       "    </tr>\n",
       "    <tr>\n",
       "      <td>308782</td>\n",
       "      <td>2016-07-07</td>\n",
       "      <td>68.709999</td>\n",
       "      <td>67.400002</td>\n",
       "      <td>67.980003</td>\n",
       "      <td>68.360001</td>\n",
       "      <td>2918500.0</td>\n",
       "      <td>65.450981</td>\n",
       "      <td>0.019436</td>\n",
       "      <td>0.005590</td>\n",
       "      <td>MAR</td>\n",
       "      <td>67.851999</td>\n",
       "    </tr>\n",
       "    <tr>\n",
       "      <td>300507</td>\n",
       "      <td>2019-09-06</td>\n",
       "      <td>49.619999</td>\n",
       "      <td>48.919998</td>\n",
       "      <td>48.959999</td>\n",
       "      <td>49.279999</td>\n",
       "      <td>1170700.0</td>\n",
       "      <td>49.279999</td>\n",
       "      <td>0.014309</td>\n",
       "      <td>0.006536</td>\n",
       "      <td>L</td>\n",
       "      <td>48.870000</td>\n",
       "    </tr>\n",
       "    <tr>\n",
       "      <td>8767</td>\n",
       "      <td>2018-07-18</td>\n",
       "      <td>16.990000</td>\n",
       "      <td>16.549999</td>\n",
       "      <td>16.940001</td>\n",
       "      <td>16.850000</td>\n",
       "      <td>40881500.0</td>\n",
       "      <td>16.850000</td>\n",
       "      <td>0.026586</td>\n",
       "      <td>-0.005313</td>\n",
       "      <td>AMD</td>\n",
       "      <td>16.870000</td>\n",
       "    </tr>\n",
       "    <tr>\n",
       "      <td>169779</td>\n",
       "      <td>2019-07-31</td>\n",
       "      <td>77.129997</td>\n",
       "      <td>74.709999</td>\n",
       "      <td>76.500000</td>\n",
       "      <td>75.349998</td>\n",
       "      <td>1364000.0</td>\n",
       "      <td>74.724350</td>\n",
       "      <td>0.032392</td>\n",
       "      <td>-0.015033</td>\n",
       "      <td>EMN</td>\n",
       "      <td>78.765999</td>\n",
       "    </tr>\n",
       "    <tr>\n",
       "      <td>64371</td>\n",
       "      <td>2018-03-13</td>\n",
       "      <td>162.970001</td>\n",
       "      <td>161.100006</td>\n",
       "      <td>162.460007</td>\n",
       "      <td>161.520004</td>\n",
       "      <td>593100.0</td>\n",
       "      <td>152.579010</td>\n",
       "      <td>0.011608</td>\n",
       "      <td>-0.005786</td>\n",
       "      <td>AVB</td>\n",
       "      <td>160.928000</td>\n",
       "    </tr>\n",
       "    <tr>\n",
       "      <td>164488</td>\n",
       "      <td>2018-07-31</td>\n",
       "      <td>81.709999</td>\n",
       "      <td>80.760002</td>\n",
       "      <td>81.199997</td>\n",
       "      <td>81.620003</td>\n",
       "      <td>3691100.0</td>\n",
       "      <td>77.324966</td>\n",
       "      <td>0.011763</td>\n",
       "      <td>0.005172</td>\n",
       "      <td>DUK</td>\n",
       "      <td>81.313998</td>\n",
       "    </tr>\n",
       "    <tr>\n",
       "      <td>89009</td>\n",
       "      <td>2015-12-16</td>\n",
       "      <td>21.799999</td>\n",
       "      <td>21.370001</td>\n",
       "      <td>21.570000</td>\n",
       "      <td>21.770000</td>\n",
       "      <td>3854400.0</td>\n",
       "      <td>21.770000</td>\n",
       "      <td>0.020122</td>\n",
       "      <td>0.009272</td>\n",
       "      <td>CDNS</td>\n",
       "      <td>21.548000</td>\n",
       "    </tr>\n",
       "    <tr>\n",
       "      <td>258835</td>\n",
       "      <td>2016-11-09</td>\n",
       "      <td>45.900002</td>\n",
       "      <td>43.759998</td>\n",
       "      <td>43.980000</td>\n",
       "      <td>45.650002</td>\n",
       "      <td>3703800.0</td>\n",
       "      <td>40.597454</td>\n",
       "      <td>0.048903</td>\n",
       "      <td>0.037972</td>\n",
       "      <td>IP</td>\n",
       "      <td>44.918001</td>\n",
       "    </tr>\n",
       "    <tr>\n",
       "      <td>435355</td>\n",
       "      <td>2015-10-14</td>\n",
       "      <td>40.189999</td>\n",
       "      <td>39.139999</td>\n",
       "      <td>40.090000</td>\n",
       "      <td>39.509998</td>\n",
       "      <td>2867000.0</td>\n",
       "      <td>38.775265</td>\n",
       "      <td>0.026827</td>\n",
       "      <td>-0.014467</td>\n",
       "      <td>TMUS</td>\n",
       "      <td>40.338000</td>\n",
       "    </tr>\n",
       "    <tr>\n",
       "      <td>260850</td>\n",
       "      <td>2016-12-19</td>\n",
       "      <td>118.650002</td>\n",
       "      <td>117.309998</td>\n",
       "      <td>118.349998</td>\n",
       "      <td>117.870003</td>\n",
       "      <td>620400.0</td>\n",
       "      <td>110.731972</td>\n",
       "      <td>0.011423</td>\n",
       "      <td>-0.004056</td>\n",
       "      <td>IFF</td>\n",
       "      <td>121.056001</td>\n",
       "    </tr>\n",
       "    <tr>\n",
       "      <td>411780</td>\n",
       "      <td>2018-01-05</td>\n",
       "      <td>108.300003</td>\n",
       "      <td>107.199997</td>\n",
       "      <td>107.760002</td>\n",
       "      <td>108.099998</td>\n",
       "      <td>3368400.0</td>\n",
       "      <td>108.099998</td>\n",
       "      <td>0.010261</td>\n",
       "      <td>0.003155</td>\n",
       "      <td>CRM</td>\n",
       "      <td>105.994000</td>\n",
       "    </tr>\n",
       "    <tr>\n",
       "      <td>147711</td>\n",
       "      <td>2016-07-19</td>\n",
       "      <td>77.620003</td>\n",
       "      <td>77.040001</td>\n",
       "      <td>77.320000</td>\n",
       "      <td>77.349998</td>\n",
       "      <td>592600.0</td>\n",
       "      <td>77.349998</td>\n",
       "      <td>0.007529</td>\n",
       "      <td>0.000388</td>\n",
       "      <td>DVA</td>\n",
       "      <td>78.076001</td>\n",
       "    </tr>\n",
       "  </tbody>\n",
       "</table>\n",
       "</div>"
      ],
      "text/plain": [
       "              Date        High         Low        Open       Close  \\\n",
       "418427  2016-07-01  218.949997  216.520004  217.529999  217.139999   \n",
       "163393  2018-03-27  104.919998  101.949997  102.190002  103.809998   \n",
       "488001  2019-04-04   49.680000   48.880001   48.950001   49.169998   \n",
       "46480   2019-03-15  306.670013  301.910004  304.649994  303.000000   \n",
       "498285  2016-03-04   27.773386   27.325428   27.378130   27.667984   \n",
       "64      2016-01-04  148.320007  145.399994  148.050003  146.820007   \n",
       "40519   2019-07-19   86.639999   85.089996   86.639999   85.519997   \n",
       "165565  2018-11-06   28.209999   27.879999   27.980000   28.200001   \n",
       "308782  2016-07-07   68.709999   67.400002   67.980003   68.360001   \n",
       "300507  2019-09-06   49.619999   48.919998   48.959999   49.279999   \n",
       "8767    2018-07-18   16.990000   16.549999   16.940001   16.850000   \n",
       "169779  2019-07-31   77.129997   74.709999   76.500000   75.349998   \n",
       "64371   2018-03-13  162.970001  161.100006  162.460007  161.520004   \n",
       "164488  2018-07-31   81.709999   80.760002   81.199997   81.620003   \n",
       "89009   2015-12-16   21.799999   21.370001   21.570000   21.770000   \n",
       "258835  2016-11-09   45.900002   43.759998   43.980000   45.650002   \n",
       "435355  2015-10-14   40.189999   39.139999   40.090000   39.509998   \n",
       "260850  2016-12-19  118.650002  117.309998  118.349998  117.870003   \n",
       "411780  2018-01-05  108.300003  107.199997  107.760002  108.099998   \n",
       "147711  2016-07-19   77.620003   77.040001   77.320000   77.349998   \n",
       "\n",
       "            Volume   Adj Close  HL_pct_diff  daily_pct_chng ticker       SMA_5  \n",
       "418427   1047900.0  187.925247     0.011223       -0.001793    SPG  214.717999  \n",
       "163393    707300.0   99.026337     0.029132        0.015853    DTE  103.878001  \n",
       "488001  19260100.0   48.157055     0.016367        0.004494    WFC   49.226000  \n",
       "46480    1632000.0  301.157257     0.015766       -0.005416   ANTM  302.696002  \n",
       "498285   2003400.0   24.301579     0.016393        0.010587    XRX   26.808959  \n",
       "64       3277200.0  132.801498     0.020083       -0.008308    MMM  151.834000  \n",
       "40519     928300.0   85.122086     0.018216       -0.012927    ABC   88.492000  \n",
       "165565   1530700.0   27.410225     0.011836        0.007863    DRE   28.002000  \n",
       "308782   2918500.0   65.450981     0.019436        0.005590    MAR   67.851999  \n",
       "300507   1170700.0   49.279999     0.014309        0.006536      L   48.870000  \n",
       "8767    40881500.0   16.850000     0.026586       -0.005313    AMD   16.870000  \n",
       "169779   1364000.0   74.724350     0.032392       -0.015033    EMN   78.765999  \n",
       "64371     593100.0  152.579010     0.011608       -0.005786    AVB  160.928000  \n",
       "164488   3691100.0   77.324966     0.011763        0.005172    DUK   81.313998  \n",
       "89009    3854400.0   21.770000     0.020122        0.009272   CDNS   21.548000  \n",
       "258835   3703800.0   40.597454     0.048903        0.037972     IP   44.918001  \n",
       "435355   2867000.0   38.775265     0.026827       -0.014467   TMUS   40.338000  \n",
       "260850    620400.0  110.731972     0.011423       -0.004056    IFF  121.056001  \n",
       "411780   3368400.0  108.099998     0.010261        0.003155    CRM  105.994000  \n",
       "147711    592600.0   77.349998     0.007529        0.000388    DVA   78.076001  "
      ]
     },
     "execution_count": 10,
     "metadata": {},
     "output_type": "execute_result"
    }
   ],
   "source": [
    "# Which stocks have the highest volume or traded daily?\n",
    "stocks.sort_values(by = 'Volume', ascending=True).sample(20)"
   ]
  },
  {
   "cell_type": "code",
   "execution_count": 11,
   "metadata": {},
   "outputs": [
    {
     "data": {
      "text/plain": [
       "ticker\n",
       "BAC     7.998436e+10\n",
       "GE      6.550756e+10\n",
       "AMD     5.947630e+10\n",
       "F       3.855452e+10\n",
       "AAPL    3.329668e+10\n",
       "Name: Volume, dtype: float64"
      ]
     },
     "execution_count": 11,
     "metadata": {},
     "output_type": "execute_result"
    }
   ],
   "source": [
    "stocks_volume=stocks.groupby('ticker')['Volume'].sum().sort_values(ascending=False)\n",
    "stocks_volume.head()"
   ]
  },
  {
   "cell_type": "code",
   "execution_count": 99,
   "metadata": {},
   "outputs": [
    {
     "data": {
      "text/html": [
       "<div>\n",
       "<style scoped>\n",
       "    .dataframe tbody tr th:only-of-type {\n",
       "        vertical-align: middle;\n",
       "    }\n",
       "\n",
       "    .dataframe tbody tr th {\n",
       "        vertical-align: top;\n",
       "    }\n",
       "\n",
       "    .dataframe thead th {\n",
       "        text-align: right;\n",
       "    }\n",
       "</style>\n",
       "<table border=\"1\" class=\"dataframe\">\n",
       "  <thead>\n",
       "    <tr style=\"text-align: right;\">\n",
       "      <th></th>\n",
       "      <th>Date</th>\n",
       "      <th>High</th>\n",
       "      <th>Low</th>\n",
       "      <th>Open</th>\n",
       "      <th>Close</th>\n",
       "      <th>Volume</th>\n",
       "      <th>Adj Close</th>\n",
       "      <th>HL_pct_diff</th>\n",
       "      <th>daily_pct_chng</th>\n",
       "      <th>ticker</th>\n",
       "      <th>SMA_5</th>\n",
       "    </tr>\n",
       "  </thead>\n",
       "  <tbody>\n",
       "    <tr>\n",
       "      <td>68609</td>\n",
       "      <td>2019-01-07</td>\n",
       "      <td>25.780001</td>\n",
       "      <td>25.290001</td>\n",
       "      <td>25.559999</td>\n",
       "      <td>25.559999</td>\n",
       "      <td>57016300.0</td>\n",
       "      <td>25.127874</td>\n",
       "      <td>0.019375</td>\n",
       "      <td>0.000000</td>\n",
       "      <td>BAC</td>\n",
       "      <td>25.316</td>\n",
       "    </tr>\n",
       "    <tr>\n",
       "      <td>68093</td>\n",
       "      <td>2016-12-15</td>\n",
       "      <td>23.389999</td>\n",
       "      <td>22.799999</td>\n",
       "      <td>22.900000</td>\n",
       "      <td>23.160000</td>\n",
       "      <td>162025800.0</td>\n",
       "      <td>22.009644</td>\n",
       "      <td>0.025877</td>\n",
       "      <td>0.011354</td>\n",
       "      <td>BAC</td>\n",
       "      <td>23.198</td>\n",
       "    </tr>\n",
       "    <tr>\n",
       "      <td>68716</td>\n",
       "      <td>2019-06-11</td>\n",
       "      <td>28.700001</td>\n",
       "      <td>28.139999</td>\n",
       "      <td>28.379999</td>\n",
       "      <td>28.240000</td>\n",
       "      <td>38691800.0</td>\n",
       "      <td>28.055090</td>\n",
       "      <td>0.019901</td>\n",
       "      <td>-0.004933</td>\n",
       "      <td>BAC</td>\n",
       "      <td>28.202</td>\n",
       "    </tr>\n",
       "    <tr>\n",
       "      <td>68021</td>\n",
       "      <td>2016-09-02</td>\n",
       "      <td>16.059999</td>\n",
       "      <td>15.820000</td>\n",
       "      <td>15.940000</td>\n",
       "      <td>16.000000</td>\n",
       "      <td>100997300.0</td>\n",
       "      <td>15.149077</td>\n",
       "      <td>0.015171</td>\n",
       "      <td>0.003764</td>\n",
       "      <td>BAC</td>\n",
       "      <td>16.138</td>\n",
       "    </tr>\n",
       "    <tr>\n",
       "      <td>68663</td>\n",
       "      <td>2019-03-26</td>\n",
       "      <td>27.350000</td>\n",
       "      <td>26.879999</td>\n",
       "      <td>27.150000</td>\n",
       "      <td>27.209999</td>\n",
       "      <td>59878500.0</td>\n",
       "      <td>26.886553</td>\n",
       "      <td>0.017485</td>\n",
       "      <td>0.002210</td>\n",
       "      <td>BAC</td>\n",
       "      <td>28.212</td>\n",
       "    </tr>\n",
       "  </tbody>\n",
       "</table>\n",
       "</div>"
      ],
      "text/plain": [
       "             Date       High        Low       Open      Close       Volume  \\\n",
       "68609  2019-01-07  25.780001  25.290001  25.559999  25.559999   57016300.0   \n",
       "68093  2016-12-15  23.389999  22.799999  22.900000  23.160000  162025800.0   \n",
       "68716  2019-06-11  28.700001  28.139999  28.379999  28.240000   38691800.0   \n",
       "68021  2016-09-02  16.059999  15.820000  15.940000  16.000000  100997300.0   \n",
       "68663  2019-03-26  27.350000  26.879999  27.150000  27.209999   59878500.0   \n",
       "\n",
       "       Adj Close  HL_pct_diff  daily_pct_chng ticker   SMA_5  \n",
       "68609  25.127874     0.019375        0.000000    BAC  25.316  \n",
       "68093  22.009644     0.025877        0.011354    BAC  23.198  \n",
       "68716  28.055090     0.019901       -0.004933    BAC  28.202  \n",
       "68021  15.149077     0.015171        0.003764    BAC  16.138  \n",
       "68663  26.886553     0.017485        0.002210    BAC  28.212  "
      ]
     },
     "execution_count": 99,
     "metadata": {},
     "output_type": "execute_result"
    }
   ],
   "source": [
    "apple = stocks.loc[stocks['ticker'].isin(['BAC'])]\n",
    "apple.sample(5)"
   ]
  },
  {
   "cell_type": "code",
   "execution_count": 100,
   "metadata": {},
   "outputs": [
    {
     "data": {
      "text/plain": [
       "Date              0\n",
       "High              0\n",
       "Low               0\n",
       "Open              0\n",
       "Close             0\n",
       "Volume            0\n",
       "Adj Close         0\n",
       "HL_pct_diff       0\n",
       "daily_pct_chng    0\n",
       "ticker            0\n",
       "SMA_5             0\n",
       "dtype: int64"
      ]
     },
     "execution_count": 100,
     "metadata": {},
     "output_type": "execute_result"
    }
   ],
   "source": [
    "# any missing data\n",
    "apple.isnull().sum()"
   ]
  },
  {
   "cell_type": "code",
   "execution_count": 101,
   "metadata": {},
   "outputs": [
    {
     "data": {
      "text/plain": [
       "(1008, 11)"
      ]
     },
     "execution_count": 101,
     "metadata": {},
     "output_type": "execute_result"
    }
   ],
   "source": [
    "# size\n",
    "apple.shape"
   ]
  },
  {
   "cell_type": "code",
   "execution_count": 102,
   "metadata": {},
   "outputs": [
    {
     "data": {
      "text/html": [
       "<div>\n",
       "<style scoped>\n",
       "    .dataframe tbody tr th:only-of-type {\n",
       "        vertical-align: middle;\n",
       "    }\n",
       "\n",
       "    .dataframe tbody tr th {\n",
       "        vertical-align: top;\n",
       "    }\n",
       "\n",
       "    .dataframe thead th {\n",
       "        text-align: right;\n",
       "    }\n",
       "</style>\n",
       "<table border=\"1\" class=\"dataframe\">\n",
       "  <thead>\n",
       "    <tr style=\"text-align: right;\">\n",
       "      <th></th>\n",
       "      <th>Date</th>\n",
       "      <th>High</th>\n",
       "      <th>Low</th>\n",
       "      <th>Open</th>\n",
       "      <th>Close</th>\n",
       "      <th>Volume</th>\n",
       "      <th>Adj Close</th>\n",
       "      <th>HL_pct_diff</th>\n",
       "      <th>daily_pct_chng</th>\n",
       "      <th>ticker</th>\n",
       "      <th>SMA_5</th>\n",
       "    </tr>\n",
       "  </thead>\n",
       "  <tbody>\n",
       "    <tr>\n",
       "      <td>67788</td>\n",
       "      <td>2015-10-01</td>\n",
       "      <td>15.64</td>\n",
       "      <td>15.36</td>\n",
       "      <td>15.52</td>\n",
       "      <td>15.55</td>\n",
       "      <td>71516800.0</td>\n",
       "      <td>14.509049</td>\n",
       "      <td>0.018229</td>\n",
       "      <td>0.001933</td>\n",
       "      <td>BAC</td>\n",
       "      <td>61.718001</td>\n",
       "    </tr>\n",
       "    <tr>\n",
       "      <td>67789</td>\n",
       "      <td>2015-10-02</td>\n",
       "      <td>15.38</td>\n",
       "      <td>14.63</td>\n",
       "      <td>15.08</td>\n",
       "      <td>15.38</td>\n",
       "      <td>181838400.0</td>\n",
       "      <td>14.350430</td>\n",
       "      <td>0.051265</td>\n",
       "      <td>0.019894</td>\n",
       "      <td>BAC</td>\n",
       "      <td>49.818002</td>\n",
       "    </tr>\n",
       "    <tr>\n",
       "      <td>67790</td>\n",
       "      <td>2015-10-05</td>\n",
       "      <td>15.79</td>\n",
       "      <td>15.44</td>\n",
       "      <td>15.45</td>\n",
       "      <td>15.69</td>\n",
       "      <td>75315300.0</td>\n",
       "      <td>14.639676</td>\n",
       "      <td>0.022668</td>\n",
       "      <td>0.015534</td>\n",
       "      <td>BAC</td>\n",
       "      <td>38.352001</td>\n",
       "    </tr>\n",
       "    <tr>\n",
       "      <td>67791</td>\n",
       "      <td>2015-10-06</td>\n",
       "      <td>15.82</td>\n",
       "      <td>15.57</td>\n",
       "      <td>15.68</td>\n",
       "      <td>15.69</td>\n",
       "      <td>67473700.0</td>\n",
       "      <td>14.639676</td>\n",
       "      <td>0.016057</td>\n",
       "      <td>0.000638</td>\n",
       "      <td>BAC</td>\n",
       "      <td>26.884000</td>\n",
       "    </tr>\n",
       "    <tr>\n",
       "      <td>67792</td>\n",
       "      <td>2015-10-07</td>\n",
       "      <td>15.93</td>\n",
       "      <td>15.57</td>\n",
       "      <td>15.78</td>\n",
       "      <td>15.75</td>\n",
       "      <td>66655600.0</td>\n",
       "      <td>14.695662</td>\n",
       "      <td>0.023121</td>\n",
       "      <td>-0.001901</td>\n",
       "      <td>BAC</td>\n",
       "      <td>15.712000</td>\n",
       "    </tr>\n",
       "  </tbody>\n",
       "</table>\n",
       "</div>"
      ],
      "text/plain": [
       "             Date   High    Low   Open  Close       Volume  Adj Close  \\\n",
       "67788  2015-10-01  15.64  15.36  15.52  15.55   71516800.0  14.509049   \n",
       "67789  2015-10-02  15.38  14.63  15.08  15.38  181838400.0  14.350430   \n",
       "67790  2015-10-05  15.79  15.44  15.45  15.69   75315300.0  14.639676   \n",
       "67791  2015-10-06  15.82  15.57  15.68  15.69   67473700.0  14.639676   \n",
       "67792  2015-10-07  15.93  15.57  15.78  15.75   66655600.0  14.695662   \n",
       "\n",
       "       HL_pct_diff  daily_pct_chng ticker      SMA_5  \n",
       "67788     0.018229        0.001933    BAC  61.718001  \n",
       "67789     0.051265        0.019894    BAC  49.818002  \n",
       "67790     0.022668        0.015534    BAC  38.352001  \n",
       "67791     0.016057        0.000638    BAC  26.884000  \n",
       "67792     0.023121       -0.001901    BAC  15.712000  "
      ]
     },
     "execution_count": 102,
     "metadata": {},
     "output_type": "execute_result"
    }
   ],
   "source": [
    "apple.head()"
   ]
  },
  {
   "cell_type": "code",
   "execution_count": 103,
   "metadata": {},
   "outputs": [
    {
     "data": {
      "text/plain": [
       "count    1008.000000\n",
       "mean       23.876657\n",
       "std         6.157061\n",
       "min        11.160000\n",
       "25%        17.252501\n",
       "50%        25.040000\n",
       "75%        29.200001\n",
       "max        32.840000\n",
       "Name: Close, dtype: float64"
      ]
     },
     "execution_count": 103,
     "metadata": {},
     "output_type": "execute_result"
    }
   ],
   "source": [
    "# establish target variable: High\n",
    "apple['Close'].describe()"
   ]
  },
  {
   "cell_type": "code",
   "execution_count": 104,
   "metadata": {},
   "outputs": [],
   "source": [
    "apple_stock = apple[['Low', 'High','Open','SMA_5', 'Volume', 'daily_pct_chng',]]"
   ]
  },
  {
   "cell_type": "code",
   "execution_count": 105,
   "metadata": {},
   "outputs": [
    {
     "data": {
      "text/html": [
       "<div>\n",
       "<style scoped>\n",
       "    .dataframe tbody tr th:only-of-type {\n",
       "        vertical-align: middle;\n",
       "    }\n",
       "\n",
       "    .dataframe tbody tr th {\n",
       "        vertical-align: top;\n",
       "    }\n",
       "\n",
       "    .dataframe thead th {\n",
       "        text-align: right;\n",
       "    }\n",
       "</style>\n",
       "<table border=\"1\" class=\"dataframe\">\n",
       "  <thead>\n",
       "    <tr style=\"text-align: right;\">\n",
       "      <th></th>\n",
       "      <th>Low</th>\n",
       "      <th>High</th>\n",
       "      <th>Open</th>\n",
       "      <th>SMA_5</th>\n",
       "      <th>Volume</th>\n",
       "      <th>daily_pct_chng</th>\n",
       "    </tr>\n",
       "  </thead>\n",
       "  <tbody>\n",
       "    <tr>\n",
       "      <td>68767</td>\n",
       "      <td>26.959999</td>\n",
       "      <td>27.299999</td>\n",
       "      <td>27.09</td>\n",
       "      <td>27.252000</td>\n",
       "      <td>49353700.0</td>\n",
       "      <td>0.003691</td>\n",
       "    </tr>\n",
       "    <tr>\n",
       "      <td>67859</td>\n",
       "      <td>14.850000</td>\n",
       "      <td>15.520000</td>\n",
       "      <td>15.47</td>\n",
       "      <td>15.662000</td>\n",
       "      <td>119413000.0</td>\n",
       "      <td>-0.036846</td>\n",
       "    </tr>\n",
       "    <tr>\n",
       "      <td>68077</td>\n",
       "      <td>20.120001</td>\n",
       "      <td>20.469999</td>\n",
       "      <td>20.33</td>\n",
       "      <td>20.227999</td>\n",
       "      <td>104771800.0</td>\n",
       "      <td>-0.001476</td>\n",
       "    </tr>\n",
       "    <tr>\n",
       "      <td>68291</td>\n",
       "      <td>25.309999</td>\n",
       "      <td>25.480000</td>\n",
       "      <td>25.41</td>\n",
       "      <td>25.359999</td>\n",
       "      <td>66232600.0</td>\n",
       "      <td>-0.002755</td>\n",
       "    </tr>\n",
       "    <tr>\n",
       "      <td>67917</td>\n",
       "      <td>12.750000</td>\n",
       "      <td>13.210000</td>\n",
       "      <td>13.15</td>\n",
       "      <td>13.430000</td>\n",
       "      <td>105704500.0</td>\n",
       "      <td>-0.022814</td>\n",
       "    </tr>\n",
       "  </tbody>\n",
       "</table>\n",
       "</div>"
      ],
      "text/plain": [
       "             Low       High   Open      SMA_5       Volume  daily_pct_chng\n",
       "68767  26.959999  27.299999  27.09  27.252000   49353700.0        0.003691\n",
       "67859  14.850000  15.520000  15.47  15.662000  119413000.0       -0.036846\n",
       "68077  20.120001  20.469999  20.33  20.227999  104771800.0       -0.001476\n",
       "68291  25.309999  25.480000  25.41  25.359999   66232600.0       -0.002755\n",
       "67917  12.750000  13.210000  13.15  13.430000  105704500.0       -0.022814"
      ]
     },
     "execution_count": 105,
     "metadata": {},
     "output_type": "execute_result"
    }
   ],
   "source": [
    "apple_stock.sample(5)"
   ]
  },
  {
   "cell_type": "code",
   "execution_count": 19,
   "metadata": {},
   "outputs": [],
   "source": [
    "#apple_stock['ticker'] = apple['ticker']"
   ]
  },
  {
   "cell_type": "code",
   "execution_count": 106,
   "metadata": {},
   "outputs": [
    {
     "data": {
      "text/html": [
       "<div>\n",
       "<style scoped>\n",
       "    .dataframe tbody tr th:only-of-type {\n",
       "        vertical-align: middle;\n",
       "    }\n",
       "\n",
       "    .dataframe tbody tr th {\n",
       "        vertical-align: top;\n",
       "    }\n",
       "\n",
       "    .dataframe thead th {\n",
       "        text-align: right;\n",
       "    }\n",
       "</style>\n",
       "<table border=\"1\" class=\"dataframe\">\n",
       "  <thead>\n",
       "    <tr style=\"text-align: right;\">\n",
       "      <th></th>\n",
       "      <th>Low</th>\n",
       "      <th>High</th>\n",
       "      <th>Open</th>\n",
       "      <th>SMA_5</th>\n",
       "      <th>Volume</th>\n",
       "      <th>daily_pct_chng</th>\n",
       "    </tr>\n",
       "  </thead>\n",
       "  <tbody>\n",
       "    <tr>\n",
       "      <td>67788</td>\n",
       "      <td>15.36</td>\n",
       "      <td>15.64</td>\n",
       "      <td>15.52</td>\n",
       "      <td>61.718001</td>\n",
       "      <td>71516800.0</td>\n",
       "      <td>0.001933</td>\n",
       "    </tr>\n",
       "    <tr>\n",
       "      <td>67789</td>\n",
       "      <td>14.63</td>\n",
       "      <td>15.38</td>\n",
       "      <td>15.08</td>\n",
       "      <td>49.818002</td>\n",
       "      <td>181838400.0</td>\n",
       "      <td>0.019894</td>\n",
       "    </tr>\n",
       "    <tr>\n",
       "      <td>67790</td>\n",
       "      <td>15.44</td>\n",
       "      <td>15.79</td>\n",
       "      <td>15.45</td>\n",
       "      <td>38.352001</td>\n",
       "      <td>75315300.0</td>\n",
       "      <td>0.015534</td>\n",
       "    </tr>\n",
       "    <tr>\n",
       "      <td>67791</td>\n",
       "      <td>15.57</td>\n",
       "      <td>15.82</td>\n",
       "      <td>15.68</td>\n",
       "      <td>26.884000</td>\n",
       "      <td>67473700.0</td>\n",
       "      <td>0.000638</td>\n",
       "    </tr>\n",
       "    <tr>\n",
       "      <td>67792</td>\n",
       "      <td>15.57</td>\n",
       "      <td>15.93</td>\n",
       "      <td>15.78</td>\n",
       "      <td>15.712000</td>\n",
       "      <td>66655600.0</td>\n",
       "      <td>-0.001901</td>\n",
       "    </tr>\n",
       "  </tbody>\n",
       "</table>\n",
       "</div>"
      ],
      "text/plain": [
       "         Low   High   Open      SMA_5       Volume  daily_pct_chng\n",
       "67788  15.36  15.64  15.52  61.718001   71516800.0        0.001933\n",
       "67789  14.63  15.38  15.08  49.818002  181838400.0        0.019894\n",
       "67790  15.44  15.79  15.45  38.352001   75315300.0        0.015534\n",
       "67791  15.57  15.82  15.68  26.884000   67473700.0        0.000638\n",
       "67792  15.57  15.93  15.78  15.712000   66655600.0       -0.001901"
      ]
     },
     "execution_count": 106,
     "metadata": {},
     "output_type": "execute_result"
    }
   ],
   "source": [
    "apple_stock.head()"
   ]
  },
  {
   "cell_type": "code",
   "execution_count": 21,
   "metadata": {},
   "outputs": [],
   "source": [
    "#apple.to_csv('BAC.csv')"
   ]
  },
  {
   "cell_type": "code",
   "execution_count": 107,
   "metadata": {},
   "outputs": [],
   "source": [
    "# standardize variables\n",
    "from sklearn.preprocessing import StandardScaler\n",
    "std_scaler =StandardScaler()"
   ]
  },
  {
   "cell_type": "code",
   "execution_count": 108,
   "metadata": {},
   "outputs": [
    {
     "data": {
      "text/plain": [
       "StandardScaler(copy=True, with_mean=True, with_std=True)"
      ]
     },
     "execution_count": 108,
     "metadata": {},
     "output_type": "execute_result"
    }
   ],
   "source": [
    "#std_scaler.fit(stock_high)\n",
    "std_scaler.fit(apple_stock)"
   ]
  },
  {
   "cell_type": "code",
   "execution_count": 109,
   "metadata": {},
   "outputs": [],
   "source": [
    "scaled_stock =std_scaler.transform(apple_stock)"
   ]
  },
  {
   "cell_type": "code",
   "execution_count": 110,
   "metadata": {},
   "outputs": [],
   "source": [
    "import pickle\n",
    "filename = open('BAC_fitted_scaler.pkl', 'wb')\n",
    "pickle.dump(scaled_stock, filename)\n",
    "filename.close()"
   ]
  },
  {
   "cell_type": "code",
   "execution_count": 95,
   "metadata": {},
   "outputs": [
    {
     "data": {
      "text/html": [
       "<div>\n",
       "<style scoped>\n",
       "    .dataframe tbody tr th:only-of-type {\n",
       "        vertical-align: middle;\n",
       "    }\n",
       "\n",
       "    .dataframe tbody tr th {\n",
       "        vertical-align: top;\n",
       "    }\n",
       "\n",
       "    .dataframe thead th {\n",
       "        text-align: right;\n",
       "    }\n",
       "</style>\n",
       "<table border=\"1\" class=\"dataframe\">\n",
       "  <thead>\n",
       "    <tr style=\"text-align: right;\">\n",
       "      <th></th>\n",
       "      <th>Low</th>\n",
       "      <th>High</th>\n",
       "      <th>Open</th>\n",
       "      <th>SMA_5</th>\n",
       "      <th>Volume</th>\n",
       "      <th>daily_pct_chng</th>\n",
       "    </tr>\n",
       "  </thead>\n",
       "  <tbody>\n",
       "    <tr>\n",
       "      <td>0</td>\n",
       "      <td>0.446300</td>\n",
       "      <td>0.460194</td>\n",
       "      <td>0.465262</td>\n",
       "      <td>12.784521</td>\n",
       "      <td>-0.469484</td>\n",
       "      <td>0.140191</td>\n",
       "    </tr>\n",
       "    <tr>\n",
       "      <td>1</td>\n",
       "      <td>0.450818</td>\n",
       "      <td>0.480470</td>\n",
       "      <td>0.433639</td>\n",
       "      <td>9.613112</td>\n",
       "      <td>-0.408591</td>\n",
       "      <td>1.560255</td>\n",
       "    </tr>\n",
       "    <tr>\n",
       "      <td>2</td>\n",
       "      <td>0.607799</td>\n",
       "      <td>0.673101</td>\n",
       "      <td>0.603051</td>\n",
       "      <td>6.524011</td>\n",
       "      <td>0.885470</td>\n",
       "      <td>1.115322</td>\n",
       "    </tr>\n",
       "    <tr>\n",
       "      <td>3</td>\n",
       "      <td>0.691372</td>\n",
       "      <td>0.696758</td>\n",
       "      <td>0.673075</td>\n",
       "      <td>3.434556</td>\n",
       "      <td>0.194297</td>\n",
       "      <td>0.740403</td>\n",
       "    </tr>\n",
       "    <tr>\n",
       "      <td>4</td>\n",
       "      <td>0.732030</td>\n",
       "      <td>0.737311</td>\n",
       "      <td>0.730675</td>\n",
       "      <td>0.474516</td>\n",
       "      <td>0.065641</td>\n",
       "      <td>0.658667</td>\n",
       "    </tr>\n",
       "  </tbody>\n",
       "</table>\n",
       "</div>"
      ],
      "text/plain": [
       "        Low      High      Open      SMA_5    Volume  daily_pct_chng\n",
       "0  0.446300  0.460194  0.465262  12.784521 -0.469484        0.140191\n",
       "1  0.450818  0.480470  0.433639   9.613112 -0.408591        1.560255\n",
       "2  0.607799  0.673101  0.603051   6.524011  0.885470        1.115322\n",
       "3  0.691372  0.696758  0.673075   3.434556  0.194297        0.740403\n",
       "4  0.732030  0.737311  0.730675   0.474516  0.065641        0.658667"
      ]
     },
     "execution_count": 95,
     "metadata": {},
     "output_type": "execute_result"
    }
   ],
   "source": [
    "#scaled_df=pd.DataFrame(scaled_stock, columns = stock_high.columns)\n",
    "scaled_df=pd.DataFrame(scaled_stock, columns = apple_stock.columns)\n",
    "scaled_df.head()"
   ]
  },
  {
   "cell_type": "code",
   "execution_count": 96,
   "metadata": {},
   "outputs": [
    {
     "data": {
      "text/plain": [
       "Low               3.720569e-16\n",
       "High              2.806397e-16\n",
       "Open             -3.639064e-16\n",
       "SMA_5            -6.674555e-16\n",
       "Volume            1.789243e-16\n",
       "daily_pct_chng   -1.044689e-16\n",
       "dtype: float64"
      ]
     },
     "execution_count": 96,
     "metadata": {},
     "output_type": "execute_result"
    }
   ],
   "source": [
    "scaled_df.mean() "
   ]
  },
  {
   "cell_type": "code",
   "execution_count": 97,
   "metadata": {},
   "outputs": [
    {
     "data": {
      "text/plain": [
       "Low               1.000496\n",
       "High              1.000496\n",
       "Open              1.000496\n",
       "SMA_5             1.000496\n",
       "Volume            1.000496\n",
       "daily_pct_chng    1.000496\n",
       "dtype: float64"
      ]
     },
     "execution_count": 97,
     "metadata": {},
     "output_type": "execute_result"
    }
   ],
   "source": [
    "scaled_df.std()"
   ]
  },
  {
   "cell_type": "code",
   "execution_count": 98,
   "metadata": {},
   "outputs": [
    {
     "data": {
      "text/plain": [
       "<bound method NDFrame.head of 216287    24.221153\n",
       "216288    24.490385\n",
       "216289    25.788462\n",
       "216290    26.240385\n",
       "216291    26.701923\n",
       "            ...    \n",
       "217290     9.020000\n",
       "217291     9.040000\n",
       "217292     8.940000\n",
       "217293     8.610000\n",
       "217294     8.510000\n",
       "Name: Close, Length: 1008, dtype: float64>"
      ]
     },
     "execution_count": 98,
     "metadata": {},
     "output_type": "execute_result"
    }
   ],
   "source": [
    "# target variable\n",
    "#y = top_5['Close']\n",
    "y = apple['Close']\n",
    "y.shape\n",
    "y.head"
   ]
  },
  {
   "cell_type": "code",
   "execution_count": 79,
   "metadata": {},
   "outputs": [
    {
     "data": {
      "text/html": [
       "<div>\n",
       "<style scoped>\n",
       "    .dataframe tbody tr th:only-of-type {\n",
       "        vertical-align: middle;\n",
       "    }\n",
       "\n",
       "    .dataframe tbody tr th {\n",
       "        vertical-align: top;\n",
       "    }\n",
       "\n",
       "    .dataframe thead th {\n",
       "        text-align: right;\n",
       "    }\n",
       "</style>\n",
       "<table border=\"1\" class=\"dataframe\">\n",
       "  <thead>\n",
       "    <tr style=\"text-align: right;\">\n",
       "      <th></th>\n",
       "      <th>Low</th>\n",
       "      <th>High</th>\n",
       "      <th>Open</th>\n",
       "      <th>SMA_5</th>\n",
       "      <th>Volume</th>\n",
       "      <th>daily_pct_chng</th>\n",
       "    </tr>\n",
       "  </thead>\n",
       "  <tbody>\n",
       "    <tr>\n",
       "      <td>559</td>\n",
       "      <td>-0.324019</td>\n",
       "      <td>-0.344621</td>\n",
       "      <td>-0.338152</td>\n",
       "      <td>-0.336996</td>\n",
       "      <td>-0.354915</td>\n",
       "      <td>-0.175391</td>\n",
       "    </tr>\n",
       "    <tr>\n",
       "      <td>456</td>\n",
       "      <td>0.017410</td>\n",
       "      <td>-0.003733</td>\n",
       "      <td>0.027410</td>\n",
       "      <td>-0.059805</td>\n",
       "      <td>0.914571</td>\n",
       "      <td>-0.419840</td>\n",
       "    </tr>\n",
       "    <tr>\n",
       "      <td>612</td>\n",
       "      <td>-0.225005</td>\n",
       "      <td>-0.192147</td>\n",
       "      <td>-0.182594</td>\n",
       "      <td>-0.201797</td>\n",
       "      <td>0.398381</td>\n",
       "      <td>-1.090300</td>\n",
       "    </tr>\n",
       "    <tr>\n",
       "      <td>709</td>\n",
       "      <td>0.354287</td>\n",
       "      <td>0.446066</td>\n",
       "      <td>0.346305</td>\n",
       "      <td>0.174267</td>\n",
       "      <td>3.130862</td>\n",
       "      <td>2.068251</td>\n",
       "    </tr>\n",
       "    <tr>\n",
       "      <td>463</td>\n",
       "      <td>-0.072500</td>\n",
       "      <td>-0.090861</td>\n",
       "      <td>-0.069258</td>\n",
       "      <td>-0.072599</td>\n",
       "      <td>-0.151015</td>\n",
       "      <td>-0.444635</td>\n",
       "    </tr>\n",
       "    <tr>\n",
       "      <td>880</td>\n",
       "      <td>1.408166</td>\n",
       "      <td>1.355464</td>\n",
       "      <td>1.385214</td>\n",
       "      <td>0.889278</td>\n",
       "      <td>-0.132243</td>\n",
       "      <td>0.237511</td>\n",
       "    </tr>\n",
       "    <tr>\n",
       "      <td>750</td>\n",
       "      <td>1.956729</td>\n",
       "      <td>1.992588</td>\n",
       "      <td>1.898557</td>\n",
       "      <td>1.393750</td>\n",
       "      <td>1.389744</td>\n",
       "      <td>1.406183</td>\n",
       "    </tr>\n",
       "    <tr>\n",
       "      <td>897</td>\n",
       "      <td>1.517423</td>\n",
       "      <td>1.475265</td>\n",
       "      <td>1.512994</td>\n",
       "      <td>1.075652</td>\n",
       "      <td>-0.238378</td>\n",
       "      <td>0.204127</td>\n",
       "    </tr>\n",
       "    <tr>\n",
       "      <td>25</td>\n",
       "      <td>-1.314165</td>\n",
       "      <td>-1.319366</td>\n",
       "      <td>-1.314838</td>\n",
       "      <td>-0.995937</td>\n",
       "      <td>-1.281376</td>\n",
       "      <td>-0.174766</td>\n",
       "    </tr>\n",
       "    <tr>\n",
       "      <td>452</td>\n",
       "      <td>-0.034942</td>\n",
       "      <td>-0.066901</td>\n",
       "      <td>-0.047036</td>\n",
       "      <td>-0.069756</td>\n",
       "      <td>-0.165061</td>\n",
       "      <td>-0.193427</td>\n",
       "    </tr>\n",
       "  </tbody>\n",
       "</table>\n",
       "</div>"
      ],
      "text/plain": [
       "          Low      High      Open     SMA_5    Volume  daily_pct_chng\n",
       "559 -0.324019 -0.344621 -0.338152 -0.336996 -0.354915       -0.175391\n",
       "456  0.017410 -0.003733  0.027410 -0.059805  0.914571       -0.419840\n",
       "612 -0.225005 -0.192147 -0.182594 -0.201797  0.398381       -1.090300\n",
       "709  0.354287  0.446066  0.346305  0.174267  3.130862        2.068251\n",
       "463 -0.072500 -0.090861 -0.069258 -0.072599 -0.151015       -0.444635\n",
       "880  1.408166  1.355464  1.385214  0.889278 -0.132243        0.237511\n",
       "750  1.956729  1.992588  1.898557  1.393750  1.389744        1.406183\n",
       "897  1.517423  1.475265  1.512994  1.075652 -0.238378        0.204127\n",
       "25  -1.314165 -1.319366 -1.314838 -0.995937 -1.281376       -0.174766\n",
       "452 -0.034942 -0.066901 -0.047036 -0.069756 -0.165061       -0.193427"
      ]
     },
     "execution_count": 79,
     "metadata": {},
     "output_type": "execute_result"
    }
   ],
   "source": [
    "X= apple.drop('Close', axis=1)\n",
    "X = scaled_df.copy()\n",
    "X.shape\n",
    "X.sample(10)"
   ]
  },
  {
   "cell_type": "code",
   "execution_count": 80,
   "metadata": {},
   "outputs": [],
   "source": [
    "# train, test, split\n",
    "X_train, X_test, y_train, y_test = train_test_split(X,y, test_size=.15, random_state=42)"
   ]
  },
  {
   "cell_type": "code",
   "execution_count": 81,
   "metadata": {},
   "outputs": [
    {
     "data": {
      "text/plain": [
       "LinearRegression(copy_X=True, fit_intercept=True, n_jobs=None, normalize=False)"
      ]
     },
     "execution_count": 81,
     "metadata": {},
     "output_type": "execute_result"
    }
   ],
   "source": [
    "# instantiate\n",
    "mystock= LinearRegression()\n",
    "#linreg=LinearRegression()\n",
    "mystock.fit(X,y)"
   ]
  },
  {
   "cell_type": "code",
   "execution_count": 82,
   "metadata": {},
   "outputs": [],
   "source": [
    "# pickle final model\n",
    "filename = open('AMD_final_model.pkl', 'wb')\n",
    "pickle.dump(mystock, filename)\n",
    "filename.close()"
   ]
  },
  {
   "cell_type": "code",
   "execution_count": 37,
   "metadata": {},
   "outputs": [],
   "source": [
    "# fit model  to training dataset\n",
    "mystock.fit(X_train, y_train)  # normalize = False, data is expected to be already centered\n",
    "y_pred = mystock.predict(X_test)"
   ]
  },
  {
   "cell_type": "code",
   "execution_count": 38,
   "metadata": {},
   "outputs": [
    {
     "data": {
      "text/plain": [
       "array([ 9.83204452, 11.31781841, 11.98084534, 12.10922819, 12.63643157,\n",
       "       11.06789307, 11.20839524, 12.33950712, 12.84136739, 12.85016466,\n",
       "        9.12161772, 11.66473847,  8.76361948, 11.27521671, 12.17231523,\n",
       "       10.62574024, 10.55816961,  8.73621649, 12.54196136, 12.4774482 ,\n",
       "        9.51318554, 10.61682006, 12.19615035, 12.41789645, 10.43326538,\n",
       "       11.91902962, 11.64165602, 11.87076934, 11.1390283 ,  9.20583895,\n",
       "       10.05570404,  8.62260878, 12.10424079, 12.0153048 ,  9.45633116,\n",
       "       12.01978739, 10.4588772 , 12.49128621, 12.00094537, 13.16498292,\n",
       "       11.71672326, 12.35681044, 12.77437946, 10.25248925, 12.23980066,\n",
       "       11.97417922, 11.27532846,  9.59676293,  8.80890189,  8.80067785,\n",
       "       11.09968248, 10.02781202, 14.31814494, 10.82637694, 12.66596472,\n",
       "        9.56784756, 11.27313832, 14.06492558, 14.805679  , 14.08262527,\n",
       "        9.51341536, 11.24235383, 15.19674286, 10.19062321,  8.24090343,\n",
       "       10.93525995, 11.33799182, 13.62335866, 11.93579072,  8.97988226,\n",
       "       13.6025731 , 12.32771912, 11.34397727, 13.11604514,  9.42817721,\n",
       "       12.0566518 , 11.70599119,  9.97817174, 14.56149718, 12.51807804,\n",
       "        9.83230196, 12.58180426, 13.1851092 , 11.35438781, 12.73229797,\n",
       "       10.07973772,  9.68613691,  8.71168737, 12.27301138, 11.15040484,\n",
       "       10.74890818,  7.56556203,  8.4606919 , 11.07170728,  9.15653737,\n",
       "       12.40175271, 12.56089186, 12.40761246, 11.57375223, 14.10091659,\n",
       "        8.28522706, 13.14172472, 12.30108543, 10.89193276, 12.64528775,\n",
       "       11.90648397,  9.26795566,  9.30556096,  9.48468566, 10.20652518,\n",
       "        8.79841538,  8.52886983, 11.05381731,  9.41979098, 12.65871052,\n",
       "       11.52520035,  9.25663182, 12.20612002, 12.43227636, 11.9917916 ,\n",
       "       13.20828442,  8.52158135, 10.92411071, 10.40902835, 11.88879724,\n",
       "       11.49859254, 13.19842613,  8.62272906, 11.48106074, 13.67957215,\n",
       "        9.39957727, 11.53028372,  8.90894163, 11.19792277,  9.11955546,\n",
       "       12.0668369 , 13.81310855, 13.04116605, 12.3686528 , 14.5976352 ,\n",
       "       12.16251897, 14.05105783, 11.98720665, 11.60045217, 10.22881653,\n",
       "       10.29614221,  9.58177726, 13.5838021 ,  7.81677394, 12.69326296,\n",
       "       12.57713953,  8.60244041])"
      ]
     },
     "execution_count": 38,
     "metadata": {},
     "output_type": "execute_result"
    }
   ],
   "source": [
    "# predict the y_values on testing dataset\n",
    "y_pred = mystock.predict(X_test)\n",
    "y_pred"
   ]
  },
  {
   "cell_type": "code",
   "execution_count": 39,
   "metadata": {},
   "outputs": [
    {
     "data": {
      "text/plain": [
       "[9.83, 11.32, 11.98, 12.11, 12.64]"
      ]
     },
     "execution_count": 39,
     "metadata": {},
     "output_type": "execute_result"
    }
   ],
   "source": [
    "#looking at prediction and comparing to true values\n",
    "[round(x,2)for x in y_pred[:5]]"
   ]
  },
  {
   "cell_type": "code",
   "execution_count": 40,
   "metadata": {},
   "outputs": [
    {
     "data": {
      "text/plain": [
       "[9.84000015258789,\n",
       " 11.329999923706055,\n",
       " 11.989999771118164,\n",
       " 12.119999885559082,\n",
       " 12.649999618530273]"
      ]
     },
     "execution_count": 40,
     "metadata": {},
     "output_type": "execute_result"
    }
   ],
   "source": [
    "list(y_test[:5])"
   ]
  },
  {
   "cell_type": "code",
   "execution_count": 41,
   "metadata": {},
   "outputs": [
    {
     "name": "stdout",
     "output_type": "stream",
     "text": [
      "on average my model errs by 0.021590641982884812\n"
     ]
    }
   ],
   "source": [
    "# root mean Sq error\n",
    "rmse = sqrt(metrics.mean_squared_error(y_test, y_pred))\n",
    "print ('on average my model errs by', rmse)"
   ]
  },
  {
   "cell_type": "code",
   "execution_count": 42,
   "metadata": {},
   "outputs": [
    {
     "data": {
      "text/plain": [
       "11.375163561829897"
      ]
     },
     "execution_count": 42,
     "metadata": {},
     "output_type": "execute_result"
    }
   ],
   "source": [
    "avg_val= y_train.mean()\n",
    "avg_val"
   ]
  },
  {
   "cell_type": "code",
   "execution_count": 43,
   "metadata": {},
   "outputs": [
    {
     "name": "stdout",
     "output_type": "stream",
     "text": [
      "Close -2\n"
     ]
    }
   ],
   "source": [
    "comparison_array=np.full((len(y_test), ), avg_val)\n",
    "coin_flip = sqrt(metrics.mean_squared_error(y_test, comparison_array))\n",
    "print ('Close', round(rmse-coin_flip))"
   ]
  },
  {
   "cell_type": "code",
   "execution_count": 44,
   "metadata": {},
   "outputs": [
    {
     "data": {
      "text/plain": [
       "0.9998296646974142"
      ]
     },
     "execution_count": 44,
     "metadata": {},
     "output_type": "execute_result"
    }
   ],
   "source": [
    "r2=metrics.r2_score(y_test, y_pred)\n",
    "r2"
   ]
  },
  {
   "cell_type": "code",
   "execution_count": 45,
   "metadata": {},
   "outputs": [
    {
     "data": {
      "text/plain": [
       "array([11.37516356, 11.37516356, 11.37516356, 11.37516356, 11.37516356,\n",
       "       11.37516356, 11.37516356, 11.37516356, 11.37516356, 11.37516356,\n",
       "       11.37516356, 11.37516356, 11.37516356, 11.37516356, 11.37516356,\n",
       "       11.37516356, 11.37516356, 11.37516356, 11.37516356, 11.37516356,\n",
       "       11.37516356, 11.37516356, 11.37516356, 11.37516356, 11.37516356,\n",
       "       11.37516356, 11.37516356, 11.37516356, 11.37516356, 11.37516356,\n",
       "       11.37516356, 11.37516356, 11.37516356, 11.37516356, 11.37516356,\n",
       "       11.37516356, 11.37516356, 11.37516356, 11.37516356, 11.37516356,\n",
       "       11.37516356, 11.37516356, 11.37516356, 11.37516356, 11.37516356,\n",
       "       11.37516356, 11.37516356, 11.37516356, 11.37516356, 11.37516356,\n",
       "       11.37516356, 11.37516356, 11.37516356, 11.37516356, 11.37516356,\n",
       "       11.37516356, 11.37516356, 11.37516356, 11.37516356, 11.37516356,\n",
       "       11.37516356, 11.37516356, 11.37516356, 11.37516356, 11.37516356,\n",
       "       11.37516356, 11.37516356, 11.37516356, 11.37516356, 11.37516356,\n",
       "       11.37516356, 11.37516356, 11.37516356, 11.37516356, 11.37516356,\n",
       "       11.37516356, 11.37516356, 11.37516356, 11.37516356, 11.37516356,\n",
       "       11.37516356, 11.37516356, 11.37516356, 11.37516356, 11.37516356,\n",
       "       11.37516356, 11.37516356, 11.37516356, 11.37516356, 11.37516356,\n",
       "       11.37516356, 11.37516356, 11.37516356, 11.37516356, 11.37516356,\n",
       "       11.37516356, 11.37516356, 11.37516356, 11.37516356, 11.37516356,\n",
       "       11.37516356, 11.37516356, 11.37516356, 11.37516356, 11.37516356,\n",
       "       11.37516356, 11.37516356, 11.37516356, 11.37516356, 11.37516356,\n",
       "       11.37516356, 11.37516356, 11.37516356, 11.37516356, 11.37516356,\n",
       "       11.37516356, 11.37516356, 11.37516356, 11.37516356, 11.37516356,\n",
       "       11.37516356, 11.37516356, 11.37516356, 11.37516356, 11.37516356,\n",
       "       11.37516356, 11.37516356, 11.37516356, 11.37516356, 11.37516356,\n",
       "       11.37516356, 11.37516356, 11.37516356, 11.37516356, 11.37516356,\n",
       "       11.37516356, 11.37516356, 11.37516356, 11.37516356, 11.37516356,\n",
       "       11.37516356, 11.37516356, 11.37516356, 11.37516356, 11.37516356,\n",
       "       11.37516356, 11.37516356, 11.37516356, 11.37516356, 11.37516356,\n",
       "       11.37516356, 11.37516356])"
      ]
     },
     "execution_count": 45,
     "metadata": {},
     "output_type": "execute_result"
    }
   ],
   "source": [
    "comparison = np.full(len(y_test), avg_val)\n",
    "comparison"
   ]
  },
  {
   "cell_type": "code",
   "execution_count": 46,
   "metadata": {},
   "outputs": [
    {
     "data": {
      "text/plain": [
       "1.6567980320525348"
      ]
     },
     "execution_count": 46,
     "metadata": {},
     "output_type": "execute_result"
    }
   ],
   "source": [
    "sqrt(metrics.mean_squared_error(y_test, comparison))"
   ]
  },
  {
   "cell_type": "code",
   "execution_count": 47,
   "metadata": {},
   "outputs": [
    {
     "data": {
      "text/plain": [
       "array([ 9.83204452, 11.31781841, 11.98084534, 12.10922819, 12.63643157,\n",
       "       11.06789307, 11.20839524, 12.33950712, 12.84136739, 12.85016466,\n",
       "        9.12161772, 11.66473847,  8.76361948, 11.27521671, 12.17231523,\n",
       "       10.62574024, 10.55816961,  8.73621649, 12.54196136, 12.4774482 ,\n",
       "        9.51318554, 10.61682006, 12.19615035, 12.41789645, 10.43326538,\n",
       "       11.91902962, 11.64165602, 11.87076934, 11.1390283 ,  9.20583895,\n",
       "       10.05570404,  8.62260878, 12.10424079, 12.0153048 ,  9.45633116,\n",
       "       12.01978739, 10.4588772 , 12.49128621, 12.00094537, 13.16498292,\n",
       "       11.71672326, 12.35681044, 12.77437946, 10.25248925, 12.23980066,\n",
       "       11.97417922, 11.27532846,  9.59676293,  8.80890189,  8.80067785,\n",
       "       11.09968248, 10.02781202, 14.31814494, 10.82637694, 12.66596472,\n",
       "        9.56784756, 11.27313832, 14.06492558, 14.805679  , 14.08262527,\n",
       "        9.51341536, 11.24235383, 15.19674286, 10.19062321,  8.24090343,\n",
       "       10.93525995, 11.33799182, 13.62335866, 11.93579072,  8.97988226,\n",
       "       13.6025731 , 12.32771912, 11.34397727, 13.11604514,  9.42817721,\n",
       "       12.0566518 , 11.70599119,  9.97817174, 14.56149718, 12.51807804,\n",
       "        9.83230196, 12.58180426, 13.1851092 , 11.35438781, 12.73229797,\n",
       "       10.07973772,  9.68613691,  8.71168737, 12.27301138, 11.15040484,\n",
       "       10.74890818,  7.56556203,  8.4606919 , 11.07170728,  9.15653737,\n",
       "       12.40175271, 12.56089186, 12.40761246, 11.57375223, 14.10091659,\n",
       "        8.28522706, 13.14172472, 12.30108543, 10.89193276, 12.64528775,\n",
       "       11.90648397,  9.26795566,  9.30556096,  9.48468566, 10.20652518,\n",
       "        8.79841538,  8.52886983, 11.05381731,  9.41979098, 12.65871052,\n",
       "       11.52520035,  9.25663182, 12.20612002, 12.43227636, 11.9917916 ,\n",
       "       13.20828442,  8.52158135, 10.92411071, 10.40902835, 11.88879724,\n",
       "       11.49859254, 13.19842613,  8.62272906, 11.48106074, 13.67957215,\n",
       "        9.39957727, 11.53028372,  8.90894163, 11.19792277,  9.11955546,\n",
       "       12.0668369 , 13.81310855, 13.04116605, 12.3686528 , 14.5976352 ,\n",
       "       12.16251897, 14.05105783, 11.98720665, 11.60045217, 10.22881653,\n",
       "       10.29614221,  9.58177726, 13.5838021 ,  7.81677394, 12.69326296,\n",
       "       12.57713953,  8.60244041])"
      ]
     },
     "execution_count": 47,
     "metadata": {},
     "output_type": "execute_result"
    }
   ],
   "source": [
    "y_pred"
   ]
  },
  {
   "cell_type": "code",
   "execution_count": 48,
   "metadata": {},
   "outputs": [
    {
     "data": {
      "image/png": "[encoded data removed]",
      "text/plain": [
       "<Figure size 864x936 with 1 Axes>"
      ]
     },
     "metadata": {
      "needs_background": "light"
     },
     "output_type": "display_data"
    }
   ],
   "source": [
    "plt.figure(figsize = (12,13))\n",
    "sns.regplot(x=y_pred, y=y_test);"
   ]
  },
  {
   "cell_type": "code",
   "execution_count": 49,
   "metadata": {},
   "outputs": [
    {
     "name": "stderr",
     "output_type": "stream",
     "text": [
      "/Library/Frameworks/Python.framework/Versions/3.7/lib/python3.7/site-packages/ipykernel_launcher.py:1: SettingWithCopyWarning: \n",
      "A value is trying to be set on a copy of a slice from a DataFrame.\n",
      "Try using .loc[row_indexer,col_indexer] = value instead\n",
      "\n",
      "See the caveats in the documentation: http://pandas.pydata.org/pandas-docs/stable/user_guide/indexing.html#returning-a-view-versus-a-copy\n",
      "  \"\"\"Entry point for launching an IPython kernel.\n"
     ]
    }
   ],
   "source": [
    "apple_stock['ticker'] = apple['ticker']"
   ]
  },
  {
   "cell_type": "code",
   "execution_count": 50,
   "metadata": {},
   "outputs": [
    {
     "data": {
      "text/html": [
       "<div>\n",
       "<style scoped>\n",
       "    .dataframe tbody tr th:only-of-type {\n",
       "        vertical-align: middle;\n",
       "    }\n",
       "\n",
       "    .dataframe tbody tr th {\n",
       "        vertical-align: top;\n",
       "    }\n",
       "\n",
       "    .dataframe thead th {\n",
       "        text-align: right;\n",
       "    }\n",
       "</style>\n",
       "<table border=\"1\" class=\"dataframe\">\n",
       "  <thead>\n",
       "    <tr style=\"text-align: right;\">\n",
       "      <th></th>\n",
       "      <th>Low</th>\n",
       "      <th>High</th>\n",
       "      <th>Open</th>\n",
       "      <th>SMA_5</th>\n",
       "      <th>Volume</th>\n",
       "      <th>daily_pct_chng</th>\n",
       "      <th>ticker</th>\n",
       "    </tr>\n",
       "  </thead>\n",
       "  <tbody>\n",
       "    <tr>\n",
       "      <td>206112</td>\n",
       "      <td>13.47</td>\n",
       "      <td>13.78</td>\n",
       "      <td>13.76</td>\n",
       "      <td>72.340</td>\n",
       "      <td>33326900.0</td>\n",
       "      <td>-0.006541</td>\n",
       "      <td>F</td>\n",
       "    </tr>\n",
       "    <tr>\n",
       "      <td>206113</td>\n",
       "      <td>13.42</td>\n",
       "      <td>14.01</td>\n",
       "      <td>13.50</td>\n",
       "      <td>57.552</td>\n",
       "      <td>30097000.0</td>\n",
       "      <td>0.036296</td>\n",
       "      <td>F</td>\n",
       "    </tr>\n",
       "    <tr>\n",
       "      <td>206114</td>\n",
       "      <td>13.90</td>\n",
       "      <td>14.27</td>\n",
       "      <td>14.12</td>\n",
       "      <td>42.804</td>\n",
       "      <td>38611900.0</td>\n",
       "      <td>0.004957</td>\n",
       "      <td>F</td>\n",
       "    </tr>\n",
       "    <tr>\n",
       "      <td>206115</td>\n",
       "      <td>14.15</td>\n",
       "      <td>14.44</td>\n",
       "      <td>14.19</td>\n",
       "      <td>27.998</td>\n",
       "      <td>27045900.0</td>\n",
       "      <td>0.008457</td>\n",
       "      <td>F</td>\n",
       "    </tr>\n",
       "    <tr>\n",
       "      <td>206116</td>\n",
       "      <td>14.46</td>\n",
       "      <td>14.75</td>\n",
       "      <td>14.49</td>\n",
       "      <td>14.250</td>\n",
       "      <td>33389600.0</td>\n",
       "      <td>0.017943</td>\n",
       "      <td>F</td>\n",
       "    </tr>\n",
       "  </tbody>\n",
       "</table>\n",
       "</div>"
      ],
      "text/plain": [
       "          Low   High   Open   SMA_5      Volume  daily_pct_chng ticker\n",
       "206112  13.47  13.78  13.76  72.340  33326900.0       -0.006541      F\n",
       "206113  13.42  14.01  13.50  57.552  30097000.0        0.036296      F\n",
       "206114  13.90  14.27  14.12  42.804  38611900.0        0.004957      F\n",
       "206115  14.15  14.44  14.19  27.998  27045900.0        0.008457      F\n",
       "206116  14.46  14.75  14.49  14.250  33389600.0        0.017943      F"
      ]
     },
     "execution_count": 50,
     "metadata": {},
     "output_type": "execute_result"
    }
   ],
   "source": [
    "apple_stock.head()"
   ]
  },
  {
   "cell_type": "code",
   "execution_count": null,
   "metadata": {},
   "outputs": [],
   "source": [
    "# # pickle final model\n",
    "# filename = open('AAPL_final_model.pkl', 'wb')\n",
    "# pickle.dump(apple_stock, filename)\n",
    "# filename.close()"
   ]
  },
  {
   "cell_type": "code",
   "execution_count": 51,
   "metadata": {},
   "outputs": [
    {
     "data": {
      "text/html": [
       "<div>\n",
       "<style scoped>\n",
       "    .dataframe tbody tr th:only-of-type {\n",
       "        vertical-align: middle;\n",
       "    }\n",
       "\n",
       "    .dataframe tbody tr th {\n",
       "        vertical-align: top;\n",
       "    }\n",
       "\n",
       "    .dataframe thead th {\n",
       "        text-align: right;\n",
       "    }\n",
       "</style>\n",
       "<table border=\"1\" class=\"dataframe\">\n",
       "  <thead>\n",
       "    <tr style=\"text-align: right;\">\n",
       "      <th></th>\n",
       "      <th>Low</th>\n",
       "      <th>High</th>\n",
       "      <th>Open</th>\n",
       "      <th>SMA_5</th>\n",
       "      <th>Volume</th>\n",
       "      <th>daily_pct_chng</th>\n",
       "    </tr>\n",
       "  </thead>\n",
       "  <tbody>\n",
       "    <tr>\n",
       "      <td>630</td>\n",
       "      <td>-0.273961</td>\n",
       "      <td>-0.067254</td>\n",
       "      <td>-0.301318</td>\n",
       "      <td>-0.154934</td>\n",
       "      <td>0.395935</td>\n",
       "      <td>3.394561</td>\n",
       "    </tr>\n",
       "    <tr>\n",
       "      <td>817</td>\n",
       "      <td>-2.271644</td>\n",
       "      <td>-2.174843</td>\n",
       "      <td>-2.125371</td>\n",
       "      <td>-1.187412</td>\n",
       "      <td>1.176337</td>\n",
       "      <td>-1.962396</td>\n",
       "    </tr>\n",
       "    <tr>\n",
       "      <td>949</td>\n",
       "      <td>-0.691658</td>\n",
       "      <td>-0.765769</td>\n",
       "      <td>-0.736192</td>\n",
       "      <td>-0.445619</td>\n",
       "      <td>-0.636100</td>\n",
       "      <td>0.362137</td>\n",
       "    </tr>\n",
       "    <tr>\n",
       "      <td>312</td>\n",
       "      <td>0.670398</td>\n",
       "      <td>0.625240</td>\n",
       "      <td>0.640908</td>\n",
       "      <td>0.325692</td>\n",
       "      <td>-1.129065</td>\n",
       "      <td>-0.203530</td>\n",
       "    </tr>\n",
       "    <tr>\n",
       "      <td>655</td>\n",
       "      <td>-0.140782</td>\n",
       "      <td>-0.115428</td>\n",
       "      <td>-0.095961</td>\n",
       "      <td>-0.090765</td>\n",
       "      <td>0.329650</td>\n",
       "      <td>-1.006556</td>\n",
       "    </tr>\n",
       "    <tr>\n",
       "      <td>244</td>\n",
       "      <td>0.428255</td>\n",
       "      <td>0.432545</td>\n",
       "      <td>0.435551</td>\n",
       "      <td>0.193504</td>\n",
       "      <td>-0.025714</td>\n",
       "      <td>-0.537464</td>\n",
       "    </tr>\n",
       "    <tr>\n",
       "      <td>174</td>\n",
       "      <td>1.088096</td>\n",
       "      <td>1.070844</td>\n",
       "      <td>1.087861</td>\n",
       "      <td>0.550283</td>\n",
       "      <td>-0.653221</td>\n",
       "      <td>-0.369231</td>\n",
       "    </tr>\n",
       "    <tr>\n",
       "      <td>23</td>\n",
       "      <td>2.099045</td>\n",
       "      <td>2.046357</td>\n",
       "      <td>2.060286</td>\n",
       "      <td>1.062351</td>\n",
       "      <td>-0.743631</td>\n",
       "      <td>0.211132</td>\n",
       "    </tr>\n",
       "    <tr>\n",
       "      <td>247</td>\n",
       "      <td>0.525112</td>\n",
       "      <td>0.450611</td>\n",
       "      <td>0.453670</td>\n",
       "      <td>0.193504</td>\n",
       "      <td>-1.157555</td>\n",
       "      <td>0.376719</td>\n",
       "    </tr>\n",
       "    <tr>\n",
       "      <td>514</td>\n",
       "      <td>0.428255</td>\n",
       "      <td>0.408459</td>\n",
       "      <td>0.375151</td>\n",
       "      <td>0.215963</td>\n",
       "      <td>-0.354620</td>\n",
       "      <td>0.907464</td>\n",
       "    </tr>\n",
       "  </tbody>\n",
       "</table>\n",
       "</div>"
      ],
      "text/plain": [
       "          Low      High      Open     SMA_5    Volume  daily_pct_chng\n",
       "630 -0.273961 -0.067254 -0.301318 -0.154934  0.395935        3.394561\n",
       "817 -2.271644 -2.174843 -2.125371 -1.187412  1.176337       -1.962396\n",
       "949 -0.691658 -0.765769 -0.736192 -0.445619 -0.636100        0.362137\n",
       "312  0.670398  0.625240  0.640908  0.325692 -1.129065       -0.203530\n",
       "655 -0.140782 -0.115428 -0.095961 -0.090765  0.329650       -1.006556\n",
       "244  0.428255  0.432545  0.435551  0.193504 -0.025714       -0.537464\n",
       "174  1.088096  1.070844  1.087861  0.550283 -0.653221       -0.369231\n",
       "23   2.099045  2.046357  2.060286  1.062351 -0.743631        0.211132\n",
       "247  0.525112  0.450611  0.453670  0.193504 -1.157555        0.376719\n",
       "514  0.428255  0.408459  0.375151  0.215963 -0.354620        0.907464"
      ]
     },
     "execution_count": 51,
     "metadata": {},
     "output_type": "execute_result"
    }
   ],
   "source": [
    "X_test.sample(10)"
   ]
  },
  {
   "cell_type": "code",
   "execution_count": 52,
   "metadata": {},
   "outputs": [
    {
     "data": {
      "text/plain": [
       "207050     9.84\n",
       "206742    11.33\n",
       "206794    11.99\n",
       "206626    12.12\n",
       "206477    12.65\n",
       "206767    11.06\n",
       "206768    11.21\n",
       "206641    12.33\n",
       "206433    12.85\n",
       "206182    12.85\n",
       "Name: Close, dtype: float64"
      ]
     },
     "execution_count": 52,
     "metadata": {},
     "output_type": "execute_result"
    }
   ],
   "source": [
    "y_test.head(10)"
   ]
  },
  {
   "cell_type": "code",
   "execution_count": 53,
   "metadata": {},
   "outputs": [
    {
     "name": "stdout",
     "output_type": "stream",
     "text": [
      "1008\n",
      "              Date   High    Low   Open  Close      Volume  Adj Close  \\\n",
      "206112  2015-10-01  13.78  13.47  13.76  13.67  33326900.0  10.466705   \n",
      "206113  2015-10-02  14.01  13.42  13.50  13.99  30097000.0  10.711719   \n",
      "206114  2015-10-05  14.27  13.90  14.12  14.19  38611900.0  10.864855   \n",
      "206115  2015-10-06  14.44  14.15  14.19  14.31  27045900.0  10.956734   \n",
      "206116  2015-10-07  14.75  14.46  14.49  14.75  33389600.0  11.293629   \n",
      "\n",
      "        HL_pct_diff  daily_pct_chng ticker   SMA_5  \n",
      "206112     0.023014       -0.006541      F  72.340  \n",
      "206113     0.043964        0.036296      F  57.552  \n",
      "206114     0.026619        0.004957      F  42.804  \n",
      "206115     0.020495        0.008457      F  27.998  \n",
      "206116     0.020055        0.017943      F  14.250  \n"
     ]
    }
   ],
   "source": [
    "stock_filter = apple.loc[apple['ticker']=='F']\n",
    "#stock_filter = top_5.loc[top_5['ticker']]\n",
    "print(len(stock_filter))\n",
    "print (stock_filter.head())"
   ]
  },
  {
   "cell_type": "code",
   "execution_count": 54,
   "metadata": {},
   "outputs": [
    {
     "data": {
      "text/plain": [
       "11.36143850334107"
      ]
     },
     "execution_count": 54,
     "metadata": {},
     "output_type": "execute_result"
    }
   ],
   "source": [
    "stock_filter['Close'].mean()"
   ]
  },
  {
   "cell_type": "code",
   "execution_count": 55,
   "metadata": {},
   "outputs": [
    {
     "name": "stdout",
     "output_type": "stream",
     "text": [
      "actual high 9.84000015258789\n",
      "predicted 10.0\n"
     ]
    }
   ],
   "source": [
    "print ('actual high', y_test[207050])\n",
    "print ('predicted', round(y_pred[0]))\n",
    "## talk to austin about this"
   ]
  },
  {
   "cell_type": "code",
   "execution_count": 56,
   "metadata": {},
   "outputs": [
    {
     "name": "stdout",
     "output_type": "stream",
     "text": [
      "10.0\n",
      "11.0\n",
      "12.0\n",
      "12.0\n",
      "13.0\n"
     ]
    }
   ],
   "source": [
    "# predict the y-values\n",
    "y_pred = mystock.predict(X_test)\n",
    "for i in y_pred[:5]:\n",
    "    print(round(i,0))"
   ]
  },
  {
   "cell_type": "code",
   "execution_count": 57,
   "metadata": {},
   "outputs": [
    {
     "name": "stdout",
     "output_type": "stream",
     "text": [
      "10.0\n",
      "11.0\n",
      "12.0\n",
      "12.0\n",
      "13.0\n"
     ]
    }
   ],
   "source": [
    "# How similar are those to the actual high prices?\n",
    "for i in y_test[:5]:\n",
    "    print(round(i,0))"
   ]
  },
  {
   "cell_type": "code",
   "execution_count": 58,
   "metadata": {},
   "outputs": [
    {
     "name": "stdout",
     "output_type": "stream",
     "text": [
      "0.0\n",
      "0.0\n",
      "0.0\n",
      "0.0\n",
      "0.0\n"
     ]
    }
   ],
   "source": [
    "# the residuals are the difference between true y values and predicted y values.\n",
    "residuals= y_test - y_pred\n",
    "for i in residuals[:5]:\n",
    "    print(round(i,0))"
   ]
  },
  {
   "cell_type": "code",
   "execution_count": 59,
   "metadata": {},
   "outputs": [
    {
     "data": {
      "image/png": "[encoded data removed]",
      "text/plain": [
       "<Figure size 864x936 with 1 Axes>"
      ]
     },
     "metadata": {
      "needs_background": "light"
     },
     "output_type": "display_data"
    }
   ],
   "source": [
    "# Use a scatter plot to compare our predictions to the actual values\n",
    "# Remember: when x==y, that indicates an accurate model! \n",
    "# Do we have that?\n",
    "plt.figure(figsize=(12, 13))\n",
    "sns.regplot(y_pred, y_test);"
   ]
  },
  {
   "cell_type": "code",
   "execution_count": 60,
   "metadata": {},
   "outputs": [
    {
     "name": "stderr",
     "output_type": "stream",
     "text": [
      "/Library/Frameworks/Python.framework/Versions/3.7/lib/python3.7/site-packages/ipykernel_launcher.py:1: SettingWithCopyWarning: \n",
      "A value is trying to be set on a copy of a slice from a DataFrame.\n",
      "Try using .loc[row_indexer,col_indexer] = value instead\n",
      "\n",
      "See the caveats in the documentation: http://pandas.pydata.org/pandas-docs/stable/user_guide/indexing.html#returning-a-view-versus-a-copy\n",
      "  \"\"\"Entry point for launching an IPython kernel.\n"
     ]
    }
   ],
   "source": [
    "apple_stock['ticker'] = apple['ticker']"
   ]
  },
  {
   "cell_type": "code",
   "execution_count": 61,
   "metadata": {},
   "outputs": [
    {
     "data": {
      "text/html": [
       "<div>\n",
       "<style scoped>\n",
       "    .dataframe tbody tr th:only-of-type {\n",
       "        vertical-align: middle;\n",
       "    }\n",
       "\n",
       "    .dataframe tbody tr th {\n",
       "        vertical-align: top;\n",
       "    }\n",
       "\n",
       "    .dataframe thead th {\n",
       "        text-align: right;\n",
       "    }\n",
       "</style>\n",
       "<table border=\"1\" class=\"dataframe\">\n",
       "  <thead>\n",
       "    <tr style=\"text-align: right;\">\n",
       "      <th></th>\n",
       "      <th>Low</th>\n",
       "      <th>High</th>\n",
       "      <th>Open</th>\n",
       "      <th>SMA_5</th>\n",
       "      <th>Volume</th>\n",
       "      <th>daily_pct_chng</th>\n",
       "      <th>ticker</th>\n",
       "    </tr>\n",
       "  </thead>\n",
       "  <tbody>\n",
       "    <tr>\n",
       "      <td>206112</td>\n",
       "      <td>13.47</td>\n",
       "      <td>13.78</td>\n",
       "      <td>13.76</td>\n",
       "      <td>72.340</td>\n",
       "      <td>33326900.0</td>\n",
       "      <td>-0.006541</td>\n",
       "      <td>F</td>\n",
       "    </tr>\n",
       "    <tr>\n",
       "      <td>206113</td>\n",
       "      <td>13.42</td>\n",
       "      <td>14.01</td>\n",
       "      <td>13.50</td>\n",
       "      <td>57.552</td>\n",
       "      <td>30097000.0</td>\n",
       "      <td>0.036296</td>\n",
       "      <td>F</td>\n",
       "    </tr>\n",
       "    <tr>\n",
       "      <td>206114</td>\n",
       "      <td>13.90</td>\n",
       "      <td>14.27</td>\n",
       "      <td>14.12</td>\n",
       "      <td>42.804</td>\n",
       "      <td>38611900.0</td>\n",
       "      <td>0.004957</td>\n",
       "      <td>F</td>\n",
       "    </tr>\n",
       "    <tr>\n",
       "      <td>206115</td>\n",
       "      <td>14.15</td>\n",
       "      <td>14.44</td>\n",
       "      <td>14.19</td>\n",
       "      <td>27.998</td>\n",
       "      <td>27045900.0</td>\n",
       "      <td>0.008457</td>\n",
       "      <td>F</td>\n",
       "    </tr>\n",
       "    <tr>\n",
       "      <td>206116</td>\n",
       "      <td>14.46</td>\n",
       "      <td>14.75</td>\n",
       "      <td>14.49</td>\n",
       "      <td>14.250</td>\n",
       "      <td>33389600.0</td>\n",
       "      <td>0.017943</td>\n",
       "      <td>F</td>\n",
       "    </tr>\n",
       "  </tbody>\n",
       "</table>\n",
       "</div>"
      ],
      "text/plain": [
       "          Low   High   Open   SMA_5      Volume  daily_pct_chng ticker\n",
       "206112  13.47  13.78  13.76  72.340  33326900.0       -0.006541      F\n",
       "206113  13.42  14.01  13.50  57.552  30097000.0        0.036296      F\n",
       "206114  13.90  14.27  14.12  42.804  38611900.0        0.004957      F\n",
       "206115  14.15  14.44  14.19  27.998  27045900.0        0.008457      F\n",
       "206116  14.46  14.75  14.49  14.250  33389600.0        0.017943      F"
      ]
     },
     "execution_count": 61,
     "metadata": {},
     "output_type": "execute_result"
    }
   ],
   "source": [
    "apple_stock.head()"
   ]
  },
  {
   "cell_type": "code",
   "execution_count": 62,
   "metadata": {},
   "outputs": [],
   "source": [
    "apple.to_csv('AAPL.csv')"
   ]
  },
  {
   "cell_type": "code",
   "execution_count": 63,
   "metadata": {},
   "outputs": [
    {
     "data": {
      "text/plain": [
       "LinearRegression(copy_X=True, fit_intercept=True, n_jobs=None, normalize=False)"
      ]
     },
     "execution_count": 63,
     "metadata": {},
     "output_type": "execute_result"
    }
   ],
   "source": [
    "file = open('/Users/germanportes/Documents/general_assembly/projects/final_project/F_final_model.pkl', 'rb')\n",
    "AAPL=pickle.load(file)\n",
    "file.close()\n",
    "AAPL"
   ]
  },
  {
   "cell_type": "code",
   "execution_count": null,
   "metadata": {},
   "outputs": [],
   "source": []
  }
 ],
 "metadata": {
  "kernelspec": {
   "display_name": "Python 3",
   "language": "python",
   "name": "python3"
  },
  "language_info": {
   "codemirror_mode": {
    "name": "ipython",
    "version": 3
   },
   "file_extension": ".py",
   "mimetype": "text/x-python",
   "name": "python",
   "nbconvert_exporter": "python",
   "pygments_lexer": "ipython3",
   "version": "3.7.4"
  }
 },
 "nbformat": 4,
 "nbformat_minor": 2
}
